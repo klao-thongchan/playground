{
 "cells": [
  {
   "cell_type": "code",
   "execution_count": null,
   "metadata": {},
   "outputs": [],
   "source": [
    "from locust import HttpUser, between, task\n",
    "\n",
    "class WebsiteUser(HttpUser):\n",
    "    wait_time = between(1, 5)\n",
    "\n",
    "    @task\n",
    "    def index_page(self):\n",
    "        self.client.get(\"/\")\n",
    "\n",
    "    @task(3)\n",
    "    def view_item(self):\n",
    "        for item_id in range(10):\n",
    "            self.client.get(f\"/item?id={item_id}\", name=\"/item\")\n",
    "\n",
    "    def on_start(self):\n",
    "        self.client.post(\"/login\", json={\"username\":\"test_user\", \"password\":\"secret\"})\n"
   ]
  },
  {
   "attachments": {},
   "cell_type": "markdown",
   "metadata": {},
   "source": [
    "locust -f load_test.py --host=https://www.example.com\n"
   ]
  }
 ],
 "metadata": {
  "language_info": {
   "name": "python"
  },
  "orig_nbformat": 4
 },
 "nbformat": 4,
 "nbformat_minor": 2
}
