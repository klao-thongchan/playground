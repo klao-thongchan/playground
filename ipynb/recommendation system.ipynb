{
 "cells": [
  {
   "cell_type": "code",
   "execution_count": null,
   "metadata": {},
   "outputs": [],
   "source": [
    "# Import the required libraries\n",
    "import pandas as pd\n",
    "from surprise import Reader, Dataset, SVD\n",
    "from surprise.model_selection import cross_validate\n",
    "\n",
    "# Load the Netflix data\n",
    "data = pd.read_csv('netflix_data.csv')\n",
    "\n",
    "# Set up the Surprise reader object\n",
    "reader = Reader(rating_scale=(1, 5))\n",
    "\n",
    "# Load the data into a Surprise Dataset object\n",
    "data = Dataset.load_from_df(data[['User-ID', 'Movie-ID', 'Rating']], reader)\n",
    "\n",
    "# Define the SVD algorithm with default parameters\n",
    "algo = SVD()\n",
    "\n",
    "# Evaluate the algorithm using cross-validation\n",
    "results = cross_validate(algo, data, measures=['RMSE', 'MAE'], cv=5, verbose=True)\n",
    "\n",
    "# Print the results\n",
    "print('RMSE:', results['test_rmse'].mean())\n",
    "print('MAE:', results['test_mae'].mean())"
   ]
  },
  {
   "attachments": {},
   "cell_type": "markdown",
   "metadata": {},
   "source": [
    "After importing the required libraries, we load the Netflix data from a CSV file using Pandas. The data should contain three columns: User-ID, Movie-ID, and Rating.\n",
    "\n",
    "Next, we set up a Reader object from the surprise library to specify the rating scale used in the data. In this case, the rating scale is from 1 to 5.\n",
    "\n",
    "We then load the data into a Dataset object from the surprise library using the load_from_df() method. This prepares the data for use with the surprise library's algorithms.\n",
    "\n",
    "Next, we define the SVD algorithm with its default parameters. The SVD algorithm is a matrix factorization technique commonly used for recommendation systems.\n",
    "\n",
    "We then evaluate the SVD algorithm using cross-validation with five folds. This evaluates the algorithm's performance on the data using both RMSE (root mean squared error) and MAE (mean absolute error) metrics.\n",
    "\n",
    "Finally, we print the mean RMSE and MAE scores from the cross-validation results.\n",
    "\n",
    "Note that this is a very simple example of a recommendation system for Netflix and may not produce accurate results without further customization and tuning. Also, you'll need to replace 'netflix_data.csv' with the name of your own data file."
   ]
  }
 ],
 "metadata": {
  "language_info": {
   "name": "python"
  },
  "orig_nbformat": 4
 },
 "nbformat": 4,
 "nbformat_minor": 2
}
