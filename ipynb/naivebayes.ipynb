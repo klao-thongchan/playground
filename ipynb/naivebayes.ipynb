{
 "cells": [
  {
   "cell_type": "code",
   "execution_count": null,
   "metadata": {},
   "outputs": [],
   "source": [
    "from sklearn.datasets import load_iris\n",
    "from sklearn.naive_bayes import GaussianNB\n",
    "from sklearn.model_selection import train_test_split\n",
    "from sklearn.metrics import accuracy_score\n",
    "\n",
    "# Load the iris dataset\n",
    "iris = load_iris()\n",
    "\n",
    "# Split the dataset into training and test sets\n",
    "X_train, X_test, y_train, y_test = train_test_split(iris.data, iris.target, test_size=0.3, random_state=0)\n",
    "\n",
    "# Create a Naive Bayes classifier\n",
    "clf = GaussianNB()\n",
    "\n",
    "# Train the classifier using the training data\n",
    "clf.fit(X_train, y_train)\n",
    "\n",
    "# Predict the classes for the test data\n",
    "y_pred = clf.predict(X_test)\n",
    "\n",
    "# Calculate the accuracy of the classifier\n",
    "accuracy = accuracy_score(y_test, y_pred)\n",
    "\n",
    "# Print the accuracy of the classifier\n",
    "print(\"Accuracy:\", accuracy)"
   ]
  },
  {
   "attachments": {},
   "cell_type": "markdown",
   "metadata": {},
   "source": [
    "In this example, we first import the necessary libraries: load_iris to load the iris dataset, GaussianNB to create a Naive Bayes classifier, train_test_split to split the dataset into training and test sets, and accuracy_score to calculate the accuracy of the classifier.\n",
    "\n",
    "Next, we load the iris dataset using load_iris() and split it into training and test sets using train_test_split().\n",
    "\n",
    "We then create a Gaussian Naive Bayes classifier using GaussianNB(). We train the classifier using the training data using the fit() method.\n",
    "\n",
    "We predict the classes for the test data using the predict() method and calculate the accuracy of the classifier using the accuracy_score() function.\n",
    "\n",
    "Finally, we print the accuracy of the classifier to the console."
   ]
  }
 ],
 "metadata": {
  "language_info": {
   "name": "python"
  },
  "orig_nbformat": 4
 },
 "nbformat": 4,
 "nbformat_minor": 2
}
