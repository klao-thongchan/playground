{
 "cells": [
  {
   "cell_type": "code",
   "execution_count": null,
   "metadata": {},
   "outputs": [],
   "source": [
    "import os \n",
    "import shutil\n",
    "import glob\n",
    "#return current working directory(cwd)\n",
    "cwd = os.getcwd()\n",
    "#change cwd location\n",
    "os.chdir('/Users/sammitiyadav/Desktop')\n",
    "#add a folder in the cwd \n",
    "os.mkdir('new folder')\n",
    "#delete folder from the cwd\n",
    "os.rmdir('new folder')\n",
    "#create paths without having to use slashes \n",
    "os.path.join(cwd, 'new folder')\n",
    "#check if the directory exists \n",
    "os.path.isdir(cwd) #returns true if it does and false otherwise\n",
    "#change paths(location) of a file \n",
    "#os.rename(old path, new path)\n",
    "os.rename('test.xlsx', os.path.join(cwd, 'new folder', 'test.xlsx'))\n",
    "shutil.move('test.xlsx', os.path.join(cwd, 'new folder', 'test.xlsx')) #performing same function with shutil module\n",
    "this is the path the file is moved to ---> '/Users/sammitiyadav/Desktop/new folder/test.xlsx'\n",
    "#copy files from one location to another\n",
    "shutil.copy('test.xlsx', os.path.join(cwd, 'new folder', 'test.xlsx'))\n",
    "#copy folder from one location to another \n",
    "shutil.copytree('new folder', 'old folder')\n",
    "#change paths(location) of the folder\n",
    "#os.renames(old path, new path)\n",
    "os.renames('new folder', 'new test folder')\n",
    "#returns list of all the files in a cwd\n",
    "files = glob.glob('*') "
   ]
  },
  {
   "cell_type": "code",
   "execution_count": null,
   "metadata": {},
   "outputs": [],
   "source": [
    "import os \n",
    "import shutil\n",
    "import glob\n",
    "class MoveFiles:\n",
    "  \n",
    "    def move_files(self):\n",
    "        os.chdir('/Users/sammitiyadav/Desktop/Project')\n",
    "        cwd = os.getcwd()\n",
    "        print(cwd)\n",
    "        files = glob.glob('*.xlsx')\n",
    "        print(files)\n",
    "        for file in files:\n",
    "            name = name = file.split('.')[-2]\n",
    "            if (os.path.isdir(name)) == False:\n",
    "                os.mkdir(name)\n",
    "            shutil.move(file, os.path.join(cwd, name, file))\n",
    "        \n",
    "if __name__ == '__main__': \n",
    "        \n",
    "        move_obj = MoveFiles()\n",
    "        move_obj.move_files()"
   ]
  }
 ],
 "metadata": {
  "kernelspec": {
   "display_name": "Python 3.10.5 64-bit",
   "language": "python",
   "name": "python3"
  },
  "language_info": {
   "name": "python",
   "version": "3.10.5"
  },
  "orig_nbformat": 4,
  "vscode": {
   "interpreter": {
    "hash": "aee8b7b246df8f9039afb4144a1f6fd8d2ca17a180786b69acc140d282b71a49"
   }
  }
 },
 "nbformat": 4,
 "nbformat_minor": 2
}
