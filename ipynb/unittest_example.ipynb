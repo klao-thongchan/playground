{
 "cells": [
  {
   "cell_type": "code",
   "execution_count": null,
   "metadata": {
    "vscode": {
     "languageId": "r"
    }
   },
   "outputs": [],
   "source": [
    "import unittest\n",
    "\n",
    "# The function to be tested\n",
    "def square(x):\n",
    "    return x * x\n",
    "\n",
    "# A test case for the function\n",
    "class SquareTestCase(unittest.TestCase):\n",
    "\n",
    "    def test_square_positive_number(self):\n",
    "        self.assertEqual(square(2), 4)\n",
    "\n",
    "    def test_square_negative_number(self):\n",
    "        self.assertEqual(square(-3), 9)\n",
    "\n",
    "    def test_square_zero(self):\n",
    "        self.assertEqual(square(0), 0)\n",
    "\n",
    "if __name__ == '__main__':\n",
    "    unittest.main()\n"
   ]
  }
 ],
 "metadata": {
  "kernelspec": {
   "display_name": "R",
   "language": "R",
   "name": "ir"
  },
  "language_info": {
   "name": "R"
  },
  "orig_nbformat": 4
 },
 "nbformat": 4,
 "nbformat_minor": 2
}
