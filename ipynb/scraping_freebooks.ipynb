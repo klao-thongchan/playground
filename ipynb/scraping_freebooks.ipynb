{
 "cells": [
  {
   "cell_type": "markdown",
   "metadata": {},
   "source": [
    "reference: https://medium.com/bitgrit-data-science-publication/scraping-100-free-data-science-books-with-python-5b5c515033a7"
   ]
  },
  {
   "cell_type": "markdown",
   "metadata": {},
   "source": [
    "target website: https://www.learndatasci.com/"
   ]
  },
  {
   "cell_type": "markdown",
   "metadata": {},
   "source": [
    "what we get from inspection:\n",
    "\n",
    "- `<div class=“star-ratings”>` — Goodreads rating and amount of ratings\n",
    "- `<div class=“book-cats”>` — Book category\n",
    "- `<h2>` — Book title\n",
    "- `<div class=“meta-auth”>` — author name, year\n",
    "- `<p>` — book description\n",
    "- `<a class=”btn”.. >` — book link and amazon review link \n"
   ]
  },
  {
   "cell_type": "code",
   "execution_count": 1,
   "metadata": {},
   "outputs": [],
   "source": [
    "# web scraping libraries\n",
    "from urllib.request import urlopen # open urls\n",
    "from bs4 import BeautifulSoup # extract data from html files\n",
    "\n",
    "# ds libraries\n",
    "import pandas as pd\n",
    "import numpy as np\n",
    "import matplotlib.pyplot as plt\n",
    "import seaborn as sns\n",
    "import datetime as dt\n",
    "\n",
    "sns.set_theme(style=\"whitegrid\")\n",
    "plt.rcParams[\"figure.figsize\"] = (12, 8) # default plot size\n",
    "\n",
    "# regex\n",
    "import re\n",
    "\n",
    "# word cloud\n",
    "#from wordcloud import WordCloud, STOPWORDS\n",
    "\n",
    "# interactive tables on google colab\n",
    "#from google.colab import data_table"
   ]
  },
  {
   "cell_type": "markdown",
   "metadata": {},
   "source": [
    "- urllib.request — used to open our website and return HTML data.\n",
    "- bs4 — Beautiful soup library, the star of the show, helps us extract the right data from HTML.\n",
    "- wordcloud — create word cloud plots for our text data analysis\n",
    "- re — python regular expression library"
   ]
  },
  {
   "cell_type": "code",
   "execution_count": 1,
   "metadata": {},
   "outputs": [
    {
     "ename": "NameError",
     "evalue": "name 'urlopen' is not defined",
     "output_type": "error",
     "traceback": [
      "\u001b[1;31m---------------------------------------------------------------------------\u001b[0m",
      "\u001b[1;31mNameError\u001b[0m                                 Traceback (most recent call last)",
      "\u001b[1;32m\\klaodevilz\\playground\\ipynb\\scraping_freebooks.ipynb Cell 6'\u001b[0m in \u001b[0;36m<cell line: 4>\u001b[1;34m()\u001b[0m\n\u001b[0;32m      <a href='vscode-notebook-cell://github/klaodevilz/playground/ipynb/scraping_freebooks.ipynb#ch0000005vscode-vfs?line=0'>1</a>\u001b[0m url \u001b[39m=\u001b[39m \u001b[39m\"\u001b[39m\u001b[39mhttps://www.learndatasci.com/free-data-science-books/\u001b[39m\u001b[39m\"\u001b[39m\n\u001b[0;32m      <a href='vscode-notebook-cell://github/klaodevilz/playground/ipynb/scraping_freebooks.ipynb#ch0000005vscode-vfs?line=2'>3</a>\u001b[0m \u001b[39m# get html of page\u001b[39;00m\n\u001b[1;32m----> <a href='vscode-notebook-cell://github/klaodevilz/playground/ipynb/scraping_freebooks.ipynb#ch0000005vscode-vfs?line=3'>4</a>\u001b[0m html \u001b[39m=\u001b[39m urlopen(url)\n\u001b[0;32m      <a href='vscode-notebook-cell://github/klaodevilz/playground/ipynb/scraping_freebooks.ipynb#ch0000005vscode-vfs?line=5'>6</a>\u001b[0m \u001b[39m# create bs object\u001b[39;00m\n\u001b[0;32m      <a href='vscode-notebook-cell://github/klaodevilz/playground/ipynb/scraping_freebooks.ipynb#ch0000005vscode-vfs?line=6'>7</a>\u001b[0m \u001b[39m#soup = BeautifulSoup(html, 'lxml') # using lxml parser\u001b[39;00m\n\u001b[0;32m      <a href='vscode-notebook-cell://github/klaodevilz/playground/ipynb/scraping_freebooks.ipynb#ch0000005vscode-vfs?line=7'>8</a>\u001b[0m \u001b[39m# you will need pip install lxml\u001b[39;00m\n\u001b[0;32m      <a href='vscode-notebook-cell://github/klaodevilz/playground/ipynb/scraping_freebooks.ipynb#ch0000005vscode-vfs?line=8'>9</a>\u001b[0m \u001b[39m# OR\u001b[39;00m\n\u001b[0;32m     <a href='vscode-notebook-cell://github/klaodevilz/playground/ipynb/scraping_freebooks.ipynb#ch0000005vscode-vfs?line=9'>10</a>\u001b[0m soup \u001b[39m=\u001b[39m BeautifulSoup(html,  \u001b[39m\"\u001b[39m\u001b[39mhtml.parser\u001b[39m\u001b[39m\"\u001b[39m)\n",
      "\u001b[1;31mNameError\u001b[0m: name 'urlopen' is not defined"
     ]
    }
   ],
   "source": [
    "url = \"https://www.learndatasci.com/free-data-science-books/\"\n",
    "\n",
    "# get html of page\n",
    "html = urlopen(url)\n",
    "\n",
    "# create bs object\n",
    "soup = BeautifulSoup(html, 'lxml') # using lxml parser\n",
    "# you will need pip install lxml\n",
    "# OR\n",
    "#soup = BeautifulSoup(html,  \"html.parser\")\n",
    "\n",
    "\n",
    "# get title\n",
    "title = soup.title\n",
    "print(title.get_text())"
   ]
  },
  {
   "cell_type": "code",
   "execution_count": null,
   "metadata": {},
   "outputs": [],
   "source": [
    "books = soup.find_all('section', attrs={\"class\": \"\"}) # to prevent getting ad section\n",
    "\n",
    "book1 = books[0]\n",
    "print(book1.prettify())"
   ]
  },
  {
   "cell_type": "markdown",
   "metadata": {},
   "source": [
    "- soup.find() — first occurrence of class/tag\n",
    "- soup.find_all() — all occurrences of class/tag\n",
    "- soup.find().find() — searching within a class/tag\n",
    "- .get_text() — returns the text of the HTML tag\n",
    "- .prettify() — pretty output of HTML"
   ]
  },
  {
   "cell_type": "code",
   "execution_count": null,
   "metadata": {},
   "outputs": [],
   "source": [
    "rating = book1.find(class_='star-ratings').find('b').get_text()\n",
    "total_ratings = book1.find(class_='star-ratings').find('span').get_text()\n",
    "total_ratings = re.search(r'\\d+', total_ratings).group() # get numbers only\n",
    "book_cat = book1.find(class_='book-cats').get_text()\n",
    "title = book1.find('h2').get_text()\n",
    "author, year = book1.find(class_='meta-auth').find('b').get_text().split(', ')\n",
    "desc = book1.find('p').get_text()\n",
    "links = book1.find_all('a')\n",
    "book_link = links[0].get('href')\n",
    "review_link = links[1].get('href')\n",
    "\n",
    "print(f\"title: {title}\")\n",
    "print(f\"category: {book_cat}\")\n",
    "print(f\"author: {author}\")\n",
    "print(f\"year: {year}\")\n",
    "print(f\"rating: {rating}\")\n",
    "print(f\"total_ratings: {total_ratings}\")\n",
    "print(f\"description: {desc}\")\n",
    "print(f\"link: {book_link}\")\n",
    "print(f\"review link: {review_link}\")"
   ]
  },
  {
   "cell_type": "markdown",
   "metadata": {},
   "source": [
    "books without year and multiple authors"
   ]
  },
  {
   "cell_type": "code",
   "execution_count": null,
   "metadata": {},
   "outputs": [],
   "source": [
    "book7 = books[7] # book without year\n",
    "book35 = books[35] # book without year but multiple author\n",
    "book17 = books[17] # book with multiple authors\n",
    "\n",
    "print(book1.find(class_='meta-auth').find('b').get_text())\n",
    "print(book7.find(class_='meta-auth').find('b').get_text())\n",
    "print(book35.find(class_='meta-auth').find('b').get_text())\n",
    "print(book17.find(class_='meta-auth').find('b').get_text())"
   ]
  },
  {
   "cell_type": "code",
   "execution_count": null,
   "metadata": {},
   "outputs": [],
   "source": [
    "# author = book1.find(class_='meta-auth').find('b').get_text()\n",
    "# author = book7.find(class_='meta-auth').find('b').get_text()\n",
    "author = book17.find(class_='meta-auth').find('b').get_text()\n",
    "author = book35.find(class_='meta-auth').find('b').get_text()\n",
    "\n",
    "# some books don't have year and has multiple authors\n",
    "if (re.search(r'\\d+', author) != None):\n",
    "  author_year = author.split(\", \")\n",
    "  author = \", \".join(str for str in author_year[:-1])\n",
    "  year = author_year[-1]\n",
    "else:\n",
    "  year = None\n",
    "\n",
    "print(author)\n",
    "print(year)"
   ]
  },
  {
   "cell_type": "markdown",
   "metadata": {},
   "source": [
    "books without rating"
   ]
  },
  {
   "cell_type": "code",
   "execution_count": null,
   "metadata": {},
   "outputs": [],
   "source": [
    "book23 = books[23] # book without rating\n",
    "\n",
    "print(book1.find(class_='star-ratings').prettify())\n",
    "print()\n",
    "print(book23.find(class_='star-ratings').prettify())"
   ]
  },
  {
   "cell_type": "code",
   "execution_count": null,
   "metadata": {},
   "outputs": [],
   "source": [
    "# rating = book1.find(class_='star-ratings').find('b')\n",
    "# total_ratings = book1.find(class_='star-ratings').find('span')\n",
    "rating = book23.find(class_='star-ratings').find('b')\n",
    "total_ratings = book23.find(class_='star-ratings').find('span')\n",
    "\n",
    "# some books don't have ratings\n",
    "if (rating != None and total_ratings != None):\n",
    "  rating = rating.get_text()\n",
    "  total_ratings = total_ratings.get_text()\n",
    "  total_ratings = re.search(r'\\d+', total_ratings).group()\n",
    "\n",
    "\n",
    "print(rating)\n",
    "print(total_ratings)"
   ]
  },
  {
   "cell_type": "markdown",
   "metadata": {},
   "source": [
    "books without review link"
   ]
  },
  {
   "cell_type": "code",
   "execution_count": null,
   "metadata": {},
   "outputs": [],
   "source": [
    "book8 = books[8] # book without review link\n",
    "\n",
    "print(len(book1.find_all('a')))\n",
    "print(len(book8.find_all('a')))"
   ]
  },
  {
   "cell_type": "code",
   "execution_count": null,
   "metadata": {},
   "outputs": [],
   "source": [
    "links = book8.find_all('a')\n",
    "book_link = links[0].get('href')\n",
    "\n",
    "if (len(links) == 2):\n",
    "  review_link = links[1].get('href')\n",
    "else:\n",
    "  review_link = None\n",
    "  \n",
    "print(book_link)\n",
    "print(review_link)"
   ]
  },
  {
   "cell_type": "markdown",
   "metadata": {},
   "source": [
    "books without description"
   ]
  },
  {
   "cell_type": "code",
   "execution_count": null,
   "metadata": {},
   "outputs": [],
   "source": [
    "book13 = books[13] # book without desc\n",
    "\n",
    "print(book1.find('p'))\n",
    "print(book13.find('p'))"
   ]
  },
  {
   "cell_type": "markdown",
   "metadata": {},
   "source": [
    "storing and building dataframe"
   ]
  },
  {
   "cell_type": "code",
   "execution_count": null,
   "metadata": {},
   "outputs": [],
   "source": [
    "title_list = []\n",
    "book_cat_list = []\n",
    "author_list = []\n",
    "year_list = []\n",
    "rating_list = []\n",
    "total_ratings_list = []\n",
    "description_list = []\n",
    "book_link_list = []\n",
    "review_link_list = []"
   ]
  },
  {
   "cell_type": "code",
   "execution_count": null,
   "metadata": {},
   "outputs": [],
   "source": [
    "def getInfo(book):\n",
    "\n",
    "  # get and add title data\n",
    "  title = book.find('h2')\n",
    "  title_list.append(title.get_text())\n",
    "\n",
    "  book_cat = book.find(class_='book-cats')\n",
    "  if book_cat != None:\n",
    "    book_cat = book_cat.get_text()\n",
    "\n",
    "  book_cat_list.append(book_cat)\n",
    "\n",
    "  # get author and year data\n",
    "  author = book.find(class_='meta-auth').find('b').get_text()\n",
    "\n",
    "  # some books don't have year and some books have multiple authors\n",
    "  if (re.search(r'\\d+', author) != None):\n",
    "    author_year = author.split(\", \")\n",
    "    author = \", \".join(str for str in author_year[:-1])\n",
    "    year = author_year[-1]\n",
    "  else:\n",
    "    year = None\n",
    "  \n",
    "  author_list.append(author)\n",
    "  year_list.append(year)\n",
    "\n",
    "  # get rating and total number of ratings\n",
    "  rating = book.find(class_='star-ratings').find('b')\n",
    "  total_ratings = book.find(class_='star-ratings').find('span')\n",
    "\n",
    "  # some books don't have ratings\n",
    "  if (rating != None and total_ratings != None):\n",
    "    rating = rating.get_text()\n",
    "    total_ratings = total_ratings.get_text()\n",
    "    total_ratings = re.search(r'\\d+', total_ratings).group() # get numbers only\n",
    "\n",
    "  rating_list.append(rating)\n",
    "  total_ratings_list.append(total_ratings)\n",
    "\n",
    "  # get description\n",
    "  desc = book.find('p')\n",
    "\n",
    "  # books without description\n",
    "  if (desc != None):\n",
    "    desc = desc.get_text()\n",
    "\n",
    "  description_list.append(desc)\n",
    "\n",
    "  # get book links and review links\n",
    "  links = book.find_all('a')\n",
    "  \n",
    "  book_link = links[0].get('href')\n",
    "  book_link_list.append(book_link)\n",
    "\n",
    "  # Some books don't have links\n",
    "  if (len(links) == 2):\n",
    "    review_link = links[1].get('href')\n",
    "  else:\n",
    "    review_link = None\n",
    "\n",
    "  review_link_list.append(review_link)"
   ]
  },
  {
   "cell_type": "code",
   "execution_count": null,
   "metadata": {},
   "outputs": [],
   "source": [
    "for book in books:\n",
    "  getInfo(book)"
   ]
  },
  {
   "cell_type": "code",
   "execution_count": null,
   "metadata": {},
   "outputs": [],
   "source": [
    "df_books = pd.DataFrame({\n",
    "    \"title\": title_list,\n",
    "    \"book_cat\" : book_cat_list,\n",
    "    \"author\": author_list,\n",
    "    \"year\": year_list,\n",
    "    \"rating\": rating_list, \n",
    "    \"total_ratings\": total_ratings_list,\n",
    "    \"description\": description_list,\n",
    "    \"book_link\": book_link_list,\n",
    "    \"review_link\":review_link_list\n",
    "})\n",
    "df_books.head()"
   ]
  },
  {
   "cell_type": "code",
   "execution_count": null,
   "metadata": {},
   "outputs": [],
   "source": [
    "df_books.info()"
   ]
  },
  {
   "cell_type": "markdown",
   "metadata": {},
   "source": [
    "data cleaning\n",
    "\n",
    "What can we do to replace these missing values? Here’s what I thought of:\n",
    "- book_cat — check the book, and impute it ourselves manually since it’s only one book\n",
    "- year — leave it empty for now\n",
    "- rating — replace with 0.0\n",
    "- total_ratings — replace with 0\n",
    "- description & review_link — replace with \"None\""
   ]
  },
  {
   "cell_type": "code",
   "execution_count": null,
   "metadata": {},
   "outputs": [],
   "source": [
    "df_books.isnull().sum()"
   ]
  },
  {
   "cell_type": "code",
   "execution_count": null,
   "metadata": {},
   "outputs": [],
   "source": [
    "df_books[df_books['book_cat'].isnull()]"
   ]
  },
  {
   "cell_type": "code",
   "execution_count": null,
   "metadata": {},
   "outputs": [],
   "source": [
    "df_books['book_cat'].unique()"
   ]
  },
  {
   "cell_type": "code",
   "execution_count": null,
   "metadata": {},
   "outputs": [],
   "source": [
    "df_books.fillna({'rating': '0.0'}, inplace=True)\n",
    "df_books.fillna({'total_ratings':'0'}, inplace=True)\n",
    "df_books.fillna({'book_cat': 'Artificial Intelligence'}, inplace=True)\n",
    "df_books.fillna({'description':'None'}, inplace=True)\n",
    "df_books.fillna({'review_link':'None'}, inplace=True)\n",
    "df_books.isnull().sum()"
   ]
  },
  {
   "cell_type": "markdown",
   "metadata": {},
   "source": [
    "data transformation\n",
    "\n",
    "- year -> datetime\n",
    "- rating -> float\n",
    "- total_rating -> integer"
   ]
  },
  {
   "cell_type": "code",
   "execution_count": null,
   "metadata": {},
   "outputs": [],
   "source": [
    "# data transformation\n",
    "df_books = df_books.convert_dtypes() # convert all to string\n",
    "\n",
    "# convert to datetime\n",
    "df_books['year'] = df_books['year'].astype('Int64')\n",
    "df_books['rating'] = df_books['rating'].astype('float64')\n",
    "df_books['total_ratings'] = df_books['total_ratings'].astype('Int64')\n",
    "\n",
    "df_books.dtypes"
   ]
  },
  {
   "cell_type": "markdown",
   "metadata": {},
   "source": [
    "<h2> Exploratory Data Analysis"
   ]
  },
  {
   "cell_type": "code",
   "execution_count": null,
   "metadata": {},
   "outputs": [],
   "source": [
    "from wordcloud import WordCloud, STOPWORDS\n",
    "\n",
    "def plot_wordcloud(text, file_name, stopwords_list=[], max_words = 500):\n",
    "  # create stopword list\n",
    "  stopwords = set(STOPWORDS)\n",
    "  stopwords.update(stopwords_list)\n",
    "\n",
    "  # generate word cloud \n",
    "  wordcloud = WordCloud(width=1000, height = 600,\n",
    "                        stopwords=stopwords,\n",
    "                        max_words = max_words,\n",
    "                        background_color=\"white\").generate(text)\n",
    "\n",
    "  # generate plot\n",
    "  wordcloud.to_file(file_name + \".png\");\n",
    "\n",
    "  # Display the generated image:\n",
    "\n",
    "  plt.figure(figsize=(12,8))\n",
    "  plt.imshow(wordcloud, interpolation='bilinear')\n",
    "  plt.axis(\"off\");"
   ]
  },
  {
   "cell_type": "markdown",
   "metadata": {},
   "source": [
    "word cloud of book titles"
   ]
  },
  {
   "cell_type": "code",
   "execution_count": null,
   "metadata": {},
   "outputs": [],
   "source": [
    "text = \" \".join(title for title in df_books.title)\n",
    "print(\"There are {} words in the combination of all titles.\".format(len(set(text.split(\" \")))))"
   ]
  },
  {
   "cell_type": "code",
   "execution_count": null,
   "metadata": {},
   "outputs": [],
   "source": [
    "plot_wordcloud(text, \"100ds_titles\")"
   ]
  },
  {
   "cell_type": "code",
   "execution_count": null,
   "metadata": {},
   "outputs": [],
   "source": [
    "text = \" \".join(desc for desc in df_books.description)\n",
    "print(\"There are {} words in the combination of all description.\".format(len(set(text.split(\" \")))))"
   ]
  },
  {
   "cell_type": "code",
   "execution_count": null,
   "metadata": {},
   "outputs": [],
   "source": [
    "plot_wordcloud(text, \"100ds_book_descriptions\", ['None'], 1000) # add None to stopwords"
   ]
  },
  {
   "cell_type": "code",
   "execution_count": null,
   "metadata": {},
   "outputs": [],
   "source": [
    "# Book category hist\n",
    "\n",
    "sns.histplot(data=df_books, y='book_cat', discrete=True);"
   ]
  },
  {
   "cell_type": "code",
   "execution_count": null,
   "metadata": {},
   "outputs": [],
   "source": [
    "# Boook year\n",
    "\n",
    "sns.histplot(data=df_books, x='year', discrete=True);"
   ]
  },
  {
   "cell_type": "code",
   "execution_count": null,
   "metadata": {},
   "outputs": [],
   "source": [
    "# Book rating and total rating\n",
    "\n",
    "df_books[['rating', 'total_ratings']].describe()"
   ]
  },
  {
   "cell_type": "code",
   "execution_count": null,
   "metadata": {},
   "outputs": [],
   "source": [
    "fig, axes = plt.subplots(2)\n",
    "\n",
    "sns.histplot(data=df_books, x='rating', discrete=True, ax = axes[0]);\n",
    "sns.histplot(data=df_books, x='total_ratings', ax = axes[1]);"
   ]
  },
  {
   "cell_type": "code",
   "execution_count": null,
   "metadata": {},
   "outputs": [],
   "source": [
    "fig, axes = plt.subplots(2)\n",
    "\n",
    "sns.boxplot(x=df_books['rating'], ax = axes[0]);\n",
    "sns.boxplot(x=df_books['total_ratings'], ax = axes[1]);"
   ]
  },
  {
   "cell_type": "code",
   "execution_count": null,
   "metadata": {},
   "outputs": [],
   "source": [
    "sns.stripplot(x='rating', y = 'total_ratings', data=df_books, \n",
    "              linewidth=1, size = 15, alpha=.50, palette = \"deep\");"
   ]
  },
  {
   "cell_type": "markdown",
   "metadata": {},
   "source": [
    "<h3> which book to read?"
   ]
  },
  {
   "cell_type": "code",
   "execution_count": null,
   "metadata": {},
   "outputs": [],
   "source": [
    "df_books[(df_books['total_ratings'] > 1500) & (df_books['rating'] > 4.0)].iloc[:, :6]"
   ]
  },
  {
   "cell_type": "markdown",
   "metadata": {},
   "source": [
    "<h4> top 10"
   ]
  },
  {
   "cell_type": "code",
   "execution_count": null,
   "metadata": {},
   "outputs": [],
   "source": [
    "df_books.sort_values(by=['total_ratings'], ascending=False)[:10].iloc[:, :6]"
   ]
  },
  {
   "cell_type": "code",
   "execution_count": null,
   "metadata": {},
   "outputs": [],
   "source": [
    "df_books.sort_values(by=['rating', 'total_ratings'], ascending=False)[:10].iloc[:, :6]"
   ]
  }
 ],
 "metadata": {
  "interpreter": {
   "hash": "89a8cfedefd405a11d6bfa4a37e16a840bca1c40d5ba9902a9fc9c9614fd8e61"
  },
  "kernelspec": {
   "display_name": "Python 3.9.12 64-bit (windows store)",
   "language": "python",
   "name": "python3"
  },
  "language_info": {
   "codemirror_mode": {
    "name": "ipython",
    "version": 3
   },
   "file_extension": ".py",
   "mimetype": "text/x-python",
   "name": "python",
   "nbconvert_exporter": "python",
   "pygments_lexer": "ipython3",
   "version": "3.9.12"
  },
  "orig_nbformat": 4
 },
 "nbformat": 4,
 "nbformat_minor": 2
}
