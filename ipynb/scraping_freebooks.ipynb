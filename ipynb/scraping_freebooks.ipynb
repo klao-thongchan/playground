{
 "cells": [
  {
   "cell_type": "markdown",
   "metadata": {},
   "source": [
    "reference: https://medium.com/bitgrit-data-science-publication/scraping-100-free-data-science-books-with-python-5b5c515033a7"
   ]
  },
  {
   "cell_type": "markdown",
   "metadata": {},
   "source": [
    "target website: https://www.learndatasci.com/"
   ]
  },
  {
   "cell_type": "markdown",
   "metadata": {},
   "source": [
    "what we get from inspection:\n",
    "\n",
    "- `<div class=“star-ratings”>` — Goodreads rating and amount of ratings\n",
    "- `<div class=“book-cats”>` — Book category\n",
    "- `<h2>` — Book title\n",
    "- `<div class=“meta-auth”>` — author name, year\n",
    "- `<p>` — book description\n",
    "- `<a class=”btn”.. >` — book link and amazon review link \n"
   ]
  },
  {
   "cell_type": "code",
   "execution_count": 1,
   "metadata": {},
   "outputs": [],
   "source": [
    "# web scraping libraries\n",
    "from urllib.request import urlopen # open urls\n",
    "from bs4 import BeautifulSoup # extract data from html files\n",
    "\n",
    "# ds libraries\n",
    "import pandas as pd\n",
    "import numpy as np\n",
    "import matplotlib.pyplot as plt\n",
    "import seaborn as sns\n",
    "import datetime as dt\n",
    "\n",
    "sns.set_theme(style=\"whitegrid\")\n",
    "plt.rcParams[\"figure.figsize\"] = (12, 8) # default plot size\n",
    "\n",
    "# regex\n",
    "import re\n",
    "\n",
    "# word cloud\n",
    "#from wordcloud import WordCloud, STOPWORDS\n",
    "\n",
    "# interactive tables on google colab\n",
    "#from google.colab import data_table"
   ]
  },
  {
   "cell_type": "markdown",
   "metadata": {},
   "source": [
    "- urllib.request — used to open our website and return HTML data.\n",
    "- bs4 — Beautiful soup library, the star of the show, helps us extract the right data from HTML.\n",
    "- wordcloud — create word cloud plots for our text data analysis\n",
    "- re — python regular expression library"
   ]
  },
  {
   "cell_type": "code",
   "execution_count": 3,
   "metadata": {},
   "outputs": [
    {
     "name": "stdout",
     "output_type": "stream",
     "text": [
      "100+ Free Data Science Books – LearnDataSci\n"
     ]
    }
   ],
   "source": [
    "url = \"https://www.learndatasci.com/free-data-science-books/\"\n",
    "\n",
    "# get html of page\n",
    "html = urlopen(url)\n",
    "\n",
    "# create bs object\n",
    "soup = BeautifulSoup(html, 'lxml') # using lxml parser\n",
    "# you will need pip install lxml\n",
    "# OR\n",
    "#soup = BeautifulSoup(html,  \"html.parser\")\n",
    "\n",
    "\n",
    "# get title\n",
    "title = soup.title\n",
    "print(title.get_text())"
   ]
  },
  {
   "cell_type": "code",
   "execution_count": null,
   "metadata": {},
   "outputs": [],
   "source": []
  }
 ],
 "metadata": {
  "interpreter": {
   "hash": "89a8cfedefd405a11d6bfa4a37e16a840bca1c40d5ba9902a9fc9c9614fd8e61"
  },
  "kernelspec": {
   "display_name": "Python 3.9.12 64-bit (windows store)",
   "language": "python",
   "name": "python3"
  },
  "language_info": {
   "codemirror_mode": {
    "name": "ipython",
    "version": 3
   },
   "file_extension": ".py",
   "mimetype": "text/x-python",
   "name": "python",
   "nbconvert_exporter": "python",
   "pygments_lexer": "ipython3",
   "version": "3.9.12"
  },
  "orig_nbformat": 4
 },
 "nbformat": 4,
 "nbformat_minor": 2
}
