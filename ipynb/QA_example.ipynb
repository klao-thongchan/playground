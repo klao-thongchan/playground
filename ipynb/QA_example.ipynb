{
 "cells": [
  {
   "cell_type": "code",
   "execution_count": null,
   "metadata": {},
   "outputs": [],
   "source": [
    "from selenium import webdriver\n",
    "\n",
    "# Launch a Chrome browser instance\n",
    "browser = webdriver.Chrome()\n",
    "\n",
    "# Navigate to the website being tested\n",
    "browser.get(\"https://www.example.com\")\n",
    "\n",
    "# Fill out a form on the website\n",
    "input_field = browser.find_element_by_name(\"username\")\n",
    "input_field.send_keys(\"testuser\")\n",
    "\n",
    "# Click a link on the website\n",
    "link = browser.find_element_by_link_text(\"Learn more\")\n",
    "link.click()\n",
    "\n",
    "# Verify that the expected behavior has occurred\n",
    "assert \"Example Domain\" in browser.title\n",
    "\n",
    "# Take a screenshot of the website\n",
    "browser.save_screenshot(\"screenshot.png\")\n",
    "\n",
    "# Close the browser\n",
    "browser.quit()\n"
   ]
  }
 ],
 "metadata": {
  "language_info": {
   "name": "python"
  },
  "orig_nbformat": 4
 },
 "nbformat": 4,
 "nbformat_minor": 2
}
