{
 "cells": [
  {
   "cell_type": "code",
   "execution_count": null,
   "metadata": {},
   "outputs": [],
   "source": [
    "# Importing required libraries\n",
    "import pandas as pd\n",
    "import numpy as np\n",
    "from sklearn.linear_model import LinearRegression\n",
    "\n",
    "# Reading in the dataset\n",
    "data = pd.read_csv('dataset.csv')\n",
    "\n",
    "# Defining the independent variables and the dependent variable\n",
    "X = data[['independent_var1', 'independent_var2', 'independent_var3']]\n",
    "Y = data['dependent_var']\n",
    "\n",
    "# Fitting the model\n",
    "regressor = LinearRegression()\n",
    "regressor.fit(X, Y)\n",
    "\n",
    "# Printing the coefficients\n",
    "print('Coefficients: \\n', regressor.coef_)\n",
    "\n",
    "# Predicting the values\n",
    "y_pred = regressor.predict(X)\n",
    "\n",
    "# Printing the predicted values\n",
    "print('Predicted values: \\n', y_pred)"
   ]
  }
 ],
 "metadata": {
  "kernelspec": {
   "display_name": "Python 3.10.10 64-bit (windows store)",
   "language": "python",
   "name": "python3"
  },
  "language_info": {
   "name": "python",
   "version": "3.10.10"
  },
  "orig_nbformat": 4,
  "vscode": {
   "interpreter": {
    "hash": "4e393e87d09720360b1b69865354fe84f16943cdd94bb559743b53de59b1c828"
   }
  }
 },
 "nbformat": 4,
 "nbformat_minor": 2
}
