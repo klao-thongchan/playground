{
 "cells": [
  {
   "cell_type": "code",
   "execution_count": null,
   "metadata": {},
   "outputs": [],
   "source": [
    "# Importing required libraries\n",
    "import pandas as pd\n",
    "from sklearn.model_selection import train_test_split\n",
    "from sklearn.linear_model import LogisticRegression\n",
    "from sklearn.metrics import accuracy_score\n",
    "\n",
    "# Reading in the dataset\n",
    "data = pd.read_csv('dataset.csv')\n",
    "\n",
    "# Defining the independent variables and the dependent variable\n",
    "X = data[['feature1', 'feature2', 'feature3']]\n",
    "Y = data['target_variable']\n",
    "\n",
    "# Splitting the data into training and testing sets\n",
    "X_train, X_test, Y_train, Y_test = train_test_split(X, Y, test_size=0.2, random_state=42)\n",
    "\n",
    "# Fitting the model on the training data\n",
    "classifier = LogisticRegression()\n",
    "classifier.fit(X_train, Y_train)\n",
    "\n",
    "# Predicting the values on the test data\n",
    "Y_pred = classifier.predict(X_test)\n",
    "\n",
    "# Calculating the accuracy of the model\n",
    "accuracy = accuracy_score(Y_test, Y_pred)\n",
    "print('Accuracy:', accuracy)"
   ]
  },
  {
   "attachments": {},
   "cell_type": "markdown",
   "metadata": {},
   "source": [
    "In this example, we first import the required libraries (pandas, train_test_split from sklearn.model_selection, LogisticRegression from sklearn.linear_model, and accuracy_score from sklearn.metrics). We then read in the dataset, define the independent and dependent variables, split the data into training and testing sets, fit the model on the training data, predict the values on the test data, and calculate the accuracy of the model. Note that you'll need to replace 'dataset.csv' with the name of your own dataset file, 'feature1', 'feature2', and 'feature3' with the names of your independent variables, and 'target_variable' with the name of your dependent variable."
   ]
  }
 ],
 "metadata": {
  "kernelspec": {
   "display_name": "Python 3.10.10 64-bit (windows store)",
   "language": "python",
   "name": "python3"
  },
  "language_info": {
   "name": "python",
   "version": "3.10.10"
  },
  "orig_nbformat": 4,
  "vscode": {
   "interpreter": {
    "hash": "4e393e87d09720360b1b69865354fe84f16943cdd94bb559743b53de59b1c828"
   }
  }
 },
 "nbformat": 4,
 "nbformat_minor": 2
}
