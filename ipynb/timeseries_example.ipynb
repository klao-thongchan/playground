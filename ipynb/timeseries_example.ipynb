{
 "cells": [
  {
   "cell_type": "code",
   "execution_count": null,
   "metadata": {},
   "outputs": [],
   "source": [
    "import pandas as pd\n",
    "import seaborn as sns"
   ]
  },
  {
   "cell_type": "code",
   "execution_count": null,
   "metadata": {},
   "outputs": [],
   "source": [
    "df = pd.read_csv(\"../input/time-series-datasets/Electric_Production.csv\")\n",
    "sns.lineplot(data=df,x='DATE', y='IPG2211A2N')py"
   ]
  },
  {
   "cell_type": "code",
   "execution_count": null,
   "metadata": {},
   "outputs": [],
   "source": [
    "from statsmodels.tsa.seasonal import seasonal_decompose\n",
    "decomposition = seasonal_decompose(x=df['IPG2211A2N'], model='additive', period = 12) \n",
    "decomposition.plot()"
   ]
  },
  {
   "cell_type": "code",
   "execution_count": null,
   "metadata": {},
   "outputs": [],
   "source": [
    "import statsmodels.api as sm\n",
    "sns.lineplot(x=df['DATE'], y=df['IPG2211A2N'], ax=subplot1)\n",
    "sm.graphics.tsa.plot_acf(df['IPG2211A2N'], lags=40, ax=subplot2) \n",
    "fig.show()\n"
   ]
  },
  {
   "cell_type": "code",
   "execution_count": null,
   "metadata": {},
   "outputs": [],
   "source": [
    "# remove trend component\n",
    "diff = df['IPG2211A2N'] – df['IPG2211A2N'].shift(1)\n",
    "diff = diff.dropna(inplace=False)"
   ]
  },
  {
   "cell_type": "code",
   "execution_count": null,
   "metadata": {},
   "outputs": [],
   "source": [
    "# ACF after trend differencing\n",
    "fig = plt.figure(figsize=(20, 10))\n",
    "subplot1 = fig.add_subplot(211)\n",
    "subplot2 = fig.add_subplot(212)\n",
    "sns.lineplot(x=df['DATE'], y=diff, ax=subplot1)\n",
    "sm.graphics.tsa.plot_acf(diff, lags=40, ax=subplot2) \n",
    "fig.show()"
   ]
  },
  {
   "cell_type": "code",
   "execution_count": null,
   "metadata": {},
   "outputs": [],
   "source": [
    "# remove seasonal component\n",
    "diff = df['IPG2211A2N'] – df['IPG2211A2N'].shift(1)\n",
    "seasonal_diff = diff – diff.shift(12)\n",
    "seasonal_diff = seasonal_diff.dropna(inplace=False)"
   ]
  },
  {
   "cell_type": "markdown",
   "metadata": {},
   "source": [
    "- ARMA: Autoregressive + Moving Average\n",
    "- ARIMA: Autoregressive + Moving Average + Trend Differencing\n",
    "- SARIMA: Autoregressive + Moving Average + Trend Differencing + Seasonal Differencing"
   ]
  },
  {
   "cell_type": "code",
   "execution_count": null,
   "metadata": {},
   "outputs": [],
   "source": [
    "from statsmodels.tsa.arima.model import ARIMA\n",
    "ARMA_model = ARIMA(df['IPG2211A2N'], order=(3, 0, 4)).fit()"
   ]
  },
  {
   "cell_type": "code",
   "execution_count": null,
   "metadata": {},
   "outputs": [],
   "source": [
    "df_test = df[['DATE', 'IPG2211A2N']].loc[300:]\n",
    "df = df[['DATE', 'IPG2211A2N']].loc[:299]"
   ]
  },
  {
   "cell_type": "code",
   "execution_count": null,
   "metadata": {},
   "outputs": [],
   "source": [
    "# generate predictions\n",
    "df_pred = ARMA_model.predict(start=300, end=396)\n",
    "# plot actual vs. predicted\n",
    "fig = plt.figure(figsize=(20, 10))\n",
    "plt.title('ARMA Predictions', fontsize=20)\n",
    "plt.plot(df_test['IPG2211A2N'], label='actual', color='#ABD1DC')\n",
    "plt.plot(df_pred, label='predicted', color='#C6A477')\n",
    "plt.legend(fontsize =20, loc='upper left')"
   ]
  },
  {
   "cell_type": "code",
   "execution_count": null,
   "metadata": {},
   "outputs": [],
   "source": [
    "from sklearn.metrics import mean_squared_error\n",
    "from math import sqrt\n",
    "rmse = sqrt(mean_squared_error(df['IPG2211A2N'][1:], pred_df[1:]))\n",
    "print(\"RMSE:\", round(rmse,2))"
   ]
  },
  {
   "cell_type": "code",
   "execution_count": null,
   "metadata": {},
   "outputs": [],
   "source": [
    "# ARIMA (p, d, q)\n",
    "from statsmodels.tsa.arima.model import ARIMA\n",
    "ARIMA_model = ARIMA(df['IPG2211A2N'], order=(3, 1, 4)).fit()\n",
    "ARIMA_model.summary()"
   ]
  }
 ],
 "metadata": {
  "kernelspec": {
   "display_name": "Python 3.10.5 64-bit",
   "language": "python",
   "name": "python3"
  },
  "language_info": {
   "name": "python",
   "version": "3.10.5"
  },
  "orig_nbformat": 4,
  "vscode": {
   "interpreter": {
    "hash": "aee8b7b246df8f9039afb4144a1f6fd8d2ca17a180786b69acc140d282b71a49"
   }
  }
 },
 "nbformat": 4,
 "nbformat_minor": 2
}
