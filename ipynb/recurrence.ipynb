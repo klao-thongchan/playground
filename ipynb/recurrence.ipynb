{
 "cells": [
  {
   "cell_type": "code",
   "execution_count": null,
   "metadata": {},
   "outputs": [],
   "source": [
    "import schedule\n",
    "import time\n",
    "\n",
    "def job():\n",
    "    print(\"I'm writing...\")\n",
    "\n",
    "schedule.every(10).seconds.do(job)\n",
    "schedule.every(10).minute.do(job)\n",
    "schedule.every().hour.do(job)\n",
    "schedule.every().monday.do(job)\n",
    "schedule.every().wednesday.at(\"13:15\").do(job)\n",
    "\n",
    "while True:\n",
    "    schedule.run_pending()\n",
    "    time.sleep(1)"
   ]
  },
  {
   "cell_type": "code",
   "execution_count": null,
   "metadata": {},
   "outputs": [],
   "source": [
    "import os \n",
    "import shutil\n",
    "import glob\n",
    "class MoveFiles:\n",
    "  \n",
    "    def move_files(self):\n",
    "        os.chdir('/Users/sammitiyadav/Desktop/Project')\n",
    "        cwd = os.getcwd()\n",
    "        print(cwd)\n",
    "        files = glob.glob('*.xlsx')\n",
    "        print(files)\n",
    "        for file in files:\n",
    "            name = name = file.split('.')[-2]\n",
    "            if (os.path.isdir(name)) == False:\n",
    "                os.mkdir(name)\n",
    "            shutil.move(file, os.path.join(cwd, name, file))\n",
    "        \n",
    "if __name__ == '__main__': \n",
    "        \n",
    "        move_obj = MoveFiles()\n",
    "        move_obj.move_file()\n",
    "          schedule.every().wednesday.at('11:00').do(move_obj.move_files)\n",
    "        while True:\n",
    "            schedule.run_pending()\n",
    "            time.sleep(1)"
   ]
  }
 ],
 "metadata": {
  "kernelspec": {
   "display_name": "Python 3.10.5 64-bit",
   "language": "python",
   "name": "python3"
  },
  "language_info": {
   "name": "python",
   "version": "3.10.5"
  },
  "orig_nbformat": 4,
  "vscode": {
   "interpreter": {
    "hash": "aee8b7b246df8f9039afb4144a1f6fd8d2ca17a180786b69acc140d282b71a49"
   }
  }
 },
 "nbformat": 4,
 "nbformat_minor": 2
}
