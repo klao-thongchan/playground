{
 "cells": [
  {
   "cell_type": "code",
   "execution_count": 1,
   "metadata": {},
   "outputs": [
    {
     "name": "stdout",
     "output_type": "stream",
     "text": [
      "     0\n",
      "0   45\n",
      "1   20\n",
      "2   35\n",
      "3   45\n",
      "4   11\n",
      "5   48\n",
      "6   15\n",
      "7   37\n",
      "8   41\n",
      "9   20\n",
      "10  35\n"
     ]
    }
   ],
   "source": [
    "import pandas as pd\n",
    "ds = [45,20,35,45,11,48,15,37,41,20,35]\n",
    "df = pd.DataFrame(ds)\n",
    "print(df)"
   ]
  },
  {
   "cell_type": "code",
   "execution_count": 6,
   "metadata": {},
   "outputs": [
    {
     "name": "stdout",
     "output_type": "stream",
     "text": [
      "    0\n",
      "0  20\n",
      "1  35\n",
      "2  45\n",
      "0    35.0\n",
      "dtype: float64\n",
      "      0\n",
      "0 -15.0\n",
      "1   0.0\n",
      "2  10.0\n",
      "               0\n",
      "count  11.000000\n",
      "mean   32.000000\n",
      "std    13.175735\n",
      "min    11.000000\n",
      "25%    20.000000\n",
      "50%    35.000000\n",
      "75%    43.000000\n",
      "max    48.000000\n"
     ]
    }
   ],
   "source": [
    "print(df.mode())\n",
    "print(df.median())\n",
    "print(df.mode()-df.median())\n",
    "print(df.describe())"
   ]
  },
  {
   "cell_type": "code",
   "execution_count": 14,
   "metadata": {},
   "outputs": [
    {
     "name": "stdout",
     "output_type": "stream",
     "text": [
      "[18]\n",
      "11.90685424949238\n"
     ]
    }
   ],
   "source": [
    "from sympy import symbols, solve\n",
    "\n",
    "x = symbols('x')\n",
    "expr = (x/6)-5+2\n",
    "print(solve(expr))\n",
    "\n",
    "y = 2.5\n",
    "expr2 = (y**2)+(2**y)\n",
    "print(expr2)\n"
   ]
  },
  {
   "cell_type": "code",
   "execution_count": 20,
   "metadata": {},
   "outputs": [
    {
     "name": "stdout",
     "output_type": "stream",
     "text": [
      "55\n",
      "55\n"
     ]
    }
   ],
   "source": [
    "a=int(10)\n",
    "print(sum(range(1,a+1)))\n",
    "print(1+2+3+4+5+6+7+8+9+10)"
   ]
  },
  {
   "cell_type": "code",
   "execution_count": 23,
   "metadata": {},
   "outputs": [
    {
     "name": "stdout",
     "output_type": "stream",
     "text": [
      "109\n"
     ]
    }
   ],
   "source": [
    "a1 = (2**2)+(5*2)+3\n",
    "a2 = (4**2)+(5*4)+3\n",
    "a3 = (5**2)+(5*5)+3\n",
    "print(a1+a2+a3)"
   ]
  },
  {
   "cell_type": "code",
   "execution_count": 25,
   "metadata": {},
   "outputs": [
    {
     "name": "stdout",
     "output_type": "stream",
     "text": [
      "12\n",
      "6\n"
     ]
    }
   ],
   "source": [
    "i=0\n",
    "a=0\n",
    "while i <= 10:\n",
    "    i=i+2\n",
    "    a=a+1\n",
    "\n",
    "print(i)\n",
    "print(a)"
   ]
  },
  {
   "cell_type": "code",
   "execution_count": 26,
   "metadata": {},
   "outputs": [
    {
     "name": "stdout",
     "output_type": "stream",
     "text": [
      "10\n"
     ]
    }
   ],
   "source": [
    "a=5\n",
    "if a>10:\n",
    "    b=a*5\n",
    "elif a<5:\n",
    "    b=a\n",
    "else :\n",
    "    b=a+5\n",
    "\n",
    "print(b)"
   ]
  },
  {
   "cell_type": "code",
   "execution_count": 27,
   "metadata": {},
   "outputs": [
    {
     "name": "stdout",
     "output_type": "stream",
     "text": [
      "choice A\n"
     ]
    }
   ],
   "source": [
    "if (True or False):\n",
    "    print(\"choice A\")\n",
    "else :\n",
    "    print(\"choice B\")"
   ]
  }
 ],
 "metadata": {
  "interpreter": {
   "hash": "89a8cfedefd405a11d6bfa4a37e16a840bca1c40d5ba9902a9fc9c9614fd8e61"
  },
  "kernelspec": {
   "display_name": "Python 3.9.12 64-bit (windows store)",
   "language": "python",
   "name": "python3"
  },
  "language_info": {
   "codemirror_mode": {
    "name": "ipython",
    "version": 3
   },
   "file_extension": ".py",
   "mimetype": "text/x-python",
   "name": "python",
   "nbconvert_exporter": "python",
   "pygments_lexer": "ipython3",
   "version": "3.9.12"
  },
  "orig_nbformat": 4
 },
 "nbformat": 4,
 "nbformat_minor": 2
}
