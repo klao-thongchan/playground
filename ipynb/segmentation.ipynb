{
 "cells": [
  {
   "cell_type": "code",
   "execution_count": null,
   "metadata": {},
   "outputs": [],
   "source": [
    "# Load the necessary libraries\n",
    "import pandas as pd\n",
    "from pandas_profiling import ProfileReport\n",
    "import numpy as np\n",
    "from numpy import inf\n",
    "import seaborn as sns\n",
    "import matplotlib.pyplot as plt\n",
    "from sklearn.preprocessing import StandardScaler, normalize\n",
    "from sklearn.cluster import KMeans\n",
    "from sklearn.decomposition import PCA\n",
    "from jupyterthemes import jtplot\n",
    "jtplot.style(theme='monokai', context='notebook', ticks=True, grid=False)\n",
    "# Load the data\n",
    "data = pd.read_csv('Marketing_data.csv')"
   ]
  },
  {
   "cell_type": "code",
   "execution_count": null,
   "metadata": {},
   "outputs": [],
   "source": [
    "# One liner pandas data exploration\n",
    "# Pandas profiling\n",
    "data_profile = ProfileReport(data)\n",
    "data_profile"
   ]
  },
  {
   "cell_type": "code",
   "execution_count": null,
   "metadata": {},
   "outputs": [],
   "source": [
    "data.isnull().sum()"
   ]
  },
  {
   "cell_type": "code",
   "execution_count": null,
   "metadata": {},
   "outputs": [],
   "source": [
    "# Filling up the missing elements with mean of the 'CREDIT_LIMIT' \n",
    "data.loc[(data['CREDIT_LIMIT'].isnull() == True), 'CREDIT_LIMIT'] = data['CREDIT_LIMIT'].mean()\n",
    "# Filling up the missing elements with mean of the 'MINIMUM_PAYMENT' \n",
    "data.loc[(data['MINIMUM_PAYMENTS'].isnull() == True), \n",
    "                  'MINIMUM_PAYMENTS'] = data['MINIMUM_PAYMENTS'].mean()"
   ]
  },
  {
   "cell_type": "code",
   "execution_count": null,
   "metadata": {},
   "outputs": [],
   "source": [
    "# Let's drop Customer ID since it has no meaning here \n",
    "data.drop(\"CUST_ID\", axis = 1, inplace= True)\n",
    "\n",
    "plt.figure(figsize=(10,50))\n",
    "for i in range(len(data.columns)):\n",
    "  plt.subplot(17, 1, i+1)\n",
    "  sns.distplot(data[data.columns[i]], kde_kws={\"color\": \"b\", \"lw\": 3, \"label\": \"KDE\"}, \n",
    "               hist_kws={\"color\": \"g\"})\n",
    "  plt.title(data.columns[i])\n",
    "plt.tight_layout()"
   ]
  },
  {
   "cell_type": "code",
   "execution_count": null,
   "metadata": {},
   "outputs": [],
   "source": [
    "correlations = data.corr()\n",
    "f, ax = plt.subplots(figsize = (20, 20))\n",
    "sns.heatmap(correlations, annot = True)"
   ]
  },
  {
   "cell_type": "code",
   "execution_count": null,
   "metadata": {},
   "outputs": [],
   "source": [
    "# IDENTIFY OPTIMAL NUMBERS OF CLUSTERS\n",
    "\n",
    "# Let's scale the data first\n",
    "scaler = StandardScaler()\n",
    "data_scaled = scaler.fit_transform(data)\n",
    "data_scaled"
   ]
  },
  {
   "cell_type": "code",
   "execution_count": null,
   "metadata": {},
   "outputs": [],
   "source": [
    "# Create 10 models with 1 to 10 clusters\n",
    "wcss = []\n",
    "for i in range(1, 10):\n",
    "    kmeans = KMeans(n_clusters = i)\n",
    "    # Fit the data points\n",
    "    kmeans.fit(data_scaled)\n",
    "    # Get the WCSS (inertia) value\n",
    "    wcss.append(kmeans.inertia_)\n",
    "    \n",
    "#Plot the WCSS values onto a line graph\n",
    "plt.plot(range(1, 11), wcss)\n",
    "plt.title('WCSS by Clusters')\n",
    "plt.xlabel('Number of clusters')\n",
    "plt.ylabel('WCSS')\n",
    "plt.show()"
   ]
  },
  {
   "cell_type": "code",
   "execution_count": null,
   "metadata": {},
   "outputs": [],
   "source": [
    "# RUNNING THE K-MEANS ALGORITHM\n",
    "\n",
    "kmeans = KMeans(4)\n",
    "kmeans.fit(data_scaled)\n",
    "labels = kmeans.labels_\n",
    "kmeans.cluster_centers_.shape"
   ]
  },
  {
   "cell_type": "code",
   "execution_count": null,
   "metadata": {},
   "outputs": [],
   "source": [
    "cluster_centers = pd.DataFrame(data = kmeans.cluster_centers_, columns = [data.columns])\n",
    "cluster_centers"
   ]
  },
  {
   "cell_type": "code",
   "execution_count": null,
   "metadata": {},
   "outputs": [],
   "source": [
    "# Perform inverse transformation\n",
    "cluster_centers = scaler.inverse_transform(cluster_centers)\n",
    "cluster_centers = pd.DataFrame(data = cluster_centers, columns = [data.columns])\n",
    "cluster_centers"
   ]
  },
  {
   "cell_type": "code",
   "execution_count": null,
   "metadata": {},
   "outputs": [],
   "source": [
    "# concatenate the clusters labels to our original dataframe\n",
    "creditcard_df_cluster = pd.concat([data, pd.DataFrame({'cluster':labels})], axis = 1)\n",
    "creditcard_df_cluster.head()"
   ]
  },
  {
   "cell_type": "code",
   "execution_count": null,
   "metadata": {},
   "outputs": [],
   "source": [
    "# Plot the histogram of various clusters\n",
    "for i in data.columns:\n",
    "  plt.figure(figsize = (35, 5))\n",
    "  for j in range(4):\n",
    "    plt.subplot(1,4,j+1)\n",
    "    cluster = creditcard_df_cluster[creditcard_df_cluster['cluster'] == j]\n",
    "    cluster[i].hist(bins = 20)\n",
    "    plt.title('{}    \\nCluster {} '.format(i,j))\n",
    "  \n",
    "  plt.show()"
   ]
  },
  {
   "cell_type": "code",
   "execution_count": null,
   "metadata": {},
   "outputs": [],
   "source": [
    "# Principal Component Analysis\n",
    "\n",
    "# Obtain the 2 principal components \n",
    "pca = PCA(n_components=2)\n",
    "principal_comp = pca.fit_transform(data_scaled)\n",
    "# Create a dataframe with the two components\n",
    "pca_df = pd.DataFrame(data = principal_comp, columns =['pca1','pca2'])\n",
    "# Concatenate the clusters labels to the dataframe\n",
    "pca_df = pd.concat([pca_df,pd.DataFrame({'cluster':labels})], axis = 1)\n",
    "pca_df.head()"
   ]
  },
  {
   "cell_type": "code",
   "execution_count": null,
   "metadata": {},
   "outputs": [],
   "source": [
    "plt.figure(figsize=(10,10))\n",
    "ax = sns.scatterplot(x=\"pca1\", y=\"pca2\", hue = \"cluster\", data = pca_df, palette =['red','green','blue','pink'])\n",
    "plt.show()"
   ]
  },
  {
   "cell_type": "code",
   "execution_count": null,
   "metadata": {},
   "outputs": [],
   "source": [
    "# INTERPRETING THE RESULTS\n",
    "\n",
    "creditcard_df_cluster['cluster'].value_counts()\n"
   ]
  },
  {
   "cell_type": "markdown",
   "metadata": {},
   "source": [
    "https://github.com/manilwagle/medium"
   ]
  }
 ],
 "metadata": {
  "language_info": {
   "name": "python"
  },
  "orig_nbformat": 4
 },
 "nbformat": 4,
 "nbformat_minor": 2
}
