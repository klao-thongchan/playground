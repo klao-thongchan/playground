{
 "cells": [
  {
   "cell_type": "code",
   "execution_count": null,
   "metadata": {},
   "outputs": [],
   "source": [
    "import pandas as pd\n",
    "\n",
    "# https://github.com/vcerqueira/blog/\n",
    "from src.tde import time_delay_embedding\n",
    "\n",
    "wine = pd.read_csv('data/wine_sales.csv', parse_dates=['date'])\n",
    "\n",
    "# setting date as index\n",
    "wine.set_index('date', inplace=True)\n",
    "\n",
    "# you can simulate some data with the following code\n",
    "# wine = pd.DataFrame(np.random.random((100, 6)),\n",
    "#            columns=['Fortified','Drywhite','Sweetwhite',\n",
    "#                      'Red','Rose','Sparkling'])\n",
    "\n",
    "# create data set with lagged features using time delay embedding\n",
    "wine_ds = []\n",
    "for col in wine:\n",
    "    col_df = time_delay_embedding(wine[col], n_lags=12, horizon=6)\n",
    "    wine_ds.append(col_df)\n",
    "\n",
    "# concatenating all variables\n",
    "wine_df = pd.concat(wine_ds, axis=1).dropna()\n",
    "\n",
    "# defining target (Y) and explanatory variables (X)\n",
    "predictor_variables = wine_df.columns.str.contains('\\(t\\-')\n",
    "target_variables = wine_df.columns.str.contains('Sparkling\\(t\\+')\n",
    "\n",
    "X = wine_df.iloc[:, predictor_variables]\n",
    "Y = wine_df.iloc[:, target_variables]"
   ]
  },
  {
   "cell_type": "code",
   "execution_count": null,
   "metadata": {},
   "outputs": [],
   "source": [
    "from sklearn.model_selection import train_test_split\n",
    "from sklearn.metrics import mean_absolute_error as mae\n",
    "from sklearn.ensemble import RandomForestRegressor\n",
    "\n",
    "\n",
    "# train/test split\n",
    "X_tr, X_ts, Y_tr, Y_ts = train_test_split(X, Y, test_size=0.3, shuffle=False)\n",
    "\n",
    "# fitting a RF model\n",
    "model = RandomForestRegressor()\n",
    "model.fit(X_tr, Y_tr)\n",
    "\n",
    "# getting forecasts for the test set\n",
    "preds = model.predict(X_ts)\n",
    "\n",
    "# computing MAE error\n",
    "print(mae(Y_ts, preds))\n",
    "# 288.13"
   ]
  },
  {
   "cell_type": "code",
   "execution_count": null,
   "metadata": {},
   "outputs": [],
   "source": [
    "# getting importance scores from previous model\n",
    "importance_scores = pd.Series(dict(zip(X_tr.columns, model.feature_importances_)))\n",
    "\n",
    "# getting top 10 features\n",
    "top_10_features = importance_scores.sort_values(ascending=False)[:10]\n",
    "top_10_features_nm = top_10_features.index\n",
    "\n",
    "X_tr_top = X_tr[top_10_features_nm]\n",
    "X_ts_top = X_ts[top_10_features_nm]\n",
    "\n",
    "# re-fitting the model\n",
    "model_top_features = RandomForestRegressor()\n",
    "model_top_features.fit(X_tr_top, Y_tr)\n",
    "\n",
    "# getting forecasts for the test set\n",
    "preds_topf = model_top_features.predict(X_ts_top)\n",
    "\n",
    "# computing MAE error\n",
    "print(mae(Y_ts, preds_topf))\n",
    "# 274.36"
   ]
  }
 ],
 "metadata": {
  "kernelspec": {
   "display_name": "Python 3.10.5 64-bit",
   "language": "python",
   "name": "python3"
  },
  "language_info": {
   "name": "python",
   "version": "3.10.5"
  },
  "orig_nbformat": 4,
  "vscode": {
   "interpreter": {
    "hash": "aee8b7b246df8f9039afb4144a1f6fd8d2ca17a180786b69acc140d282b71a49"
   }
  }
 },
 "nbformat": 4,
 "nbformat_minor": 2
}
