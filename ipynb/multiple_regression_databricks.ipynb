{
 "cells": [
  {
   "cell_type": "code",
   "execution_count": null,
   "metadata": {},
   "outputs": [],
   "source": [
    "# Importing required libraries\n",
    "import pandas as pd\n",
    "from sklearn.linear_model import LinearRegression\n",
    "from sklearn.model_selection import train_test_split\n",
    "\n",
    "# Reading in the dataset from a file in DBFS\n",
    "df = spark.read.format(\"csv\").option(\"header\", \"true\").load(\"/FileStore/tables/dataset.csv\")\n",
    "\n",
    "# Converting the Spark DataFrame to a Pandas DataFrame\n",
    "data = df.toPandas()\n",
    "\n",
    "# Defining the independent variables and the dependent variable\n",
    "X = data[['independent_var1', 'independent_var2', 'independent_var3']]\n",
    "Y = data['dependent_var']\n",
    "\n",
    "# Splitting the data into training and testing sets\n",
    "X_train, X_test, Y_train, Y_test = train_test_split(X, Y, test_size=0.2, random_state=42)\n",
    "\n",
    "# Fitting the model on the training data\n",
    "regressor = LinearRegression()\n",
    "regressor.fit(X_train, Y_train)\n",
    "\n",
    "# Printing the coefficients\n",
    "print('Coefficients: \\n', regressor.coef_)\n",
    "\n",
    "# Predicting the values on the test data\n",
    "y_pred = regressor.predict(X_test)\n",
    "\n",
    "# Printing the predicted values\n",
    "print('Predicted values: \\n', y_pred)"
   ]
  },
  {
   "attachments": {},
   "cell_type": "markdown",
   "metadata": {},
   "source": [
    "In this example, we first import the required libraries (pandas, sklearn, and train_test_split from sklearn.model_selection). We then read in the dataset from a file in DBFS using Spark, and convert it to a Pandas DataFrame. We define the independent and dependent variables, split the data into training and testing sets, fit the model on the training data, and print the coefficients and predicted values on the test data. Note that you'll need to replace /FileStore/tables/dataset.csv with the path to your own dataset file in DBFS, and 'independent_var1', 'independent_var2', and 'independent_var3' with the names of your independent variables, and 'dependent_var' with the name of your dependent variable."
   ]
  }
 ],
 "metadata": {
  "kernelspec": {
   "display_name": "Python 3.10.10 64-bit (windows store)",
   "language": "python",
   "name": "python3"
  },
  "language_info": {
   "name": "python",
   "version": "3.10.10"
  },
  "orig_nbformat": 4,
  "vscode": {
   "interpreter": {
    "hash": "4e393e87d09720360b1b69865354fe84f16943cdd94bb559743b53de59b1c828"
   }
  }
 },
 "nbformat": 4,
 "nbformat_minor": 2
}
