{
 "cells": [
  {
   "cell_type": "code",
   "execution_count": null,
   "metadata": {},
   "outputs": [],
   "source": [
    "import matplotlib.pyplot as plt\n",
    "import numpy as np\n",
    "\n",
    "# Generate some data\n",
    "np.random.seed(0)\n",
    "x = np.random.normal(0, 1, 100)\n",
    "y = x + np.random.normal(0, 0.5, 100)\n",
    "\n",
    "# Fit a linear regression model\n",
    "slope, intercept = np.polyfit(x, y, 1)\n",
    "\n",
    "# Make predictions for x values from the data set\n",
    "predictions = slope * x + intercept\n",
    "\n",
    "# Plot the data and the model predictions\n",
    "plt.scatter(x, y)\n",
    "plt.plot(x, predictions, color='r')\n",
    "plt.show()"
   ]
  }
 ],
 "metadata": {
  "kernelspec": {
   "display_name": "Python 3.10.10 64-bit (windows store)",
   "language": "python",
   "name": "python3"
  },
  "language_info": {
   "name": "python",
   "version": "3.10.10"
  },
  "orig_nbformat": 4,
  "vscode": {
   "interpreter": {
    "hash": "4e393e87d09720360b1b69865354fe84f16943cdd94bb559743b53de59b1c828"
   }
  }
 },
 "nbformat": 4,
 "nbformat_minor": 2
}
