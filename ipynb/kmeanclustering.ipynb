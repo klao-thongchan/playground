{
 "cells": [
  {
   "cell_type": "code",
   "execution_count": null,
   "metadata": {},
   "outputs": [],
   "source": [
    "import numpy as np\n",
    "import matplotlib.pyplot as plt\n",
    "from sklearn.cluster import KMeans\n",
    "\n",
    "# Generate some random data\n",
    "x = np.random.rand(100, 2)\n",
    "\n",
    "# Create a KMeans clustering model with 3 clusters\n",
    "kmeans = KMeans(n_clusters=3)\n",
    "\n",
    "# Fit the model to the data\n",
    "kmeans.fit(x)\n",
    "\n",
    "# Get the labels and centers of the clusters\n",
    "labels = kmeans.labels_\n",
    "centers = kmeans.cluster_centers_\n",
    "\n",
    "# Plot the data and the clusters\n",
    "plt.scatter(x[:, 0], x[:, 1], c=labels)\n",
    "plt.scatter(centers[:, 0], centers[:, 1], marker='x', s=200, linewidths=3, color='r')\n",
    "plt.show()"
   ]
  },
  {
   "attachments": {},
   "cell_type": "markdown",
   "metadata": {},
   "source": [
    "In this example, we first import the necessary libraries: numpy and matplotlib for generating data and plotting, and KMeans from sklearn.cluster for the clustering algorithm.\n",
    "\n",
    "We generate some random data using numpy.random.rand(). In this example, we generate 100 data points with 2 features.\n",
    "\n",
    "We create a KMeans clustering model with 3 clusters using KMeans(n_clusters=3).\n",
    "\n",
    "We fit the model to the data using the fit() method.\n",
    "\n",
    "We get the labels and centers of the clusters using labels_ and cluster_centers_.\n",
    "\n",
    "Finally, we plot the data and the clusters using matplotlib.pyplot.scatter(). The c parameter is set to labels to color each data point according to its cluster, and the cluster centers are plotted using red crosses (marker='x')."
   ]
  }
 ],
 "metadata": {
  "language_info": {
   "name": "python"
  },
  "orig_nbformat": 4
 },
 "nbformat": 4,
 "nbformat_minor": 2
}
