{
 "cells": [
  {
   "cell_type": "code",
   "execution_count": null,
   "metadata": {},
   "outputs": [],
   "source": [
    "import requests\n",
    "from bs4 import BeautifulSoup\n",
    "\n",
    "# Send a GET request to the website you want to scrape\n",
    "url = 'https://www.example.com'\n",
    "response = requests.get(url)\n",
    "\n",
    "# Check if the request was successful (200 means success)\n",
    "if response.status_code == 200:\n",
    "    # Use BeautifulSoup to parse the HTML content\n",
    "    soup = BeautifulSoup(response.content, 'html.parser')\n",
    "    # Find the elements you want to extract from the HTML content\n",
    "    title = soup.find('h1').text\n",
    "    description = soup.find('p').text\n",
    "    links = soup.find_all('a')\n",
    "    # Print the extracted data\n",
    "    print('Title:', title)\n",
    "    print('Description:', description)\n",
    "    print('Links:')\n",
    "    for link in links:\n",
    "        print(link.get('href'))\n",
    "else:\n",
    "    print('Error:', response.status_code)"
   ]
  }
 ],
 "metadata": {
  "language_info": {
   "name": "python"
  },
  "orig_nbformat": 4
 },
 "nbformat": 4,
 "nbformat_minor": 2
}
