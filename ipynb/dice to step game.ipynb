{
 "cells": [
  {
   "cell_type": "markdown",
   "metadata": {},
   "source": [
    "it's the game that\n",
    "\n",
    "1. you roll the dice 100 times to determine step up or step down on stairs\n",
    "2. if the dice rolls 1,2 -- step down 1\n",
    "3. you can't go below floor 0 (step 0)\n",
    "4. if the dice rolls 3,4,5 -- step up 1\n",
    "5. if the dice rolls 6 -- step up randomly from 1-6\n",
    "6. there is 0.001% clumsiness that you'll fall down to floor 0 (step 0)\n",
    "\n",
    "finding chances that you can get above 60 steps"
   ]
  },
  {
   "cell_type": "code",
   "execution_count": 19,
   "metadata": {},
   "outputs": [
    {
     "data": {
      "image/png": "[encoded data removed]",
      "text/plain": [
       "<Figure size 432x288 with 1 Axes>"
      ]
     },
     "metadata": {
      "needs_background": "light"
     },
     "output_type": "display_data"
    }
   ],
   "source": [
    "#second try\n",
    "import numpy as np\n",
    "np.random.seed(1)\n",
    "\n",
    "#simulate 100 times\n",
    "all_walks = []\n",
    "for i in range(100) :\n",
    "    random_walk = [0]\n",
    "\n",
    "    for rolls in range(100) :\n",
    "        step = random_walk[-1]\n",
    "        dice = np.random.randint(1,7)\n",
    "        if dice <= 2 :\n",
    "            step = max(0, step - 1)\n",
    "        elif dice <= 5 :\n",
    "            step = step + 1\n",
    "        else :\n",
    "            step = step + np.random.randint(1,7)\n",
    "        if np.random.rand() <= 0.001 : #clumsiness\n",
    "            step = 0\n",
    "        random_walk.append(step)\n",
    "    \n",
    "    all_walks.append(random_walk)\n",
    "\n",
    "np_aw = np.array(all_walks)\n",
    "np_aw_t = np.transpose(np_aw)\n",
    "\n",
    "#only looks at result -> select end\n",
    "\n",
    "walk_ends = np_aw_t[-1,:]\n",
    "\n",
    "import matplotlib.pyplot as plt\n",
    "\n",
    "plt.clf()\n",
    "plt.hist(walk_ends)\n",
    "plt.show()"
   ]
  },
  {
   "cell_type": "code",
   "execution_count": 15,
   "metadata": {},
   "outputs": [
    {
     "data": {
      "image/png": "[encoded data removed]",
      "text/plain": [
       "<Figure size 432x288 with 1 Axes>"
      ]
     },
     "metadata": {
      "needs_background": "light"
     },
     "output_type": "display_data"
    }
   ],
   "source": [
    "#first try\n",
    "\n",
    "import numpy as np\n",
    "np.random.seed(123)\n",
    "\n",
    "all_walks = []\n",
    "random_walk = [] #start point\n",
    "step = []\n",
    "\n",
    "def roll_dice(times) :\n",
    "    for roll in range(times):\n",
    "        step = random_walk[-1]\n",
    "        dice = np.random.randint(1,7) #random number from 1 to 6\n",
    "        if dice <= 2 :\n",
    "            step = max(0, step - 1)\n",
    "        elif dice >= 3 and dice <=5 :\n",
    "            step = step + 1\n",
    "        else :\n",
    "            step = step + np.random.randint(1,7)\n",
    "        clumsiness()\n",
    "        random_walk.append(step)\n",
    "\n",
    "chance = 0.001\n",
    "def clumsiness() :\n",
    "    if np.random.rand() <= chance :\n",
    "        step = 0\n",
    "\n",
    "#random walk 100 times\n",
    "for i in range(100) :\n",
    "    random_walk = [0]\n",
    "    roll_dice(100)\n",
    "    all_walks.append(random_walk)\n",
    "\n",
    "#print(all_walks)\n",
    "\n",
    "import matplotlib.pyplot as plt\n",
    "# Create and plot np_aw_t\n",
    "np_aw_t = np.transpose(np.array(all_walks))\n",
    "\n",
    "# Select last row from np_aw_t: ends\n",
    "ends = np_aw_t[-1,:]\n",
    "# Plot histogram of ends, display plot\n",
    "plt.clf()\n",
    "plt.hist(ends)\n",
    "plt.show()"
   ]
  }
 ],
 "metadata": {
  "interpreter": {
   "hash": "89a8cfedefd405a11d6bfa4a37e16a840bca1c40d5ba9902a9fc9c9614fd8e61"
  },
  "kernelspec": {
   "display_name": "Python 3.9.11 64-bit (windows store)",
   "language": "python",
   "name": "python3"
  },
  "language_info": {
   "codemirror_mode": {
    "name": "ipython",
    "version": 3
   },
   "file_extension": ".py",
   "mimetype": "text/x-python",
   "name": "python",
   "nbconvert_exporter": "python",
   "pygments_lexer": "ipython3",
   "version": "3.9.11"
  },
  "orig_nbformat": 4
 },
 "nbformat": 4,
 "nbformat_minor": 2
}
