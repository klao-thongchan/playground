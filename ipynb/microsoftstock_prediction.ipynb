{
 "cells": [
  {
   "cell_type": "code",
   "execution_count": null,
   "metadata": {},
   "outputs": [],
   "source": [
    "# Load the necessary packages\n",
    "import pandas as pd\n",
    "import plotly.express as px\n",
    "# Read the data from url below which is csv file\n",
    "url = \"https://docs.google.com/spreadsheets/d/e/2PACX-1vQskznkuYK6r1QJ6eb5Cr8OIra9VEnKXN33NL-bwAORj8qDDk8wJR1tfgfuHzYvlPgJbjx4kP4wAwua/pub?gid=0&single=true&output=csv\"\n",
    "df= pd.read_csv(url)\n",
    "df.head()"
   ]
  },
  {
   "cell_type": "code",
   "execution_count": null,
   "metadata": {},
   "outputs": [],
   "source": [
    "# Lets understand the data structure\n",
    "print(df.info())\n",
    "print(df.describe())"
   ]
  },
  {
   "cell_type": "code",
   "execution_count": null,
   "metadata": {},
   "outputs": [],
   "source": [
    "px.area(df, x='Date', y='Close')\n",
    "px.box(df, y='Close')"
   ]
  },
  {
   "cell_type": "code",
   "execution_count": null,
   "metadata": {},
   "outputs": [],
   "source": [
    "### Boxcox transformation\n",
    "from statsmodels.base.transform import BoxCox\n",
    "bc= BoxCox()\n",
    "df[\"Close\"], lmbda =bc.transform_boxcox(df[\"Close\"])\n",
    "## Making data Prophet complaint\n",
    "data= df[[\"Date\", \"Close\"]]\n",
    "data.columns=[\"ds\", \"y\"]"
   ]
  },
  {
   "cell_type": "code",
   "execution_count": null,
   "metadata": {},
   "outputs": [],
   "source": [
    "# Import Prophet\n",
    "from fbprophet import Prophet\n",
    "## Creating model parameters\n",
    "model_param ={\n",
    "    \"daily_seasonality\": False,\n",
    "    \"weekly_seasonality\":False,\n",
    "    \"yearly_seasonality\":True,\n",
    "    \"seasonality_mode\": \"multiplicative\",\n",
    "    \"growth\": \"logistic\"\n",
    "}\n",
    "model = Prophet(**model_param)\n",
    "data['cap']= data[\"y\"].max() + data[\"y\"].std() * 0.05 \n",
    "model.fit(data)\n",
    "# Create future dataframe\n",
    "future= model.make_future_dataframe(periods=365)\n",
    "future['cap'] = data['cap'].max()\n",
    "forecast= model.predict(future)"
   ]
  },
  {
   "cell_type": "code",
   "execution_count": null,
   "metadata": {},
   "outputs": [],
   "source": [
    "model.plot_components(forecast);\n",
    "model.plot(forecast);"
   ]
  },
  {
   "cell_type": "code",
   "execution_count": null,
   "metadata": {},
   "outputs": [],
   "source": [
    "## Adding parameters and seasonality and events\n",
    "model = Prophet(**model_param)\n",
    "model= model.add_seasonality(name=\"monthly\", period=30, fourier_order=10)\n",
    "model= model.add_seasonality(name=\"quarterly\", period=92.25, fourier_order=10)\n",
    "model.add_country_holidays(\"US\")\n",
    "model.fit(data)\n",
    "# Create future dataframe\n",
    "future= model.make_future_dataframe(periods=365)\n",
    "future['cap'] = data['cap'].max()\n",
    "forecast= model.predict(future)\n",
    "model.plot_components(forecast);\n",
    "model.plot(forecast);"
   ]
  },
  {
   "cell_type": "code",
   "execution_count": null,
   "metadata": {},
   "outputs": [],
   "source": [
    "## Hyper parameter Tuning\n",
    "import itertools\n",
    "import numpy as np\n",
    "from fbprophet.diagnostics import cross_validation, performance_metrics\n",
    "param_grid={\n",
    "    \"daily_seasonality\": [False],\n",
    "    \"weekly_seasonality\":[False],\n",
    "    \"yearly_seasonality\":[True],\n",
    "    \"growth\": [\"logistic\"],\n",
    "    'changepoint_prior_scale': [0.001, 0.01, 0.1, 0.5], # to give higher value to prior trend\n",
    "    'seasonality_prior_scale': [0.01, 0.1, 1.0, 10.0] # to control the flexibility of seasonality components\n",
    "}\n",
    "# Generate all combination of parameters\n",
    "all_params= [\n",
    "            dict(zip(param_grid.keys(), v))\n",
    "            for v in itertools.product(*param_grid.values())\n",
    "]\n",
    "print(all_params)"
   ]
  },
  {
   "cell_type": "code",
   "execution_count": null,
   "metadata": {},
   "outputs": [],
   "source": [
    "# finding the best model\n",
    "\n",
    "rmses= list ()\n",
    "# go through each combinations\n",
    "for params in all_params:\n",
    "    m= Prophet(**params)\n",
    "    \n",
    "    m= m.add_seasonality(name= 'monthly', period=30, fourier_order=5)\n",
    "    m= m.add_seasonality(name= \"quarterly\", period= 92.25, fourier_order= 10)\n",
    "m.add_country_holidays(country_name=\"US\")\n",
    "    \n",
    "    m.fit(data)\n",
    "    \n",
    "    df_cv= cross_validation(m, initial=\"730 days\", period=\"365 days\", horizon=\"365 days\")\n",
    "                            \n",
    "    df_p= performance_metrics(df_cv, rolling_window=1)\n",
    "                            \n",
    "    rmses.append(df_p['rmse'].values[0])\n",
    "                            \n",
    "# find teh best parameters\n",
    "best_params = all_params[np.argmin(rmses)]\n",
    "                            \n",
    "print(\"\\n The best parameters are:\", best_params)"
   ]
  },
  {
   "cell_type": "code",
   "execution_count": null,
   "metadata": {},
   "outputs": [],
   "source": [
    "forecast[\"yhat\"]=bc.untransform_boxcox(x=forecast[\"yhat\"], lmbda=lmbda)\n",
    "forecast[\"yhat_lower\"]=bc.untransform_boxcox(x=forecast[\"yhat_lower\"], lmbda=lmbda)\n",
    "forecast[\"yhat_upper\"]=bc.untransform_boxcox(x=forecast[\"yhat_upper\"], lmbda=lmbda)\n",
    "forecast.plot(x=\"ds\", y=[\"yhat_lower\", \"yhat\", \"yhat_upper\"])"
   ]
  }
 ],
 "metadata": {
  "kernelspec": {
   "display_name": "Python 3.10.5 64-bit",
   "language": "python",
   "name": "python3"
  },
  "language_info": {
   "name": "python",
   "version": "3.10.5"
  },
  "orig_nbformat": 4,
  "vscode": {
   "interpreter": {
    "hash": "aee8b7b246df8f9039afb4144a1f6fd8d2ca17a180786b69acc140d282b71a49"
   }
  }
 },
 "nbformat": 4,
 "nbformat_minor": 2
}
