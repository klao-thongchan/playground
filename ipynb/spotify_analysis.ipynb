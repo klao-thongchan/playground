{
 "cells": [
  {
   "cell_type": "markdown",
   "metadata": {},
   "source": [
    "go to Spotify website, sign up, hit on 'create an app' then\n",
    "\n",
    "pip install spotipy"
   ]
  },
  {
   "cell_type": "code",
   "execution_count": null,
   "metadata": {},
   "outputs": [],
   "source": [
    "import spotipy\n",
    "\n",
    "from spotipy.oauth2 import SpotifyClientCredentials\n",
    "\n",
    "CLIENT_ID = [] # fill the blank\n",
    "CLIENT_SECRET = [] # fill the blank\n",
    "\n",
    "client_credentials_manager = SpotifyClientCredentials(client_id=CLIENT_ID, client_secret=CLIENT_SECRET)\n",
    "sp = spotipy.Spotify(client_credentials_manager=client_credentials_manager)"
   ]
  },
  {
   "cell_type": "markdown",
   "metadata": {},
   "source": [
    "<h4> Fetch Tracks and Artists"
   ]
  },
  {
   "cell_type": "code",
   "execution_count": null,
   "metadata": {},
   "outputs": [],
   "source": [
    "artist_name = []\n",
    "track_name = []\n",
    "track_popularity = []\n",
    "artist_id = []\n",
    "track_id = []\n",
    "\n",
    "for i in range(0,1000,50):\n",
    "    track_results = sp.search(q='year:2021', type='track', limit=50, offset=i)\n",
    "    for i, t in enumerate(track_results['tracks']['items']):\n",
    "        artist_name.append(t['artists'][0]['name'])\n",
    "        artist_id.append(t['artists'][0]['id'])\n",
    "        track_name.append(t['name'])\n",
    "        track_id.append(t['id'])\n",
    "        track_popularity.append(t['popularity'])"
   ]
  },
  {
   "cell_type": "code",
   "execution_count": null,
   "metadata": {},
   "outputs": [],
   "source": [
    "# create dataframe\n",
    "import pandas as pd\n",
    "\n",
    "track_df = pd.DataFrame({'artist_name' : artist_name, 'track_name' : track_name, 'track_id' : track_id, 'track_popularity' : track_popularity, 'artist_id' : artist_id})\n",
    "\n",
    "print(track_df.shape)\n",
    "track_df.head()"
   ]
  },
  {
   "cell_type": "code",
   "execution_count": null,
   "metadata": {},
   "outputs": [],
   "source": [
    "artist_popularity = []\n",
    "artist_genres = []\n",
    "artist_followers = []\n",
    "\n",
    "for a_id in track_df.artist_id:\n",
    "  artist = sp.artist(a_id)\n",
    "  artist_popularity.append(artist['popularity'])\n",
    "  artist_genres.append(artist['genres'])\n",
    "  artist_followers.append(artist['followers']['total'])\n",
    "\n",
    "track_df = track_df.assign(artist_popularity=artist_popularity, artist_genres=artist_genres, artist_followers=artist_followers)\n",
    "track_df.head()"
   ]
  },
  {
   "cell_type": "markdown",
   "metadata": {},
   "source": [
    "<h4> Fetch Tracks’ Numerical Features"
   ]
  },
  {
   "cell_type": "code",
   "execution_count": null,
   "metadata": {},
   "outputs": [],
   "source": [
    "track_features = []\n",
    "\n",
    "for t_id in track_df['track_id']:\n",
    "  af = sp.audio_features(t_id)\n",
    "  track_features.append(af)\n",
    "tf_df = pd.DataFrame(columns = ['danceability', 'energy', 'key', 'loudness', 'mode', 'speechiness', 'acousticness', 'instrumentalness', 'liveness', 'valence', 'tempo', 'type', 'id', 'uri', 'track_href', 'analysis_url', 'duration_ms', 'time_signature'])\n",
    "\n",
    "for item in track_features:\n",
    "  for feat in item:\n",
    "    tf_df = tf_df.append(feat, ignore_index=True)\n",
    "tf_df.head()"
   ]
  },
  {
   "cell_type": "code",
   "execution_count": null,
   "metadata": {},
   "outputs": [],
   "source": [
    "\n",
    "cols_to_drop2 = ['key','mode','type', 'uri','track_href','analysis_url']\n",
    "tf_df = tf_df.drop(columns=cols_to_drop2)\n",
    "print(track_df.info())\n",
    "print(tf_df.info())"
   ]
  },
  {
   "cell_type": "code",
   "execution_count": null,
   "metadata": {},
   "outputs": [],
   "source": [
    "track_df['artist_name'] = track_df['artist_name'].astype(\"string\")\n",
    "track_df['track_name'] = track_df['track_name'].astype(\"string\")\n",
    "track_df['track_id'] = track_df['track_id'].astype(\"string\")\n",
    "track_df['artist_id'] = track_df['artist_id'].astype(\"string\")\n",
    "tf_df['duration_ms'] = pd.to_numeric(tf_df['duration_ms'])\n",
    "tf_df['instrumentalness'] = pd.to_numeric(tf_df['instrumentalness'])\n",
    "tf_df['time_signature'] = tf_df['time_signature'].astype(\"category\")\n",
    "print(track_df.info())\n",
    "print(tf_df.info())"
   ]
  },
  {
   "cell_type": "markdown",
   "metadata": {},
   "source": [
    "<h4> Exploring the Trends of 2021"
   ]
  },
  {
   "cell_type": "code",
   "execution_count": null,
   "metadata": {},
   "outputs": [],
   "source": [
    "track_df.sort_values(by=['track_popularity'], ascending=False)[['track_name', 'artist_name']].head(20)"
   ]
  },
  {
   "cell_type": "code",
   "execution_count": null,
   "metadata": {},
   "outputs": [],
   "source": [
    "by_art_fol = pd.DataFrame(track_df.sort_values(by=['artist_followers'], ascending=False)[['artist_followers','artist_popularity', 'artist_name','artist_genres']])\n",
    "by_art_fol.astype(str).drop_duplicates().head(20)"
   ]
  },
  {
   "cell_type": "code",
   "execution_count": null,
   "metadata": {},
   "outputs": [],
   "source": [
    "def to_1D(series):\n",
    " return pd.Series([x for _list in series for x in _list])\n",
    "to_1D(track_df['artist_genres']).value_counts().head(20)"
   ]
  },
  {
   "cell_type": "code",
   "execution_count": null,
   "metadata": {},
   "outputs": [],
   "source": [
    "# visualize\n",
    "\n",
    "import matplotlib.pyplot as plt\n",
    "\n",
    "fig, ax = plt.subplots(figsize = (14,4))\n",
    "ax.bar(to_1D(track_df['artist_genres']).value_counts().index[:10],\n",
    "        to_1D(track_df['artist_genres']).value_counts().values[:10])\n",
    "ax.set_ylabel(\"Frequency\", size = 12)\n",
    "ax.set_title(\"Top genres\", size = 14)"
   ]
  },
  {
   "cell_type": "code",
   "execution_count": null,
   "metadata": {},
   "outputs": [],
   "source": [
    "top_10_genres = list(to_1D(track_df['artist_genres']).value_counts().index[:20])\n",
    "top_artists_by_genre = []\n",
    "for genre in top_10_genres:\n",
    "  for index, row in by_art_fol.iterrows():\n",
    "    if genre in row['artist_genres']:\n",
    "      top_artists_by_genre.append({'artist_name':row['artist_name'], 'artist_genre':genre})\n",
    "      break\n",
    "pd.json_normalize(top_artists_by_genre)"
   ]
  },
  {
   "cell_type": "code",
   "execution_count": null,
   "metadata": {},
   "outputs": [],
   "source": [
    "\n",
    "by_track_pop = pd.DataFrame(track_df.sort_values(by=['track_popularity'], ascending=False)[['track_popularity','track_name', 'artist_name','artist_genres', 'track_id']])\n",
    "by_track_pop.astype(str).drop_duplicates().head(20)\n",
    "top_songs_by_genre = []\n",
    "for genre in top_10_genres:\n",
    "  for index, row in by_track_pop.iterrows():\n",
    "    if genre in row['artist_genres']:\n",
    "      top_songs_by_genre.append({'track_name':row['track_name'], 'track_popularity':row['track_popularity'],'artist_name':row['artist_name'], 'artist_genre':genre})\n",
    "      break\n",
    "pd.json_normalize(top_songs_by_genre)"
   ]
  },
  {
   "cell_type": "markdown",
   "metadata": {},
   "source": [
    "<h4> Visualizing Tracks' Features"
   ]
  },
  {
   "cell_type": "code",
   "execution_count": null,
   "metadata": {},
   "outputs": [],
   "source": [
    "\n",
    "import seaborn as sn\n",
    "sn.set(rc = {'figure.figsize':(12,10)})\n",
    "sn.heatmap(tf_df.corr(), annot=True)\n",
    "plt.show()"
   ]
  },
  {
   "cell_type": "code",
   "execution_count": null,
   "metadata": {},
   "outputs": [],
   "source": [
    "sn.set(rc = {'figure.figsize':(20,20)})\n",
    "sn.jointplot(data=tf_df, x=\"loudness\", y=\"energy\", kind=\"kde\")"
   ]
  },
  {
   "cell_type": "code",
   "execution_count": null,
   "metadata": {},
   "outputs": [],
   "source": [
    "feat_cols = ['danceability', 'energy', 'speechiness', 'acousticness', 'instrumentalness', 'liveness', 'valence']\n",
    "top_100_feat = pd.DataFrame(columns=feat_cols)\n",
    "for i, track in by_track_pop[:100].iterrows():\n",
    "  features = tf_df[tf_df['id'] == track['track_id']]\n",
    "  top_100_feat = top_100_feat.append(features, ignore_index=True)\n",
    "top_100_feat = top_100_feat[feat_cols]\n",
    "\n",
    "from sklearn import preprocessing\n",
    "mean_vals = pd.DataFrame(columns=feat_cols)\n",
    "mean_vals = mean_vals.append(top_100_feat.mean(), ignore_index=True)\n",
    "mean_vals = mean_vals.append(tf_df[feat_cols].mean(), ignore_index=True)\n",
    "print(mean_vals)\n",
    "\n",
    "import plotly.graph_objects as go\n",
    "import plotly.offline as pyo\n",
    "fig = go.Figure(\n",
    "    data=[\n",
    "        go.Scatterpolar(r=mean_vals.iloc[0], theta=feat_cols, fill='toself', name='Top 100'),\n",
    "        go.Scatterpolar(r=mean_vals.iloc[1], theta=feat_cols, fill='toself', name='All'),\n",
    "    ],\n",
    "    layout=go.Layout(\n",
    "        title=go.layout.Title(text='Feature comparison'),\n",
    "        polar={'radialaxis': {'visible': True}},\n",
    "        showlegend=True\n",
    "    )\n",
    ")\n",
    "\n",
    "#pyo.plot(fig)\n",
    "fig.show()"
   ]
  },
  {
   "cell_type": "markdown",
   "metadata": {},
   "source": [
    "<h4> Get Recommendations"
   ]
  },
  {
   "cell_type": "code",
   "execution_count": null,
   "metadata": {},
   "outputs": [],
   "source": [
    "\n",
    "rec = sp.recommendations(seed_artists=[\"3PhoLpVuITZKcymswpck5b\"], seed_genres=[\"pop\"], seed_tracks=[\"1r9xUipOqoNwggBpENDsvJ\"], limit=100)\n",
    "for track in rec['tracks']:\n",
    "  print(track['artists'][0]['name'], track['name'])"
   ]
  }
 ],
 "metadata": {
  "interpreter": {
   "hash": "89a8cfedefd405a11d6bfa4a37e16a840bca1c40d5ba9902a9fc9c9614fd8e61"
  },
  "kernelspec": {
   "display_name": "Python 3.9.12 64-bit (windows store)",
   "language": "python",
   "name": "python3"
  },
  "language_info": {
   "name": "python",
   "version": "3.9.12"
  },
  "orig_nbformat": 4
 },
 "nbformat": 4,
 "nbformat_minor": 2
}
