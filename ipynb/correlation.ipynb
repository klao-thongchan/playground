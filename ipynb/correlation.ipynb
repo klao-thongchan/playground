{
 "cells": [
  {
   "cell_type": "code",
   "execution_count": null,
   "metadata": {},
   "outputs": [],
   "source": [
    "import pandas as pd\n",
    "\n",
    "# Load the dataset into a Pandas DataFrame\n",
    "data = pd.read_csv(\"height_weight.csv\")\n",
    "\n",
    "# Calculate the correlation coefficient between height and weight\n",
    "corr = data[\"height\"].corr(data[\"weight\"])\n",
    "\n",
    "print(\"Correlation coefficient:\", corr)\n"
   ]
  },
  {
   "cell_type": "code",
   "execution_count": null,
   "metadata": {},
   "outputs": [],
   "source": [
    "import pandas as pd\n",
    "\n",
    "# Load the dataset into a Pandas DataFrame\n",
    "data = pd.read_csv(\"height_weight_age_gender.csv\")\n",
    "\n",
    "# Calculate the correlation matrix between all variables\n",
    "corr_matrix = data.corr()\n",
    "\n",
    "print(corr_matrix)\n"
   ]
  }
 ],
 "metadata": {
  "language_info": {
   "name": "python"
  },
  "orig_nbformat": 4
 },
 "nbformat": 4,
 "nbformat_minor": 2
}
