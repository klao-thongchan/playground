{
 "cells": [
  {
   "cell_type": "code",
   "execution_count": 186,
   "metadata": {},
   "outputs": [],
   "source": [
    "import csv\n",
    "import math\n",
    "import random"
   ]
  },
  {
   "cell_type": "code",
   "execution_count": 187,
   "metadata": {},
   "outputs": [],
   "source": [
    "#ETL\n",
    "def loadcsv() :\n",
    "    line = csv.reader(open(r'C:\\datasets\\pima-indians_diabetes.csv'))\n",
    "    dataset = list(line)\n",
    "\n",
    "    #set all data to float (make sure they are not string!)\n",
    "    #for i in range(len(dataset)) :\n",
    "    for i in range(dataset[1:]) :\n",
    "        dataset[i] = [float(x) for x in dataset[i]]\n",
    "    return dataset"
   ]
  },
  {
   "cell_type": "code",
   "execution_count": 188,
   "metadata": {},
   "outputs": [],
   "source": [
    "#split data for training\n",
    "def splitdataset(dataset, splitratio) :\n",
    "    trainsize = int(len(dataset) * splitratio)\n",
    "    trainset = []\n",
    "    copy = list(dataset)\n",
    "    while len(trainset) < trainsize :\n",
    "        index = random.randrange(len(copy))\n",
    "        trainset.append(copy.pop(index))\n",
    "    return [trainset, copy]"
   ]
  },
  {
   "cell_type": "code",
   "execution_count": 189,
   "metadata": {},
   "outputs": [],
   "source": [
    "def separatebyclass(dataset) :\n",
    "    separated = {}\n",
    "    for i in range(len(dataset)) :\n",
    "        vector = dataset[i]\n",
    "        if (vector[-1] not in separated) :\n",
    "            separated[vector[-1]] = []\n",
    "        separated[vector[-1]].append(vector)\n",
    "    return separated"
   ]
  },
  {
   "cell_type": "code",
   "execution_count": 190,
   "metadata": {},
   "outputs": [],
   "source": [
    "def mean(numbers) :\n",
    "    return sum(numbers)/float(len(numbers))\n",
    "\n",
    "def stdev(numbers) :\n",
    "    avg = mean(numbers)\n",
    "    variance = sum([pow(x-avg, 2) for x in numbers])/float(len(numbers)-1)\n",
    "    return math.sqrt(variance)"
   ]
  },
  {
   "cell_type": "code",
   "execution_count": 191,
   "metadata": {},
   "outputs": [],
   "source": [
    "def summarize(dataset) :\n",
    "    summaries = [(mean(attribute), stdev(attribute)) for attribute in zip(*dataset)]\n",
    "    del summaries[-1]\n",
    "    return summaries"
   ]
  },
  {
   "cell_type": "code",
   "execution_count": 192,
   "metadata": {},
   "outputs": [],
   "source": [
    "def summarizebyclass(dataset) :\n",
    "    separated = separatebyclass(dataset)\n",
    "    summaries = {}\n",
    "    for classvalue, instances in separated.items() :\n",
    "        summaries[classvalue] = summaries(instances)\n",
    "    return summaries"
   ]
  },
  {
   "cell_type": "code",
   "execution_count": 193,
   "metadata": {},
   "outputs": [],
   "source": [
    "def calculateprobability(x, mean, stdev) :\n",
    "    exponent = math.exp(-(math.pow(x-mean, 2)/(2*math.pow(stdev, 2))))\n",
    "    return (1/(math.sqrt(2*math.pi)*stdev))*exponent"
   ]
  },
  {
   "cell_type": "code",
   "execution_count": 194,
   "metadata": {},
   "outputs": [],
   "source": [
    "def calculateclassproabilities(summaries, inputvector) :\n",
    "    probabilities = {}\n",
    "    for classvalue, classsummaries in summaries.items() :\n",
    "        probabilities[classvalue] = 1\n",
    "        for i in range(len(classsummaries)) :\n",
    "            mean, stdev = classsummaries[i]\n",
    "            x = inputvector[i]\n",
    "            probabilities[classvalue] *= calculateprobability(x, mean, stdev)\n",
    "        return probabilities"
   ]
  },
  {
   "cell_type": "code",
   "execution_count": 195,
   "metadata": {},
   "outputs": [],
   "source": [
    "def predict(summaries, inputvector) :\n",
    "    probability = calculateclassproabilities(summaries, inputvector)\n",
    "    bestlabel, bestprob = None, -1\n",
    "    for classvalue, probability in probability.items() :\n",
    "        if bestlabel is None or probability > bestprob:\n",
    "            bestprob = probability\n",
    "            bestlabel = classvalue\n",
    "    return bestlabel"
   ]
  },
  {
   "cell_type": "code",
   "execution_count": 196,
   "metadata": {},
   "outputs": [],
   "source": [
    "def getpredictions(summaries, testset) :\n",
    "    predictions = []\n",
    "    for i in range(len(testset)) :\n",
    "        result = predict(summaries, testset[i])\n",
    "        predictions.append(result)\n",
    "    return predictions"
   ]
  },
  {
   "cell_type": "code",
   "execution_count": 197,
   "metadata": {},
   "outputs": [],
   "source": [
    "def getaccuracy(testset, predictions) :\n",
    "    correct = 0\n",
    "    for x in range(len(testset)) :\n",
    "        if testset[x][-1] == predictions[x] :\n",
    "            correct += 1\n",
    "    return (correct/float(len(testset)))*100.0"
   ]
  },
  {
   "cell_type": "code",
   "execution_count": 198,
   "metadata": {},
   "outputs": [
    {
     "ename": "TypeError",
     "evalue": "'list' object cannot be interpreted as an integer",
     "output_type": "error",
     "traceback": [
      "\u001b[1;31m---------------------------------------------------------------------------\u001b[0m",
      "\u001b[1;31mTypeError\u001b[0m                                 Traceback (most recent call last)",
      "\u001b[1;32m\\klaodevilz\\playground\\ipynb\\bayes_diabetes.ipynb Cell 13'\u001b[0m in \u001b[0;36m<cell line: 14>\u001b[1;34m()\u001b[0m\n\u001b[0;32m     <a href='vscode-notebook-cell://github/klaodevilz/playground/ipynb/bayes_diabetes.ipynb#ch0000012vscode-vfs?line=10'>11</a>\u001b[0m     accuracy \u001b[39m=\u001b[39m getaccuracy(testset, preddictions)\n\u001b[0;32m     <a href='vscode-notebook-cell://github/klaodevilz/playground/ipynb/bayes_diabetes.ipynb#ch0000012vscode-vfs?line=11'>12</a>\u001b[0m     \u001b[39mprint\u001b[39m(\u001b[39m'\u001b[39m\u001b[39mAccuracy: \u001b[39m\u001b[39m{0}\u001b[39;00m\u001b[39m%\u001b[39m\u001b[39m'\u001b[39m\u001b[39m.\u001b[39mformat(accuracy))\n\u001b[1;32m---> <a href='vscode-notebook-cell://github/klaodevilz/playground/ipynb/bayes_diabetes.ipynb#ch0000012vscode-vfs?line=13'>14</a>\u001b[0m main()\n",
      "\u001b[1;32m\\klaodevilz\\playground\\ipynb\\bayes_diabetes.ipynb Cell 13'\u001b[0m in \u001b[0;36mmain\u001b[1;34m()\u001b[0m\n\u001b[0;32m      <a href='vscode-notebook-cell://github/klaodevilz/playground/ipynb/bayes_diabetes.ipynb#ch0000012vscode-vfs?line=0'>1</a>\u001b[0m \u001b[39mdef\u001b[39;00m \u001b[39mmain\u001b[39m() :\n\u001b[0;32m      <a href='vscode-notebook-cell://github/klaodevilz/playground/ipynb/bayes_diabetes.ipynb#ch0000012vscode-vfs?line=1'>2</a>\u001b[0m     \u001b[39m#filename = 'pima-indians_diabetes.csv'\u001b[39;00m\n\u001b[0;32m      <a href='vscode-notebook-cell://github/klaodevilz/playground/ipynb/bayes_diabetes.ipynb#ch0000012vscode-vfs?line=2'>3</a>\u001b[0m     splitratio \u001b[39m=\u001b[39m \u001b[39m0.67\u001b[39m\n\u001b[1;32m----> <a href='vscode-notebook-cell://github/klaodevilz/playground/ipynb/bayes_diabetes.ipynb#ch0000012vscode-vfs?line=3'>4</a>\u001b[0m     dataset \u001b[39m=\u001b[39m loadcsv()\n\u001b[0;32m      <a href='vscode-notebook-cell://github/klaodevilz/playground/ipynb/bayes_diabetes.ipynb#ch0000012vscode-vfs?line=4'>5</a>\u001b[0m     trainingset, testset \u001b[39m=\u001b[39m splitdataset(dataset, splitratio)\n\u001b[0;32m      <a href='vscode-notebook-cell://github/klaodevilz/playground/ipynb/bayes_diabetes.ipynb#ch0000012vscode-vfs?line=5'>6</a>\u001b[0m     \u001b[39mprint\u001b[39m(\u001b[39m'\u001b[39m\u001b[39mSplit \u001b[39m\u001b[39m{0}\u001b[39;00m\u001b[39m rows into train = \u001b[39m\u001b[39m{1}\u001b[39;00m\u001b[39m and test = \u001b[39m\u001b[39m{2}\u001b[39;00m\u001b[39m rows\u001b[39m\u001b[39m'\u001b[39m\u001b[39m.\u001b[39mformat(\u001b[39mlen\u001b[39m(dataset), \u001b[39mlen\u001b[39m(trainingset), \u001b[39mlen\u001b[39m(testset)))\n",
      "\u001b[1;32m\\klaodevilz\\playground\\ipynb\\bayes_diabetes.ipynb Cell 2'\u001b[0m in \u001b[0;36mloadcsv\u001b[1;34m()\u001b[0m\n\u001b[0;32m      <a href='vscode-notebook-cell://github/klaodevilz/playground/ipynb/bayes_diabetes.ipynb#ch0000001vscode-vfs?line=3'>4</a>\u001b[0m dataset \u001b[39m=\u001b[39m \u001b[39mlist\u001b[39m(line)\n\u001b[0;32m      <a href='vscode-notebook-cell://github/klaodevilz/playground/ipynb/bayes_diabetes.ipynb#ch0000001vscode-vfs?line=5'>6</a>\u001b[0m \u001b[39m#set all data to float (make sure they are not string!)\u001b[39;00m\n\u001b[0;32m      <a href='vscode-notebook-cell://github/klaodevilz/playground/ipynb/bayes_diabetes.ipynb#ch0000001vscode-vfs?line=6'>7</a>\u001b[0m \u001b[39m#for i in range(len(dataset)) :\u001b[39;00m\n\u001b[1;32m----> <a href='vscode-notebook-cell://github/klaodevilz/playground/ipynb/bayes_diabetes.ipynb#ch0000001vscode-vfs?line=7'>8</a>\u001b[0m \u001b[39mfor\u001b[39;00m i \u001b[39min\u001b[39;00m \u001b[39mrange\u001b[39;49m(dataset[\u001b[39m1\u001b[39;49m:]) :\n\u001b[0;32m      <a href='vscode-notebook-cell://github/klaodevilz/playground/ipynb/bayes_diabetes.ipynb#ch0000001vscode-vfs?line=8'>9</a>\u001b[0m     dataset[i] \u001b[39m=\u001b[39m [\u001b[39mfloat\u001b[39m(x) \u001b[39mfor\u001b[39;00m x \u001b[39min\u001b[39;00m dataset[i]]\n\u001b[0;32m     <a href='vscode-notebook-cell://github/klaodevilz/playground/ipynb/bayes_diabetes.ipynb#ch0000001vscode-vfs?line=9'>10</a>\u001b[0m \u001b[39mreturn\u001b[39;00m dataset\n",
      "\u001b[1;31mTypeError\u001b[0m: 'list' object cannot be interpreted as an integer"
     ]
    }
   ],
   "source": [
    "def main() :\n",
    "    #filename = 'pima-indians_diabetes.csv'\n",
    "    splitratio = 0.67\n",
    "    dataset = loadcsv()\n",
    "    trainingset, testset = splitdataset(dataset, splitratio)\n",
    "    print('Split {0} rows into train = {1} and test = {2} rows'.format(len(dataset), len(trainingset), len(testset)))\n",
    "\n",
    "    summaries = summarizebyclass(trainingset)\n",
    "\n",
    "    preddictions = getpredictions(summaries, testset)\n",
    "    accuracy = getaccuracy(testset, preddictions)\n",
    "    print('Accuracy: {0}%'.format(accuracy))\n",
    "\n",
    "main()"
   ]
  }
 ],
 "metadata": {
  "interpreter": {
   "hash": "89a8cfedefd405a11d6bfa4a37e16a840bca1c40d5ba9902a9fc9c9614fd8e61"
  },
  "kernelspec": {
   "display_name": "Python 3.9.11 64-bit (windows store)",
   "language": "python",
   "name": "python3"
  },
  "language_info": {
   "codemirror_mode": {
    "name": "ipython",
    "version": 3
   },
   "file_extension": ".py",
   "mimetype": "text/x-python",
   "name": "python",
   "nbconvert_exporter": "python",
   "pygments_lexer": "ipython3",
   "version": "3.9.11"
  },
  "orig_nbformat": 4
 },
 "nbformat": 4,
 "nbformat_minor": 2
}
