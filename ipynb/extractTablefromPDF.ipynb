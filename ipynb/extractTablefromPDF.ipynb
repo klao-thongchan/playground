{
 "cells": [
  {
   "cell_type": "code",
   "execution_count": null,
   "metadata": {},
   "outputs": [],
   "source": [
    "# !pip install camelot-py\n",
    "\n",
    "import camelot\n",
    "\n",
    "tables = camelot.read_pdf('foo.pdf', pages='1', flavor='lattice')\n",
    "print(tables)"
   ]
  },
  {
   "cell_type": "code",
   "execution_count": null,
   "metadata": {},
   "outputs": [],
   "source": [
    "tables.export('foo.csv', f='csv', compress=True)\n",
    "tables[0].to_csv('foo.csv')  # to a csv file\n",
    "print(tables[0].df)  # to a df"
   ]
  }
 ],
 "metadata": {
  "language_info": {
   "name": "python"
  },
  "orig_nbformat": 4
 },
 "nbformat": 4,
 "nbformat_minor": 2
}
