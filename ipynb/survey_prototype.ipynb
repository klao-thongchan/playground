{
 "cells": [
  {
   "cell_type": "code",
   "execution_count": null,
   "metadata": {
    "vscode": {
     "languageId": "r"
    }
   },
   "outputs": [],
   "source": [
    "# Importing required libraries\n",
    "import pandas as pd\n",
    "\n",
    "# Reading in the survey data\n",
    "survey_data = pd.read_csv('survey_data.csv')\n",
    "\n",
    "# Counting the number of respondents by gender\n",
    "gender_counts = survey_data['gender'].value_counts()\n",
    "\n",
    "# Calculating the average age of respondents\n",
    "avg_age = survey_data['age'].mean()\n",
    "\n",
    "# Calculating the percentage of respondents who answered 'yes' to a question\n",
    "yes_percent = (survey_data['question'] == 'yes').mean() * 100\n",
    "\n",
    "# Printing the summary statistics\n",
    "print('Number of respondents by gender:')\n",
    "print(gender_counts)\n",
    "print('\\nAverage age of respondents:', avg_age)\n",
    "print('\\nPercentage of respondents who answered yes:', yes_percent)"
   ]
  }
 ],
 "metadata": {
  "kernelspec": {
   "display_name": "R",
   "language": "R",
   "name": "ir"
  },
  "language_info": {
   "name": "R"
  },
  "orig_nbformat": 4
 },
 "nbformat": 4,
 "nbformat_minor": 2
}
