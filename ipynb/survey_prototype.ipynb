{
 "cells": [
  {
   "cell_type": "code",
   "execution_count": null,
   "metadata": {
    "vscode": {
     "languageId": "r"
    }
   },
   "outputs": [],
   "source": [
    "# Importing required libraries\n",
    "import pandas as pd\n",
    "\n",
    "# Reading in the survey data\n",
    "survey_data = pd.read_csv('survey_data.csv')\n",
    "\n",
    "# Counting the number of respondents by gender\n",
    "gender_counts = survey_data['gender'].value_counts()\n",
    "\n",
    "# Calculating the average age of respondents\n",
    "avg_age = survey_data['age'].mean()\n",
    "\n",
    "# Calculating the percentage of respondents who answered 'yes' to a question\n",
    "yes_percent = (survey_data['question'] == 'yes').mean() * 100\n",
    "\n",
    "# Printing the summary statistics\n",
    "print('Number of respondents by gender:')\n",
    "print(gender_counts)\n",
    "print('\\nAverage age of respondents:', avg_age)\n",
    "print('\\nPercentage of respondents who answered yes:', yes_percent)"
   ]
  },
  {
   "cell_type": "markdown",
   "metadata": {},
   "source": [
    "In this example, we first import the required library (pandas). We then read in the survey data from a CSV file, and use various Pandas functions to summarize the data. We count the number of respondents by gender using the value_counts() function, calculate the average age of respondents using the mean() function, and calculate the percentage of respondents who answered 'yes' to a question using the mean() function and multiplying by 100. Finally, we print the summary statistics using the print() function. Note that you'll need to replace 'survey_data.csv' with the name of your own survey data file, and 'gender', 'age', and 'question' with the names of the relevant columns in your dataset."
   ]
  }
 ],
 "metadata": {
  "kernelspec": {
   "display_name": "R",
   "language": "R",
   "name": "ir"
  },
  "language_info": {
   "name": "R"
  },
  "orig_nbformat": 4
 },
 "nbformat": 4,
 "nbformat_minor": 2
}
