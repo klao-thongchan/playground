{
 "cells": [
  {
   "cell_type": "markdown",
   "metadata": {},
   "source": [
    "prerequisition:\n",
    "1. Selenium - https://www.selenium.dev/\n",
    "2. ChromeDriver (webdriver) - https://chromedriver.chromium.org/\n",
    "\n",
    "I'm using Chrome version 100.0.4896.127 (64bit)"
   ]
  },
  {
   "cell_type": "code",
   "execution_count": 122,
   "metadata": {},
   "outputs": [
    {
     "name": "stderr",
     "output_type": "stream",
     "text": [
      "C:\\Users\\thong\\AppData\\Local\\Temp\\ipykernel_15024\\1818721584.py:11: DeprecationWarning: executable_path has been deprecated, please pass in a Service object\n",
      "  driver = webdriver.Chrome(path)\n"
     ]
    }
   ],
   "source": [
    "# import selenium\n",
    "from selenium import webdriver\n",
    "from selenium.webdriver.common.keys import Keys # for keyboard control\n",
    "from selenium.webdriver.common.by import By\n",
    "from selenium.webdriver.support.ui import WebDriverWait\n",
    "from selenium.webdriver.support import expected_conditions as EC\n",
    "import time\n",
    "\n",
    "# webdriver path\n",
    "path = \"C:\\chromedriver_win32\\chromedriver.exe\"\n",
    "driver = webdriver.Chrome(path)"
   ]
  },
  {
   "cell_type": "code",
   "execution_count": 123,
   "metadata": {},
   "outputs": [
    {
     "name": "stdout",
     "output_type": "stream",
     "text": [
      "entering sonystore\n",
      "finding add to cart\n"
     ]
    }
   ],
   "source": [
    "powerbuy = \"https://www.powerbuy.co.th/th/\"\n",
    "sonystore = \"https://store.sony.co.th/collections/playstation-5\"\n",
    "\n",
    "def getonPB():\n",
    "    print(\"entering powerbuy\")\n",
    "    driver.get(powerbuy)\n",
    "    search = driver.find_element(By.ID, 'txt-searchBox-input')\n",
    "    search.send_keys(\"Playstation 5\")\n",
    "    search.send_keys(Keys.RETURN) # hit ENTER\n",
    "    print(\"searching for PS5\")\n",
    "    try:\n",
    "        print(\"finding add to cart\")\n",
    "        pbelement = WebDriverWait(driver, 5).until(\n",
    "            EC.presence_of_all_element_located((By.LINK_TEXT, \"Add to cart\"))\n",
    "        )\n",
    "        pbelement.click()\n",
    "    finally:\n",
    "        print(\"element not found\")\n",
    "        # driver.quit()\n",
    "\n",
    "# def getonSS():\n",
    "    print(\"entering sonystore\")\n",
    "    driver.get(sonystore)\n",
    "    # search = driver.find_element(By.CSS_SELECTOR('div > data-listing-price'), value = 2090)\n",
    "    #search.send_keys(Keys.RETURN)\n",
    "    # Get element with tag name 'div'\n",
    "    element = driver.find_element(By.TAG_NAME, 'div')\n",
    "    # Get all the elements available with tag name 'p'\n",
    "    elements = element.find_elements(By.TAG_NAME, 'p')\n",
    "    for e in elements:\n",
    "        print(e.text)\n",
    "    #return result\n",
    "\n",
    "print(\"entering sonystore\")\n",
    "driver.get(sonystore)\n",
    "\n",
    "try:\n",
    "    print(\"finding add to cart\")\n",
    "    sselement = WebDriverWait(driver, 5).until(\n",
    "        # EC.presence_of_all_element_located((By.LINK_TEXT, \"Add to cart\"))\n",
    "        # EC.presence_of_all_element_located((By.XPATH, '//*[@id=\"shopify-section-collection-template\"]/div/div[3]/div[2]/div[1]/div/figure/div/a/div/img'))\n",
    "        EC.element_to_be_clickable((By.XPATH, '//*[@id=\"product_form_4872583249963\"]/div/button'))\n",
    "    )\n",
    "    sselement.click()\n",
    "except:\n",
    "    print(\"element not found\")\n",
    "    # driver.quit()\n",
    "    getonPB()"
   ]
  },
  {
   "cell_type": "code",
   "execution_count": 124,
   "metadata": {},
   "outputs": [],
   "source": [
    "#getonPB()"
   ]
  }
 ],
 "metadata": {
  "interpreter": {
   "hash": "89a8cfedefd405a11d6bfa4a37e16a840bca1c40d5ba9902a9fc9c9614fd8e61"
  },
  "kernelspec": {
   "display_name": "Python 3.9.12 64-bit (windows store)",
   "language": "python",
   "name": "python3"
  },
  "language_info": {
   "codemirror_mode": {
    "name": "ipython",
    "version": 3
   },
   "file_extension": ".py",
   "mimetype": "text/x-python",
   "name": "python",
   "nbconvert_exporter": "python",
   "pygments_lexer": "ipython3",
   "version": "3.9.12"
  },
  "orig_nbformat": 4
 },
 "nbformat": 4,
 "nbformat_minor": 2
}
