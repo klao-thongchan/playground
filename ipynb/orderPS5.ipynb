{
 "cells": [
  {
   "cell_type": "markdown",
   "metadata": {},
   "source": [
    "prerequisition:\n",
    "1. Selenium - https://www.selenium.dev/\n",
    "2. ChromeDriver (webdriver) - https://chromedriver.chromium.org/\n",
    "\n",
    "I'm using Chrome version 100.0.4896.127 (64bit)"
   ]
  },
  {
   "cell_type": "code",
   "execution_count": 110,
   "metadata": {},
   "outputs": [
    {
     "name": "stderr",
     "output_type": "stream",
     "text": [
      "C:\\Users\\thong\\AppData\\Local\\Temp\\ipykernel_15024\\1818721584.py:11: DeprecationWarning: executable_path has been deprecated, please pass in a Service object\n",
      "  driver = webdriver.Chrome(path)\n"
     ]
    }
   ],
   "source": [
    "# import selenium\n",
    "from selenium import webdriver\n",
    "from selenium.webdriver.common.keys import Keys # for keyboard control\n",
    "from selenium.webdriver.common.by import By\n",
    "from selenium.webdriver.support.ui import WebDriverWait\n",
    "from selenium.webdriver.support import expected_conditions as EC\n",
    "import time\n",
    "\n",
    "# webdriver path\n",
    "path = \"C:\\chromedriver_win32\\chromedriver.exe\"\n",
    "driver = webdriver.Chrome(path)"
   ]
  },
  {
   "cell_type": "code",
   "execution_count": 111,
   "metadata": {},
   "outputs": [
    {
     "name": "stdout",
     "output_type": "stream",
     "text": [
      "entering sonystore\n",
      "finding add to cart\n"
     ]
    }
   ],
   "source": [
    "powerbuy = \"https://www.powerbuy.co.th/th/?utm_source=facebook&utm_medium=fborganic&utm_term=&utm_content=&utm_campaign=STAYTUNED-PS5-PRE-ORDER-21.04.22&fbclid=IwAR10117S6VCJVildRAIqd9jDPDyoCTrWL8lYUB7efaZ1TiwxEdMafjYikFE\"\n",
    "sonystore = \"https://store.sony.co.th/collections/playstation-5\"\n",
    "\n",
    "def getonPB():\n",
    "    print(\"entering powerbuy\")\n",
    "    driver.get(powerbuy)\n",
    "    search = driver.find_element(By.ID, 'txt-searchBox-input')\n",
    "    search.send_keys(\"Playstation 5\")\n",
    "    search.send_keys(Keys.RETURN) # hit ENTER\n",
    "    print(\"searching for PS5\")\n",
    "    try:\n",
    "        print(\"finding add to cart\")\n",
    "        pbelement = WebDriverWait(driver, 5).until(\n",
    "            EC.presence_of_all_element_located((By.LINK_TEXT, \"Add to cart\"))\n",
    "        )\n",
    "        pbelement.click()\n",
    "    finally:\n",
    "        print(\"element not found\")\n",
    "        # driver.quit()\n",
    "\n",
    "# def getonSS():\n",
    "    print(\"entering sonystore\")\n",
    "    driver.get(sonystore)\n",
    "    # search = driver.find_element(By.CSS_SELECTOR('div > data-listing-price'), value = 2090)\n",
    "    #search.send_keys(Keys.RETURN)\n",
    "    # Get element with tag name 'div'\n",
    "    element = driver.find_element(By.TAG_NAME, 'div')\n",
    "    # Get all the elements available with tag name 'p'\n",
    "    elements = element.find_elements(By.TAG_NAME, 'p')\n",
    "    for e in elements:\n",
    "        print(e.text)\n",
    "    #return result\n",
    "\n",
    "print(\"entering sonystore\")\n",
    "driver.get(sonystore)\n",
    "\n",
    "try:\n",
    "    print(\"finding add to cart\")\n",
    "    sselement = WebDriverWait(driver, 5).until(\n",
    "        # EC.presence_of_all_element_located((By.LINK_TEXT, \"Add to cart\"))\n",
    "        # EC.presence_of_all_element_located((By.XPATH, '//*[@id=\"shopify-section-collection-template\"]/div/div[3]/div[2]/div[1]/div/figure/div/a/div/img'))\n",
    "        EC.element_to_be_clickable((By.XPATH, '//*[@id=\"product_form_4872583249963\"]/div/button'))\n",
    "    )\n",
    "    sselement.click()\n",
    "except:\n",
    "    print(\"element not found\")\n",
    "    # driver.quit()\n",
    "    getonPB()"
   ]
  },
  {
   "cell_type": "code",
   "execution_count": 112,
   "metadata": {},
   "outputs": [
    {
     "name": "stdout",
     "output_type": "stream",
     "text": [
      "entering powerbuy\n"
     ]
    },
    {
     "ename": "WebDriverException",
     "evalue": "Message: chrome not reachable\n  (Session info: chrome=100.0.4896.127)\nStacktrace:\nBacktrace:\n\tOrdinal0 [0x00847413+2389011]\n\tOrdinal0 [0x007D9F61+1941345]\n\tOrdinal0 [0x006CC520+836896]\n\tOrdinal0 [0x006C0682+788098]\n\tOrdinal0 [0x006C0EB8+790200]\n\tOrdinal0 [0x006C2752+796498]\n\tOrdinal0 [0x006BC0D9+770265]\n\tOrdinal0 [0x006CD9D0+842192]\n\tOrdinal0 [0x00723AE2+1194722]\n\tOrdinal0 [0x00713F66+1130342]\n\tOrdinal0 [0x006EE546+976198]\n\tOrdinal0 [0x006EF456+980054]\n\tGetHandleVerifier [0x009F9632+1727522]\n\tGetHandleVerifier [0x00AABA4D+2457661]\n\tGetHandleVerifier [0x008DEB81+569713]\n\tGetHandleVerifier [0x008DDD76+566118]\n\tOrdinal0 [0x007E0B2B+1968939]\n\tOrdinal0 [0x007E5988+1989000]\n\tOrdinal0 [0x007E5A75+1989237]\n\tOrdinal0 [0x007EECB1+2026673]\n\tBaseThreadInitThunk [0x76D96739+25]\n\tRtlGetFullPathName_UEx [0x77B48E7F+1215]\n\tRtlGetFullPathName_UEx [0x77B48E4D+1165]\n",
     "output_type": "error",
     "traceback": [
      "\u001b[1;31m---------------------------------------------------------------------------\u001b[0m",
      "\u001b[1;31mWebDriverException\u001b[0m                        Traceback (most recent call last)",
      "\u001b[1;32m\\klaodevilz\\playground\\ipynb\\orderPS5.ipynb Cell 4'\u001b[0m in \u001b[0;36m<cell line: 1>\u001b[1;34m()\u001b[0m\n\u001b[1;32m----> <a href='vscode-notebook-cell://github/klaodevilz/playground/ipynb/orderPS5.ipynb#ch0000004vscode-vfs?line=0'>1</a>\u001b[0m getonPB()\n",
      "\u001b[1;32m\\klaodevilz\\playground\\ipynb\\orderPS5.ipynb Cell 3'\u001b[0m in \u001b[0;36mgetonPB\u001b[1;34m()\u001b[0m\n\u001b[0;32m      <a href='vscode-notebook-cell://github/klaodevilz/playground/ipynb/orderPS5.ipynb#ch0000003vscode-vfs?line=3'>4</a>\u001b[0m \u001b[39mdef\u001b[39;00m \u001b[39mgetonPB\u001b[39m():\n\u001b[0;32m      <a href='vscode-notebook-cell://github/klaodevilz/playground/ipynb/orderPS5.ipynb#ch0000003vscode-vfs?line=4'>5</a>\u001b[0m     \u001b[39mprint\u001b[39m(\u001b[39m\"\u001b[39m\u001b[39mentering powerbuy\u001b[39m\u001b[39m\"\u001b[39m)\n\u001b[1;32m----> <a href='vscode-notebook-cell://github/klaodevilz/playground/ipynb/orderPS5.ipynb#ch0000003vscode-vfs?line=5'>6</a>\u001b[0m     driver\u001b[39m.\u001b[39;49mget(powerbuy)\n\u001b[0;32m      <a href='vscode-notebook-cell://github/klaodevilz/playground/ipynb/orderPS5.ipynb#ch0000003vscode-vfs?line=6'>7</a>\u001b[0m     search \u001b[39m=\u001b[39m driver\u001b[39m.\u001b[39mfind_element(By\u001b[39m.\u001b[39mID, \u001b[39m'\u001b[39m\u001b[39mtxt-searchBox-input\u001b[39m\u001b[39m'\u001b[39m)\n\u001b[0;32m      <a href='vscode-notebook-cell://github/klaodevilz/playground/ipynb/orderPS5.ipynb#ch0000003vscode-vfs?line=7'>8</a>\u001b[0m     search\u001b[39m.\u001b[39msend_keys(\u001b[39m\"\u001b[39m\u001b[39mPlaystation 5\u001b[39m\u001b[39m\"\u001b[39m)\n",
      "File \u001b[1;32m~\\AppData\\Local\\Packages\\PythonSoftwareFoundation.Python.3.9_qbz5n2kfra8p0\\LocalCache\\local-packages\\Python39\\site-packages\\selenium\\webdriver\\remote\\webdriver.py:437\u001b[0m, in \u001b[0;36mWebDriver.get\u001b[1;34m(self, url)\u001b[0m\n\u001b[0;32m    <a href='file:///c%3A/Users/thong/AppData/Local/Packages/PythonSoftwareFoundation.Python.3.9_qbz5n2kfra8p0/LocalCache/local-packages/Python39/site-packages/selenium/webdriver/remote/webdriver.py?line=432'>433</a>\u001b[0m \u001b[39mdef\u001b[39;00m \u001b[39mget\u001b[39m(\u001b[39mself\u001b[39m, url: \u001b[39mstr\u001b[39m) \u001b[39m-\u001b[39m\u001b[39m>\u001b[39m \u001b[39mNone\u001b[39;00m:\n\u001b[0;32m    <a href='file:///c%3A/Users/thong/AppData/Local/Packages/PythonSoftwareFoundation.Python.3.9_qbz5n2kfra8p0/LocalCache/local-packages/Python39/site-packages/selenium/webdriver/remote/webdriver.py?line=433'>434</a>\u001b[0m     \u001b[39m\"\"\"\u001b[39;00m\n\u001b[0;32m    <a href='file:///c%3A/Users/thong/AppData/Local/Packages/PythonSoftwareFoundation.Python.3.9_qbz5n2kfra8p0/LocalCache/local-packages/Python39/site-packages/selenium/webdriver/remote/webdriver.py?line=434'>435</a>\u001b[0m \u001b[39m    Loads a web page in the current browser session.\u001b[39;00m\n\u001b[0;32m    <a href='file:///c%3A/Users/thong/AppData/Local/Packages/PythonSoftwareFoundation.Python.3.9_qbz5n2kfra8p0/LocalCache/local-packages/Python39/site-packages/selenium/webdriver/remote/webdriver.py?line=435'>436</a>\u001b[0m \u001b[39m    \"\"\"\u001b[39;00m\n\u001b[1;32m--> <a href='file:///c%3A/Users/thong/AppData/Local/Packages/PythonSoftwareFoundation.Python.3.9_qbz5n2kfra8p0/LocalCache/local-packages/Python39/site-packages/selenium/webdriver/remote/webdriver.py?line=436'>437</a>\u001b[0m     \u001b[39mself\u001b[39;49m\u001b[39m.\u001b[39;49mexecute(Command\u001b[39m.\u001b[39;49mGET, {\u001b[39m'\u001b[39;49m\u001b[39murl\u001b[39;49m\u001b[39m'\u001b[39;49m: url})\n",
      "File \u001b[1;32m~\\AppData\\Local\\Packages\\PythonSoftwareFoundation.Python.3.9_qbz5n2kfra8p0\\LocalCache\\local-packages\\Python39\\site-packages\\selenium\\webdriver\\remote\\webdriver.py:425\u001b[0m, in \u001b[0;36mWebDriver.execute\u001b[1;34m(self, driver_command, params)\u001b[0m\n\u001b[0;32m    <a href='file:///c%3A/Users/thong/AppData/Local/Packages/PythonSoftwareFoundation.Python.3.9_qbz5n2kfra8p0/LocalCache/local-packages/Python39/site-packages/selenium/webdriver/remote/webdriver.py?line=422'>423</a>\u001b[0m response \u001b[39m=\u001b[39m \u001b[39mself\u001b[39m\u001b[39m.\u001b[39mcommand_executor\u001b[39m.\u001b[39mexecute(driver_command, params)\n\u001b[0;32m    <a href='file:///c%3A/Users/thong/AppData/Local/Packages/PythonSoftwareFoundation.Python.3.9_qbz5n2kfra8p0/LocalCache/local-packages/Python39/site-packages/selenium/webdriver/remote/webdriver.py?line=423'>424</a>\u001b[0m \u001b[39mif\u001b[39;00m response:\n\u001b[1;32m--> <a href='file:///c%3A/Users/thong/AppData/Local/Packages/PythonSoftwareFoundation.Python.3.9_qbz5n2kfra8p0/LocalCache/local-packages/Python39/site-packages/selenium/webdriver/remote/webdriver.py?line=424'>425</a>\u001b[0m     \u001b[39mself\u001b[39;49m\u001b[39m.\u001b[39;49merror_handler\u001b[39m.\u001b[39;49mcheck_response(response)\n\u001b[0;32m    <a href='file:///c%3A/Users/thong/AppData/Local/Packages/PythonSoftwareFoundation.Python.3.9_qbz5n2kfra8p0/LocalCache/local-packages/Python39/site-packages/selenium/webdriver/remote/webdriver.py?line=425'>426</a>\u001b[0m     response[\u001b[39m'\u001b[39m\u001b[39mvalue\u001b[39m\u001b[39m'\u001b[39m] \u001b[39m=\u001b[39m \u001b[39mself\u001b[39m\u001b[39m.\u001b[39m_unwrap_value(\n\u001b[0;32m    <a href='file:///c%3A/Users/thong/AppData/Local/Packages/PythonSoftwareFoundation.Python.3.9_qbz5n2kfra8p0/LocalCache/local-packages/Python39/site-packages/selenium/webdriver/remote/webdriver.py?line=426'>427</a>\u001b[0m         response\u001b[39m.\u001b[39mget(\u001b[39m'\u001b[39m\u001b[39mvalue\u001b[39m\u001b[39m'\u001b[39m, \u001b[39mNone\u001b[39;00m))\n\u001b[0;32m    <a href='file:///c%3A/Users/thong/AppData/Local/Packages/PythonSoftwareFoundation.Python.3.9_qbz5n2kfra8p0/LocalCache/local-packages/Python39/site-packages/selenium/webdriver/remote/webdriver.py?line=427'>428</a>\u001b[0m     \u001b[39mreturn\u001b[39;00m response\n",
      "File \u001b[1;32m~\\AppData\\Local\\Packages\\PythonSoftwareFoundation.Python.3.9_qbz5n2kfra8p0\\LocalCache\\local-packages\\Python39\\site-packages\\selenium\\webdriver\\remote\\errorhandler.py:247\u001b[0m, in \u001b[0;36mErrorHandler.check_response\u001b[1;34m(self, response)\u001b[0m\n\u001b[0;32m    <a href='file:///c%3A/Users/thong/AppData/Local/Packages/PythonSoftwareFoundation.Python.3.9_qbz5n2kfra8p0/LocalCache/local-packages/Python39/site-packages/selenium/webdriver/remote/errorhandler.py?line=244'>245</a>\u001b[0m         alert_text \u001b[39m=\u001b[39m value[\u001b[39m'\u001b[39m\u001b[39malert\u001b[39m\u001b[39m'\u001b[39m]\u001b[39m.\u001b[39mget(\u001b[39m'\u001b[39m\u001b[39mtext\u001b[39m\u001b[39m'\u001b[39m)\n\u001b[0;32m    <a href='file:///c%3A/Users/thong/AppData/Local/Packages/PythonSoftwareFoundation.Python.3.9_qbz5n2kfra8p0/LocalCache/local-packages/Python39/site-packages/selenium/webdriver/remote/errorhandler.py?line=245'>246</a>\u001b[0m     \u001b[39mraise\u001b[39;00m exception_class(message, screen, stacktrace, alert_text)  \u001b[39m# type: ignore[call-arg]  # mypy is not smart enough here\u001b[39;00m\n\u001b[1;32m--> <a href='file:///c%3A/Users/thong/AppData/Local/Packages/PythonSoftwareFoundation.Python.3.9_qbz5n2kfra8p0/LocalCache/local-packages/Python39/site-packages/selenium/webdriver/remote/errorhandler.py?line=246'>247</a>\u001b[0m \u001b[39mraise\u001b[39;00m exception_class(message, screen, stacktrace)\n",
      "\u001b[1;31mWebDriverException\u001b[0m: Message: chrome not reachable\n  (Session info: chrome=100.0.4896.127)\nStacktrace:\nBacktrace:\n\tOrdinal0 [0x00847413+2389011]\n\tOrdinal0 [0x007D9F61+1941345]\n\tOrdinal0 [0x006CC520+836896]\n\tOrdinal0 [0x006C0682+788098]\n\tOrdinal0 [0x006C0EB8+790200]\n\tOrdinal0 [0x006C2752+796498]\n\tOrdinal0 [0x006BC0D9+770265]\n\tOrdinal0 [0x006CD9D0+842192]\n\tOrdinal0 [0x00723AE2+1194722]\n\tOrdinal0 [0x00713F66+1130342]\n\tOrdinal0 [0x006EE546+976198]\n\tOrdinal0 [0x006EF456+980054]\n\tGetHandleVerifier [0x009F9632+1727522]\n\tGetHandleVerifier [0x00AABA4D+2457661]\n\tGetHandleVerifier [0x008DEB81+569713]\n\tGetHandleVerifier [0x008DDD76+566118]\n\tOrdinal0 [0x007E0B2B+1968939]\n\tOrdinal0 [0x007E5988+1989000]\n\tOrdinal0 [0x007E5A75+1989237]\n\tOrdinal0 [0x007EECB1+2026673]\n\tBaseThreadInitThunk [0x76D96739+25]\n\tRtlGetFullPathName_UEx [0x77B48E7F+1215]\n\tRtlGetFullPathName_UEx [0x77B48E4D+1165]\n"
     ]
    }
   ],
   "source": [
    "getonPB()"
   ]
  }
 ],
 "metadata": {
  "interpreter": {
   "hash": "89a8cfedefd405a11d6bfa4a37e16a840bca1c40d5ba9902a9fc9c9614fd8e61"
  },
  "kernelspec": {
   "display_name": "Python 3.9.12 64-bit (windows store)",
   "language": "python",
   "name": "python3"
  },
  "language_info": {
   "codemirror_mode": {
    "name": "ipython",
    "version": 3
   },
   "file_extension": ".py",
   "mimetype": "text/x-python",
   "name": "python",
   "nbconvert_exporter": "python",
   "pygments_lexer": "ipython3",
   "version": "3.9.12"
  },
  "orig_nbformat": 4
 },
 "nbformat": 4,
 "nbformat_minor": 2
}
