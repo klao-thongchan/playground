{
 "cells": [
  {
   "cell_type": "code",
   "execution_count": null,
   "metadata": {},
   "outputs": [],
   "source": [
    "import pandas as pd\n",
    "import numpy as np\n",
    "import scipy.stats as stats\n",
    "import matplotlib.pyplot as plt\n",
    "import seaborn as sns\n",
    "from sklearn.model_selection import train_test_split\n",
    "from sklearn.linear_model import LogisticRegression\n",
    "from sklearn.metrics import classification_report"
   ]
  },
  {
   "cell_type": "code",
   "execution_count": null,
   "metadata": {},
   "outputs": [],
   "source": [
    "import ssl\n",
    "ssl._create_default_https_context = ssl._create_unverified_context\n",
    "\n",
    "import certifi\n",
    "from sklearn.datasets import fetch_openml\n",
    "\n",
    "# Download the dataset from openml\n",
    "dataset = fetch_openml(data_id=42803, as_frame=True)\n",
    "# Extract feature matrix X and show 5 random samples\n",
    "df_X = dataset[\"frame\"]\n",
    "df_X.sample(5)\n",
    "\n",
    "def display(data) {\n",
    "    return print(data)\n",
    "}"
   ]
  },
  {
   "cell_type": "code",
   "execution_count": null,
   "metadata": {},
   "outputs": [],
   "source": [
    "# Show size of the dataset\n",
    "df_X.shape"
   ]
  },
  {
   "cell_type": "code",
   "execution_count": null,
   "metadata": {},
   "outputs": [],
   "source": [
    "# Count how many times each data type is present in the dataset\n",
    "pd.value_counts(df_X.dtypes)"
   ]
  },
  {
   "cell_type": "code",
   "execution_count": null,
   "metadata": {},
   "outputs": [],
   "source": [
    "# Display non-numerical features\n",
    "df_X.select_dtypes(exclude=\"number\").head()"
   ]
  },
  {
   "cell_type": "code",
   "execution_count": null,
   "metadata": {},
   "outputs": [],
   "source": [
    "# Chnage data type of 'sex_of_Driver'\n",
    "df_X['Sex_of_Driver'] = df_X['Sex_of_Driver'].astype('float')"
   ]
  },
  {
   "cell_type": "code",
   "execution_count": null,
   "metadata": {},
   "outputs": [],
   "source": [
    "df_X.describe(exclude='number')"
   ]
  },
  {
   "cell_type": "code",
   "execution_count": null,
   "metadata": {},
   "outputs": [],
   "source": [
    "# For each numerical feature compute number of unique entries\n",
    "unique_values = df_X.select_dtypes(include='number').nunique().sort_values()\n",
    "plt.figure(figsize=(15, 4))\n",
    "sns.set_style('whitegrid')\n",
    "\n",
    "g = sns.barplot(x=unique_values.index, y=unique_values, palette='inferno')\n",
    "g.set_yscale(\"log\")\n",
    "g.set_xticklabels(g.get_xticklabels(), rotation=45, horizontalalignment='right')\n",
    "g.set_title('Unique values per frequency')\n",
    "plt.show()"
   ]
  },
  {
   "cell_type": "code",
   "execution_count": null,
   "metadata": {},
   "outputs": [],
   "source": [
    "# Check number of duplicates while ignoring the index feature\n",
    "n_duplicates = df_X.drop(labels=['Accident_Index'], axis=1).duplicated().sum()\n",
    "\n",
    "print(f\"You seem to have {n_duplicates} duplicates in your database.\")"
   ]
  },
  {
   "cell_type": "code",
   "execution_count": null,
   "metadata": {},
   "outputs": [],
   "source": [
    "#  Extract column names of all features, except 'Accident_Index'\n",
    "columns_to_consider = df_X.drop(labels=['Accident_Index'], axis=1).columns\n",
    "\n",
    "# Drop duplicates based on 'columns_to_consider'\n",
    "df_X.drop_duplicates(subset=columns_to_consider, inplace=True)\n",
    "df_X.shape"
   ]
  },
  {
   "cell_type": "code",
   "execution_count": null,
   "metadata": {},
   "outputs": [],
   "source": [
    "plt.figure(figsize=(15, 4))\n",
    "sns.set_style('whitegrid')\n",
    "\n",
    "g = sns.barplot(x=unique_values.index, y=unique_values, palette='inferno')\n",
    "g.set_yscale(\"log\")\n",
    "g.set_xticklabels(g.get_xticklabels(), rotation=45, horizontalalignment='right')\n",
    "g.set_title('Unique values per frequency')\n",
    "plt.show()"
   ]
  },
  {
   "cell_type": "code",
   "execution_count": null,
   "metadata": {},
   "outputs": [],
   "source": [
    "plt.figure(figsize=(15, 8))\n",
    "sns.set_style('whitegrid')\n",
    "\n",
    "# g = sns.heatmap(df_X.isnull(), cbar=False, cmap='viridis')\n",
    "g = sns.heatmap(df_X.loc[df_X.isnull().sum(1).sort_values(ascending=1).index].isnull(), cbar=False, cmap='viridis')\n",
    "g.set_xlabel('Column Number')\n",
    "g.set_ylabel('Sample Number')"
   ]
  },
  {
   "cell_type": "code",
   "execution_count": null,
   "metadata": {},
   "outputs": [],
   "source": [
    "import missingno as msno\n",
    "msno.matrix(df_X, labels=True, sort='descending', color=(0.27, 0.52, 1.0));"
   ]
  },
  {
   "cell_type": "code",
   "execution_count": null,
   "metadata": {},
   "outputs": [],
   "source": [
    "g = msno.bar(df_X, labels=True, color=\"dodgerblue\", sort=\"ascending\", figsize=(10,5), fontsize=12)\n",
    "g.set_xticklabels(g.get_xticklabels(),rotation=90);"
   ]
  },
  {
   "cell_type": "code",
   "execution_count": null,
   "metadata": {},
   "outputs": [],
   "source": [
    "df_X = df_X.dropna(thresh=df_X.shape[1] * 0.80, axis=0).reset_index(drop=True)\n",
    "df_X.shape"
   ]
  },
  {
   "cell_type": "code",
   "execution_count": null,
   "metadata": {},
   "outputs": [],
   "source": [
    "df_X.isna().mean().sort_values().plot(\n",
    "    kind=\"bar\", figsize=(15, 4),\n",
    "    title=\"Percentage of missing values per feature\",\n",
    "    ylabel=\"Ratio of missing values per feature\");"
   ]
  },
  {
   "cell_type": "code",
   "execution_count": null,
   "metadata": {},
   "outputs": [],
   "source": [
    "df_X = df_X.dropna(thresh=df_X.shape[0] * 0.85, axis=1)\n",
    "df_X.shape"
   ]
  },
  {
   "cell_type": "code",
   "execution_count": null,
   "metadata": {},
   "outputs": [],
   "source": [
    "df_X.plot(lw=0, marker=\".\", subplots=True, layout=(-1, 4),\n",
    "          figsize=(15, 30), markersize=1);"
   ]
  },
  {
   "cell_type": "code",
   "execution_count": null,
   "metadata": {},
   "outputs": [],
   "source": [
    "# Extract descriptive properties of non-numerical features\n",
    "df_X.describe(exclude=[\"number\", \"datetime\"])"
   ]
  },
  {
   "cell_type": "code",
   "execution_count": null,
   "metadata": {},
   "outputs": [],
   "source": [
    "# Create figure object with 3 subplots\n",
    "fig, axes = plt.subplots(ncols=1, nrows=3, figsize=(12, 8))\n",
    "\n",
    "# Identify non-numerical features\n",
    "df_non_numerical = df_X.select_dtypes(exclude=[\"number\", \"datetime\"])\n",
    "\n",
    "# Loop through features and put each subplot on a matplotlib axis object\n",
    "for col, ax in zip(df_non_numerical.columns, axes.ravel()):\n",
    "\n",
    "    # Selects one single feature and counts number of occurrences per unique value\n",
    "    df_non_numerical[col].value_counts().plot(\n",
    "\n",
    "        # Plots this information in a figure with log-scaled y-axis\n",
    "        logy=True, title=col, lw=0, marker=\".\", ax=ax)\n",
    "    \n",
    "plt.tight_layout();"
   ]
  },
  {
   "cell_type": "code",
   "execution_count": null,
   "metadata": {},
   "outputs": [],
   "source": [
    "# Collect entry values of the 10 most frequent accidents\n",
    "accident_ids = df_non_numerical[\"Accident_Index\"].value_counts().head(10).index\n",
    "\n",
    "# Removes accidents from the 'accident_ids' list\n",
    "df_X = df_X[~df_X[\"Accident_Index\"].isin(accident_ids)]\n",
    "df_X.shape"
   ]
  },
  {
   "cell_type": "code",
   "execution_count": null,
   "metadata": {},
   "outputs": [],
   "source": [
    "# Plots the histogram for each numerical feature in a separate subplot\n",
    "df_X.hist(bins=25, figsize=(15, 25), layout=(-1, 5), edgecolor=\"black\")\n",
    "plt.tight_layout();"
   ]
  },
  {
   "cell_type": "code",
   "execution_count": null,
   "metadata": {},
   "outputs": [],
   "source": [
    "# Collects for each feature the most frequent entry\n",
    "most_frequent_entry = df_X.mode()\n",
    "\n",
    "# Checks for each entry if it contains the most frequent entry\n",
    "df_freq = df_X.eq(most_frequent_entry.values, axis=1)\n",
    "\n",
    "# Computes the mean of the 'is_most_frequent' occurrence\n",
    "df_freq = df_freq.mean().sort_values(ascending=False)\n",
    "\n",
    "# Show the 5 top features with the highest ratio of singular value content\n",
    "display(df_freq.head())\n",
    "\n",
    "# Visualize the 'df_freq' table\n",
    "df_freq.plot.bar(figsize=(15, 4));"
   ]
  },
  {
   "cell_type": "code",
   "execution_count": null,
   "metadata": {},
   "outputs": [],
   "source": [
    "g = sns.pairplot(\n",
    "    df_X, plot_kws={'s': 3, 'alpha': 0.2}, hue='Police_Force', palette='Spectral',\n",
    "    x_vars=['Location_Easting_OSGR', 'Location_Northing_OSGR', 'Longitude'],\n",
    "    y_vars='Latitude');\n",
    "g.fig.set_size_inches(15,8)"
   ]
  },
  {
   "cell_type": "code",
   "execution_count": null,
   "metadata": {},
   "outputs": [],
   "source": [
    "# Creates mask to identify numerical features with more or less than 25 unique features\n",
    "cols_continuous = df_X.select_dtypes(include=\"number\").nunique() >= 25"
   ]
  },
  {
   "cell_type": "code",
   "execution_count": null,
   "metadata": {},
   "outputs": [],
   "source": [
    "# Create a new dataframe which doesn't contain the numerical continuous features\n",
    "df_discrete = df_X[cols_continuous[~cols_continuous].index]\n",
    "df_discrete.shape"
   ]
  },
  {
   "cell_type": "code",
   "execution_count": null,
   "metadata": {},
   "outputs": [],
   "source": [
    "# Establish number of columns and rows needed to plot all features\n",
    "n_cols = 5\n",
    "n_elements = len(df_discrete.columns)\n",
    "n_rows = np.ceil(n_elements / n_cols).astype(\"int\")\n",
    "\n",
    "# Specify y_value to spread data (ideally a continuous feature)\n",
    "y_value = df_X[\"Age_of_Driver\"]\n",
    "\n",
    "# Create figure object with as many rows and columns as needed\n",
    "fig, axes = plt.subplots(ncols=n_cols, nrows=n_rows, figsize=(15, n_rows * 2.5))\n",
    "\n",
    "# Loop through features and put each subplot on a matplotlib axis object\n",
    "for col, ax in zip(df_discrete.columns, axes.ravel()):\n",
    "    sns.stripplot(data=df_X, x=col, y=y_value, ax=ax, palette=\"tab10\", size=1, alpha=0.5)\n",
    "plt.tight_layout();"
   ]
  },
  {
   "cell_type": "code",
   "execution_count": null,
   "metadata": {},
   "outputs": [],
   "source": [
    "# Specify features of interest\n",
    "selected_features = [\"Vehicle_Reference_df_res\", \"Towing_and_Articulation\",\n",
    "                     \"Skidding_and_Overturning\", \"Bus_or_Coach_Passenger\",\n",
    "                     \"Pedestrian_Road_Maintenance_Worker\", \"Age_Band_of_Driver\"]\n",
    "\n",
    "# Create a figure with 3 x 2 subplots\n",
    "fig, axes = plt.subplots(ncols=3, nrows=2, figsize=(16, 8))\n",
    "\n",
    "# Loop through these features and plot entries from each feature against `Latitude`\n",
    "for col, ax in zip(selected_features, axes.ravel()):\n",
    "    sns.stripplot(data=df_X, x=col, y=df_X[\"Latitude\"], ax=ax,\n",
    "                  palette=\"tab10\", size=2, alpha=0.5)\n",
    "plt.tight_layout();"
   ]
  },
  {
   "cell_type": "code",
   "execution_count": null,
   "metadata": {},
   "outputs": [],
   "source": [
    "# Create a figure with 3 x 2 subplots\n",
    "fig, axes = plt.subplots(ncols=3, nrows=2, figsize=(16, 8))\n",
    "\n",
    "# Loop through these features and plot entries from each feature against `Latitude`\n",
    "for col, ax in zip(selected_features, axes.ravel()):\n",
    "    sns.violinplot(data=df_X, x=col, y=df_X[\"Latitude\"], palette=\"Set2\",\n",
    "                   split=True, hue=\"Urban_or_Rural_Area\", ax=ax)\n",
    "plt.tight_layout();"
   ]
  },
  {
   "cell_type": "code",
   "execution_count": null,
   "metadata": {},
   "outputs": [],
   "source": [
    "# Computes feature correlation\n",
    "df_corr = df_X.corr(method=\"pearson\")"
   ]
  },
  {
   "cell_type": "code",
   "execution_count": null,
   "metadata": {},
   "outputs": [],
   "source": [
    "# Create labels for the correlation matrix\n",
    "labels = np.where(np.abs(df_corr)>0.75, \"S\",\n",
    "                  np.where(np.abs(df_corr)>0.5, \"M\",\n",
    "                           np.where(np.abs(df_corr)>0.25, \"W\", \"\")))\n",
    "\n",
    "# Plot correlation matrix\n",
    "plt.figure(figsize=(15, 15))\n",
    "sns.heatmap(df_corr, mask=np.eye(len(df_corr)), square=True,\n",
    "            center=0, annot=labels, fmt='', linewidths=.5,\n",
    "            cmap=\"vlag\", cbar_kws={\"shrink\": 0.8});"
   ]
  },
  {
   "cell_type": "code",
   "execution_count": null,
   "metadata": {},
   "outputs": [],
   "source": [
    "#  Creates a mask to remove the diagonal and the upper triangle.\n",
    "lower_triangle_mask = np.tril(np.ones(df_corr.shape), k=-1).astype(\"bool\")\n",
    "\n",
    "#  Stack all correlations, after applying the mask\n",
    "df_corr_stacked = df_corr.where(lower_triangle_mask).stack().sort_values()\n",
    "\n",
    "#  Showing the lowest and highest correlations in the correlation matrix\n",
    "display(df_corr_stacked)"
   ]
  }
 ],
 "metadata": {
  "language_info": {
   "name": "python"
  },
  "orig_nbformat": 4
 },
 "nbformat": 4,
 "nbformat_minor": 2
}
