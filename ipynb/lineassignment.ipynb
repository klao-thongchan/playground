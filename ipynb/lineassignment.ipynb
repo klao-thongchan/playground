{
 "cells": [
  {
   "cell_type": "code",
   "execution_count": 1,
   "metadata": {},
   "outputs": [],
   "source": [
    "import pandas as pd\n",
    "import os\n",
    "import plotly.express as px"
   ]
  },
  {
   "cell_type": "code",
   "execution_count": 2,
   "metadata": {},
   "outputs": [],
   "source": [
    "file = os.path.abspath(r\"C:\\datasets\\Line assignment.xlsx\")\n",
    "df = pd.read_excel(file, sheet_name='StageOverview')\n",
    "# df.iloc[:,2:] = df.iloc[:,2:].astype('int')"
   ]
  },
  {
   "cell_type": "code",
   "execution_count": 3,
   "metadata": {},
   "outputs": [
    {
     "data": {
      "text/html": [
       "<div>\n",
       "<style scoped>\n",
       "    .dataframe tbody tr th:only-of-type {\n",
       "        vertical-align: middle;\n",
       "    }\n",
       "\n",
       "    .dataframe tbody tr th {\n",
       "        vertical-align: top;\n",
       "    }\n",
       "\n",
       "    .dataframe thead th {\n",
       "        text-align: right;\n",
       "    }\n",
       "</style>\n",
       "<table border=\"1\" class=\"dataframe\">\n",
       "  <thead>\n",
       "    <tr style=\"text-align: right;\">\n",
       "      <th></th>\n",
       "      <th>Mar 22</th>\n",
       "      <th>percent Mar</th>\n",
       "      <th>Feb 22</th>\n",
       "      <th>percent Feb</th>\n",
       "      <th>Jan 22</th>\n",
       "      <th>percent Jan</th>\n",
       "      <th>Dec 21</th>\n",
       "      <th>percent Dec</th>\n",
       "      <th>Nov 21</th>\n",
       "      <th>percent Nov</th>\n",
       "      <th>Oct 21</th>\n",
       "      <th>percent Oct</th>\n",
       "    </tr>\n",
       "  </thead>\n",
       "  <tbody>\n",
       "    <tr>\n",
       "      <th>count</th>\n",
       "      <td>15.0</td>\n",
       "      <td>15.0</td>\n",
       "      <td>15.0</td>\n",
       "      <td>15.0</td>\n",
       "      <td>15.0</td>\n",
       "      <td>15.0</td>\n",
       "      <td>15.0</td>\n",
       "      <td>15.0</td>\n",
       "      <td>15.0</td>\n",
       "      <td>15.0</td>\n",
       "      <td>15.0</td>\n",
       "      <td>15.0</td>\n",
       "    </tr>\n",
       "    <tr>\n",
       "      <th>mean</th>\n",
       "      <td>2668478.0</td>\n",
       "      <td>0.0</td>\n",
       "      <td>2428187.0</td>\n",
       "      <td>0.0</td>\n",
       "      <td>2239721.0</td>\n",
       "      <td>0.0</td>\n",
       "      <td>2020755.0</td>\n",
       "      <td>0.0</td>\n",
       "      <td>1814377.0</td>\n",
       "      <td>0.0</td>\n",
       "      <td>1743063.0</td>\n",
       "      <td>0.0</td>\n",
       "    </tr>\n",
       "    <tr>\n",
       "      <th>std</th>\n",
       "      <td>4871283.0</td>\n",
       "      <td>0.0</td>\n",
       "      <td>4480135.0</td>\n",
       "      <td>0.0</td>\n",
       "      <td>4055034.0</td>\n",
       "      <td>0.0</td>\n",
       "      <td>3656934.0</td>\n",
       "      <td>0.0</td>\n",
       "      <td>3356921.0</td>\n",
       "      <td>0.0</td>\n",
       "      <td>3130745.0</td>\n",
       "      <td>0.0</td>\n",
       "    </tr>\n",
       "    <tr>\n",
       "      <th>min</th>\n",
       "      <td>24470.0</td>\n",
       "      <td>0.0</td>\n",
       "      <td>22807.0</td>\n",
       "      <td>0.0</td>\n",
       "      <td>19764.0</td>\n",
       "      <td>0.0</td>\n",
       "      <td>20981.0</td>\n",
       "      <td>0.0</td>\n",
       "      <td>24194.0</td>\n",
       "      <td>0.0</td>\n",
       "      <td>25468.0</td>\n",
       "      <td>0.0</td>\n",
       "    </tr>\n",
       "    <tr>\n",
       "      <th>25%</th>\n",
       "      <td>152613.0</td>\n",
       "      <td>0.0</td>\n",
       "      <td>135272.0</td>\n",
       "      <td>0.0</td>\n",
       "      <td>142269.0</td>\n",
       "      <td>0.0</td>\n",
       "      <td>129025.0</td>\n",
       "      <td>0.0</td>\n",
       "      <td>112766.0</td>\n",
       "      <td>0.0</td>\n",
       "      <td>112833.0</td>\n",
       "      <td>0.0</td>\n",
       "    </tr>\n",
       "    <tr>\n",
       "      <th>50%</th>\n",
       "      <td>505393.0</td>\n",
       "      <td>0.0</td>\n",
       "      <td>453522.0</td>\n",
       "      <td>0.0</td>\n",
       "      <td>451987.0</td>\n",
       "      <td>0.0</td>\n",
       "      <td>377570.0</td>\n",
       "      <td>0.0</td>\n",
       "      <td>392852.0</td>\n",
       "      <td>0.0</td>\n",
       "      <td>410237.0</td>\n",
       "      <td>0.0</td>\n",
       "    </tr>\n",
       "    <tr>\n",
       "      <th>75%</th>\n",
       "      <td>1792290.0</td>\n",
       "      <td>1.0</td>\n",
       "      <td>1527806.0</td>\n",
       "      <td>1.0</td>\n",
       "      <td>1479958.0</td>\n",
       "      <td>1.0</td>\n",
       "      <td>1331404.0</td>\n",
       "      <td>1.0</td>\n",
       "      <td>1238780.0</td>\n",
       "      <td>1.0</td>\n",
       "      <td>1243572.0</td>\n",
       "      <td>1.0</td>\n",
       "    </tr>\n",
       "    <tr>\n",
       "      <th>max</th>\n",
       "      <td>16502487.0</td>\n",
       "      <td>1.0</td>\n",
       "      <td>15106704.0</td>\n",
       "      <td>1.0</td>\n",
       "      <td>13773526.0</td>\n",
       "      <td>1.0</td>\n",
       "      <td>12427615.0</td>\n",
       "      <td>1.0</td>\n",
       "      <td>11266554.0</td>\n",
       "      <td>1.0</td>\n",
       "      <td>10636827.0</td>\n",
       "      <td>1.0</td>\n",
       "    </tr>\n",
       "  </tbody>\n",
       "</table>\n",
       "</div>"
      ],
      "text/plain": [
       "           Mar 22  percent Mar      Feb 22  percent Feb      Jan 22  \\\n",
       "count        15.0         15.0        15.0         15.0        15.0   \n",
       "mean    2668478.0          0.0   2428187.0          0.0   2239721.0   \n",
       "std     4871283.0          0.0   4480135.0          0.0   4055034.0   \n",
       "min       24470.0          0.0     22807.0          0.0     19764.0   \n",
       "25%      152613.0          0.0    135272.0          0.0    142269.0   \n",
       "50%      505393.0          0.0    453522.0          0.0    451987.0   \n",
       "75%     1792290.0          1.0   1527806.0          1.0   1479958.0   \n",
       "max    16502487.0          1.0  15106704.0          1.0  13773526.0   \n",
       "\n",
       "       percent Jan      Dec 21  percent Dec      Nov 21  percent Nov  \\\n",
       "count         15.0        15.0         15.0        15.0         15.0   \n",
       "mean           0.0   2020755.0          0.0   1814377.0          0.0   \n",
       "std            0.0   3656934.0          0.0   3356921.0          0.0   \n",
       "min            0.0     20981.0          0.0     24194.0          0.0   \n",
       "25%            0.0    129025.0          0.0    112766.0          0.0   \n",
       "50%            0.0    377570.0          0.0    392852.0          0.0   \n",
       "75%            1.0   1331404.0          1.0   1238780.0          1.0   \n",
       "max            1.0  12427615.0          1.0  11266554.0          1.0   \n",
       "\n",
       "           Oct 21  percent Oct  \n",
       "count        15.0         15.0  \n",
       "mean    1743063.0          0.0  \n",
       "std     3130745.0          0.0  \n",
       "min       25468.0          0.0  \n",
       "25%      112833.0          0.0  \n",
       "50%      410237.0          0.0  \n",
       "75%     1243572.0          1.0  \n",
       "max    10636827.0          1.0  "
      ]
     },
     "execution_count": 3,
     "metadata": {},
     "output_type": "execute_result"
    }
   ],
   "source": [
    "df.describe().round()"
   ]
  },
  {
   "cell_type": "code",
   "execution_count": 4,
   "metadata": {},
   "outputs": [],
   "source": [
    "# df[:].groupby(['channel'], as_index=False).sum().sort_values(by='GMV', ascending=False).round()"
   ]
  },
  {
   "cell_type": "code",
   "execution_count": 5,
   "metadata": {},
   "outputs": [
    {
     "data": {
      "text/html": [
       "\n",
       "        <iframe\n",
       "            width=\"100%\"\n",
       "            height=\"475\"\n",
       "            src=\"http://AsusZenBookDuo-DV41USMS:40000/dtale/iframe/1\"\n",
       "            frameborder=\"0\"\n",
       "            allowfullscreen\n",
       "            \n",
       "        ></iframe>\n",
       "        "
      ],
      "text/plain": [
       "<IPython.lib.display.IFrame at 0x2c5886ee190>"
      ]
     },
     "metadata": {},
     "output_type": "display_data"
    },
    {
     "data": {
      "text/plain": []
     },
     "execution_count": 5,
     "metadata": {},
     "output_type": "execute_result"
    },
    {
     "name": "stdout",
     "output_type": "stream",
     "text": [
      "Executing shutdown due to inactivity...\n"
     ]
    },
    {
     "name": "stderr",
     "output_type": "stream",
     "text": [
      "2022-05-12 14:39:18,130 - INFO     - Executing shutdown due to inactivity...\n"
     ]
    },
    {
     "name": "stdout",
     "output_type": "stream",
     "text": [
      "Executing shutdown...\n"
     ]
    },
    {
     "name": "stderr",
     "output_type": "stream",
     "text": [
      "2022-05-12 14:39:22,256 - INFO     - Executing shutdown...\n"
     ]
    }
   ],
   "source": [
    "import dtale\n",
    "dtale.show(df)"
   ]
  }
 ],
 "metadata": {
  "interpreter": {
   "hash": "a7903cbe0028acc9a01758d2d62c49409959836c9fa4053db80aaad13d9c51a0"
  },
  "kernelspec": {
   "display_name": "Python 3.9.12 ('base')",
   "language": "python",
   "name": "python3"
  },
  "language_info": {
   "codemirror_mode": {
    "name": "ipython",
    "version": 3
   },
   "file_extension": ".py",
   "mimetype": "text/x-python",
   "name": "python",
   "nbconvert_exporter": "python",
   "pygments_lexer": "ipython3",
   "version": "3.9.12"
  },
  "orig_nbformat": 4
 },
 "nbformat": 4,
 "nbformat_minor": 2
}
