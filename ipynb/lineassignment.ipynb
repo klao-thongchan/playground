{
 "cells": [
  {
   "cell_type": "code",
   "execution_count": null,
   "metadata": {},
   "outputs": [],
   "source": [
    "import pandas as pd\n",
    "import os\n",
    "\n",
    "from datetime import datetime\n",
    "\n",
    "import plotly.express as px\n",
    "import seaborn as sns\n",
    "import matplotlib.pyplot as plt\n",
    "%matplotlib inline"
   ]
  },
  {
   "cell_type": "code",
   "execution_count": null,
   "metadata": {},
   "outputs": [],
   "source": [
    "file = os.path.abspath(r\"C:\\datasets\\Line assignment.xlsx\")\n",
    "df_stageov = pd.read_excel(file, sheet_name='StageOverview')\n",
    "df_traf_ch = pd.read_excel(file, sheet_name='TrafficChannelFixed')\n",
    "df_traf_page = pd.read_excel(file, sheet_name='ChTrafficPage')\n",
    "df_stage_visit = pd.read_excel(file, sheet_name='ChVisitorStage')\n",
    "df_stage_cus = pd.read_excel(file, sheet_name='ChCusomerStage')\n",
    "# df.iloc[:,2:] = df.iloc[:,2:].astype('int')"
   ]
  },
  {
   "cell_type": "code",
   "execution_count": null,
   "metadata": {},
   "outputs": [],
   "source": [
    "# from pandas_profiling import ProfileReport\n",
    "\n",
    "# profile = ProfileReport(df)\n",
    "# profile.to_file(r\"C:\\datasets\\tt_line_assignment.html\")"
   ]
  },
  {
   "cell_type": "code",
   "execution_count": null,
   "metadata": {},
   "outputs": [],
   "source": [
    "# import dtale\n",
    "# dtale.show(df)"
   ]
  },
  {
   "cell_type": "code",
   "execution_count": null,
   "metadata": {},
   "outputs": [],
   "source": [
    "df_traf_ch.columns"
   ]
  },
  {
   "cell_type": "code",
   "execution_count": null,
   "metadata": {},
   "outputs": [],
   "source": [
    "# sns.barplot(x=\"GMV Gross Merchandise Value\", y=\"Month\", data=df_traf_ch, hue=\"channel\")\n",
    "# sns.regplot(x=\"GMV Gross Merchandise Value\", y=\"Customer\", data=df_traf_ch)\n",
    "# sns.pairplot(df_traf_ch, diag_kind=\"kde\", plot_kws={\"alpha\": 0.2})"
   ]
  }
 ],
 "metadata": {
  "interpreter": {
   "hash": "a7903cbe0028acc9a01758d2d62c49409959836c9fa4053db80aaad13d9c51a0"
  },
  "kernelspec": {
   "display_name": "Python 3.9.12 ('base')",
   "language": "python",
   "name": "python3"
  },
  "language_info": {
   "codemirror_mode": {
    "name": "ipython",
    "version": 3
   },
   "file_extension": ".py",
   "mimetype": "text/x-python",
   "name": "python",
   "nbconvert_exporter": "python",
   "pygments_lexer": "ipython3",
   "version": "3.9.12"
  },
  "orig_nbformat": 4
 },
 "nbformat": 4,
 "nbformat_minor": 2
}
