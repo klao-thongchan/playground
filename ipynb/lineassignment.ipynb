{
 "cells": [
  {
   "cell_type": "code",
   "execution_count": null,
   "metadata": {},
   "outputs": [],
   "source": [
    "import pandas as pd\n",
    "import os\n",
    "\n",
    "from datetime import datetime\n",
    "\n",
    "import plotly.express as px\n",
    "import seaborn as sns\n",
    "import matplotlib.pyplot as plt\n",
    "%matplotlib inline"
   ]
  },
  {
   "cell_type": "code",
   "execution_count": null,
   "metadata": {},
   "outputs": [],
   "source": [
    "file = os.path.abspath(r\"C:\\datasets\\Line assignment.xlsx\")\n",
    "df_stageov = pd.read_excel(file, sheet_name='StageOverview')\n",
    "df_traf_ch = pd.read_excel(file, sheet_name='TrafficChannelFixed')\n",
    "df_traf_page = pd.read_excel(file, sheet_name='ChTrafficPage')\n",
    "df_stage_visit = pd.read_excel(file, sheet_name='ChVisitorStage')\n",
    "df_stage_cus = pd.read_excel(file, sheet_name='ChCusomerStage')\n",
    "# df.iloc[:,2:] = df.iloc[:,2:].astype('int')\n",
    "\n",
    "df_traf_ch.columns"
   ]
  },
  {
   "cell_type": "code",
   "execution_count": null,
   "metadata": {},
   "outputs": [],
   "source": [
    "# from pandas_profiling import ProfileReport\n",
    "\n",
    "# profile = ProfileReport(df_traf_ch)\n",
    "# profile.to_file(r\"C:\\datasets\\df_traf_ch.html\")"
   ]
  },
  {
   "cell_type": "code",
   "execution_count": null,
   "metadata": {},
   "outputs": [],
   "source": [
    "# import dtale\n",
    "# dtale.show(df)"
   ]
  },
  {
   "cell_type": "code",
   "execution_count": null,
   "metadata": {},
   "outputs": [],
   "source": [
    "# sns.barplot(x=\"GMV Gross Merchandise Value\", y=\"Month\", data=df_traf_ch, hue=\"channel\")\n",
    "# sns.regplot(x=\"GMV Gross Merchandise Value\", y=\"Customer\", data=df_traf_ch)\n",
    "# sns.pairplot(df_traf_ch, diag_kind=\"kde\", plot_kws={\"alpha\": 0.2})"
   ]
  },
  {
   "cell_type": "code",
   "execution_count": null,
   "metadata": {},
   "outputs": [],
   "source": [
    "# df_traf_ch['order_month'] = df_traf_ch['Month'].dt.to_period('M')\n",
    "# df_traf_ch['cohort'] = df_traf_ch.groupby('CusID')['Month'].transform('min').dt.to_period('M')\n",
    "# cohort_df = df_traf_ch.groupby(['cohort', 'order_month'], as_index=False,).agg(user_count=('CusID', 'nunique'))\n",
    "# cohort_df['period_number] = (cohort_df.order_month - cohort_df.cohort).apply(attrgetter('n'))\n",
    "# cohort_pivot = cohort_df.pivot_table(index='cohort', columns='period_number', values='user_count')\n",
    "# cohort_size = cohort_pivot.iloc[:, 0]\n",
    "# retention_matrix = cohort_pivot.divide(cohort_size, axis=0)\n",
    "\n",
    "# fig, ax = plt.subplots(1, 2, figsize=(12, 8), sharey=True, gridspec_kw={'width_ratios': [1, 11]})\n",
    "# sns.heatmap(retention_matrix, mask=retention_matrix.isnull(), annot=True, fmt='.0%', cmap='RdYlGn', ax=ax[1])\n",
    "# ax[1].set_title('Monthly Retention', fontsize=16)\n",
    "# ax[1].set(xlabel='№ of periods', ylabel='')\n",
    "# cohort_size_df = pd.DataFrame(cohort_size).rename(columns={0: 'cohort size'})\n",
    "# white_cmap = mcolors.ListedColormap(['white'])\n",
    "# sns.heatmap(cohort_size_df, annot=True, cbar=False, fmt='g', cmap=white_cmap, ax=ax[0])\n",
    "# fig.tight_layout()"
   ]
  }
 ],
 "metadata": {
  "interpreter": {
   "hash": "a7903cbe0028acc9a01758d2d62c49409959836c9fa4053db80aaad13d9c51a0"
  },
  "kernelspec": {
   "display_name": "Python 3.9.12 ('base')",
   "language": "python",
   "name": "python3"
  },
  "language_info": {
   "codemirror_mode": {
    "name": "ipython",
    "version": 3
   },
   "file_extension": ".py",
   "mimetype": "text/x-python",
   "name": "python",
   "nbconvert_exporter": "python",
   "pygments_lexer": "ipython3",
   "version": "3.9.12"
  },
  "orig_nbformat": 4
 },
 "nbformat": 4,
 "nbformat_minor": 2
}
