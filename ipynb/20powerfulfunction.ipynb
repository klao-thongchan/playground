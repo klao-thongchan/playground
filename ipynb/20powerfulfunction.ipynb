{
 "cells": [
  {
   "cell_type": "code",
   "execution_count": null,
   "metadata": {},
   "outputs": [],
   "source": [
    "import math\n",
    "import numpy as np\n",
    "import pandas as pd\n",
    "import statistics\n",
    "import scipy.stats\n",
    "import matplotlib.pyplot as plt\n",
    "import seaborn as sns\n",
    "%matplotlib inline"
   ]
  },
  {
   "cell_type": "code",
   "execution_count": null,
   "metadata": {},
   "outputs": [],
   "source": [
    "df = pd.read_csv('Titanic.csv')\n",
    "df.head()"
   ]
  },
  {
   "cell_type": "code",
   "execution_count": null,
   "metadata": {},
   "outputs": [],
   "source": [
    "print(df.mean())\n",
    "\n",
    "from scipy.stats import gmean\n",
    "print(gmean(df['Pclass']))\n",
    "\n",
    "print(statistics.harmonic_mean(df['Pclass']))"
   ]
  },
  {
   "cell_type": "markdown",
   "metadata": {},
   "source": [
    "Geometric Mean\n",
    "- The Geometric Mean is defined as the average rate return of the set of numbers using the product of terms.\n",
    "\n",
    "Harmonic Mean\n",
    "- A harmonic mean is a type of numerical average that is calculated by dividing the no of observations by the reciprocal of each no in the series."
   ]
  },
  {
   "cell_type": "code",
   "execution_count": null,
   "metadata": {},
   "outputs": [],
   "source": [
    "print(df['Age'].mode())\n",
    "print(statistics.median(df['Pclass']))\n",
    "print(statistics.variance(df['Pclass']))\n",
    "print(statistics.stdev(df['Pclass']))"
   ]
  },
  {
   "cell_type": "code",
   "execution_count": null,
   "metadata": {},
   "outputs": [],
   "source": [
    "df.skew()"
   ]
  },
  {
   "cell_type": "markdown",
   "metadata": {},
   "source": [
    "Skewness\n",
    "- The skewness measures the asymmetric distribution of the data. The data is not in a symmetrical shape and is skewed towards one point.\n",
    "\n",
    "Skewness is mainly divided into two types.\n",
    "\n",
    "Positive Skewness\n",
    "- In positive skewness, the data is spread around the left side of the distribution. The right side is longer and the mean & median are greater than the mode\n",
    "\n",
    "Negative Skewness\n",
    "- In negative skewness, the data is spread around the right side of the distribution. The left side is longer and the mode is greater than the mean & median.\n",
    "\n",
    "Here is the exhibition of positive, and negative skewness, and normal distribution through density plots."
   ]
  },
  {
   "cell_type": "code",
   "execution_count": null,
   "metadata": {},
   "outputs": [],
   "source": [
    "df.kurt()"
   ]
  },
  {
   "cell_type": "markdown",
   "metadata": {},
   "source": [
    "Kurtosis\n",
    "\n",
    "1. Platykurtic\n",
    "The platykurtic gives us the distribution with flat tails. The flat tails indicate small outliers in the distribution.\n",
    "\n",
    "2. Mesokurtic\n",
    "\n",
    "The mesokurtic data is normally distributed and shows a tendency towards normal distribution.\n",
    "\n",
    "3. Leptokurtic\n",
    "\n",
    "In leptokurtic, the data is closely distributed and the height of the peak is greater than the width of the peak."
   ]
  },
  {
   "cell_type": "code",
   "execution_count": null,
   "metadata": {},
   "outputs": [],
   "source": [
    "df.mad()"
   ]
  },
  {
   "cell_type": "markdown",
   "metadata": {},
   "source": [
    "Mean Absolute Deviation (MAD)\n",
    "- The mean absolute deviation is the average distance b/w each data point and the average value in the dataset. It tells us about the variability in the dataset."
   ]
  },
  {
   "cell_type": "code",
   "execution_count": null,
   "metadata": {},
   "outputs": [],
   "source": [
    "df.cov()"
   ]
  },
  {
   "cell_type": "code",
   "execution_count": null,
   "metadata": {},
   "outputs": [],
   "source": [
    "#Let’s Remove outliers\n",
    "for i in df['age']:\n",
    "    quartile1 = df['age'].quantile(0.25)\n",
    "    quartile3 = df['age'].quantile(0.75)\n",
    "    IQR = quartile3 - quartile1\n",
    "    low_tail = quartile1 - 1.5*IQR\n",
    "    up_tail = quartile3 + 1.5*IQR\n",
    "\n",
    "if i>up_tail or i<low_tail:\n",
    "    df['age'] = df['age'].replace(i,0)\n",
    "\n",
    "sns.boxplot(df['age'])\n",
    "plt.title('Removal of outliers')\n",
    "plt.show()"
   ]
  }
 ],
 "metadata": {
  "kernelspec": {
   "display_name": "Python 3.10.5 64-bit",
   "language": "python",
   "name": "python3"
  },
  "language_info": {
   "name": "python",
   "version": "3.10.5"
  },
  "orig_nbformat": 4,
  "vscode": {
   "interpreter": {
    "hash": "aee8b7b246df8f9039afb4144a1f6fd8d2ca17a180786b69acc140d282b71a49"
   }
  }
 },
 "nbformat": 4,
 "nbformat_minor": 2
}
