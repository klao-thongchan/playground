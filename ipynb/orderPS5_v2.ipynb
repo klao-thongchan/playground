{
 "cells": [
  {
   "cell_type": "code",
   "execution_count": 53,
   "metadata": {},
   "outputs": [
    {
     "name": "stderr",
     "output_type": "stream",
     "text": [
      "C:\\Users\\thong\\AppData\\Local\\Temp\\ipykernel_22888\\497714297.py:12: DeprecationWarning: executable_path has been deprecated, please pass in a Service object\n",
      "  driver = webdriver.Chrome(path)\n"
     ]
    }
   ],
   "source": [
    "# import selenium\n",
    "from selenium import webdriver\n",
    "from selenium.webdriver.common.keys import Keys # for keyboard control\n",
    "from selenium.webdriver.common.by import By\n",
    "from selenium.webdriver.common.window import WindowTypes\n",
    "from selenium.webdriver.support.ui import WebDriverWait\n",
    "from selenium.webdriver.support import expected_conditions as EC\n",
    "import time\n",
    "\n",
    "# webdriver path\n",
    "path = \"C:\\chromedriver_win32\\chromedriver.exe\"\n",
    "driver = webdriver.Chrome(path)"
   ]
  },
  {
   "cell_type": "code",
   "execution_count": 54,
   "metadata": {},
   "outputs": [
    {
     "ename": "WebDriverException",
     "evalue": "Message: unknown error: cannot determine loading status\nfrom unknown error: cannot determine loading status\nfrom target frame detached\n  (Session info: chrome=100.0.4896.127)\nStacktrace:\nBacktrace:\n\tOrdinal0 [0x00847413+2389011]\n\tOrdinal0 [0x007D9F61+1941345]\n\tOrdinal0 [0x006CC520+836896]\n\tOrdinal0 [0x006BD957+776535]\n\tOrdinal0 [0x006BC995+772501]\n\tOrdinal0 [0x006BCF98+774040]\n\tOrdinal0 [0x006BCF28+773928]\n\tOrdinal0 [0x006C2C56+797782]\n\tOrdinal0 [0x006C2E99+798361]\n\tOrdinal0 [0x006BE16D+778605]\n\tOrdinal0 [0x006BE685+779909]\n\tOrdinal0 [0x006BE46F+779375]\n\tOrdinal0 [0x006BDA86+776838]\n\tOrdinal0 [0x006BC995+772501]\n\tOrdinal0 [0x006BCF98+774040]\n\tOrdinal0 [0x006D499D+870813]\n\tOrdinal0 [0x006CEB6B+846699]\n\tOrdinal0 [0x006CE6E5+845541]\n\tOrdinal0 [0x006CEDC3+847299]\n\tOrdinal0 [0x006C8075+819317]\n\tOrdinal0 [0x006C7CFF+818431]\n\tOrdinal0 [0x006D243B+861243]\n\tOrdinal0 [0x006D4E10+871952]\n\tOrdinal0 [0x006BD266+774758]\n\tOrdinal0 [0x006D2077+860279]\n\tOrdinal0 [0x0072464D+1197645]\n\tOrdinal0 [0x00713F66+1130342]\n\tOrdinal0 [0x006EE546+976198]\n\tOrdinal0 [0x006EF456+980054]\n\tGetHandleVerifier [0x009F9632+1727522]\n\tGetHandleVerifier [0x00AABA4D+2457661]\n\tGetHandleVerifier [0x008DEB81+569713]\n\tGetHandleVerifier [0x008DDD76+566118]\n\tOrdinal0 [0x007E0B2B+1968939]\n\tOrdinal0 [0x007E5988+1989000]\n\tOrdinal0 [0x007E5A75+1989237]\n\tOrdinal0 [0x007EECB1+2026673]\n\tBaseThreadInitThunk [0x76D96739+25]\n\tRtlGetFullPathName_UEx [0x77B48E7F+1215]\n\tRtlGetFullPathName_UEx [0x77B48E4D+1165]\n",
     "output_type": "error",
     "traceback": [
      "\u001b[1;31m---------------------------------------------------------------------------\u001b[0m",
      "\u001b[1;31mWebDriverException\u001b[0m                        Traceback (most recent call last)",
      "\u001b[1;32m\\klaodevilz\\playground\\ipynb\\orderPS5_v2.ipynb Cell 2'\u001b[0m in \u001b[0;36m<cell line: 13>\u001b[1;34m()\u001b[0m\n\u001b[0;32m     <a href='vscode-notebook-cell://github/klaodevilz/playground/ipynb/orderPS5_v2.ipynb#ch0000001vscode-vfs?line=10'>11</a>\u001b[0m \u001b[39m# driver.find_element(By.XPATH, \"//*[contains(text(),'16990']\")\u001b[39;00m\n\u001b[0;32m     <a href='vscode-notebook-cell://github/klaodevilz/playground/ipynb/orderPS5_v2.ipynb#ch0000001vscode-vfs?line=11'>12</a>\u001b[0m driver\u001b[39m.\u001b[39mswitch_to\u001b[39m.\u001b[39mnew_window(WindowTypes\u001b[39m.\u001b[39mTAB)\n\u001b[1;32m---> <a href='vscode-notebook-cell://github/klaodevilz/playground/ipynb/orderPS5_v2.ipynb#ch0000001vscode-vfs?line=12'>13</a>\u001b[0m driver\u001b[39m.\u001b[39;49mget(pbdirect)\n\u001b[0;32m     <a href='vscode-notebook-cell://github/klaodevilz/playground/ipynb/orderPS5_v2.ipynb#ch0000001vscode-vfs?line=13'>14</a>\u001b[0m \u001b[39m# driver.find_element(By.XPATH, \"//*[contains(text(),'16990']\")\u001b[39;00m\n\u001b[0;32m     <a href='vscode-notebook-cell://github/klaodevilz/playground/ipynb/orderPS5_v2.ipynb#ch0000001vscode-vfs?line=14'>15</a>\u001b[0m \u001b[39m# driver.switch_to.new_window(WindowTypes.TAB)\u001b[39;00m\n\u001b[0;32m     <a href='vscode-notebook-cell://github/klaodevilz/playground/ipynb/orderPS5_v2.ipynb#ch0000001vscode-vfs?line=15'>16</a>\u001b[0m \u001b[39m# driver.get(powerbuy)\u001b[39;00m\n\u001b[0;32m     <a href='vscode-notebook-cell://github/klaodevilz/playground/ipynb/orderPS5_v2.ipynb#ch0000001vscode-vfs?line=17'>18</a>\u001b[0m time\u001b[39m.\u001b[39msleep(\u001b[39m2\u001b[39m)\n",
      "File \u001b[1;32m~\\AppData\\Local\\Packages\\PythonSoftwareFoundation.Python.3.9_qbz5n2kfra8p0\\LocalCache\\local-packages\\Python39\\site-packages\\selenium\\webdriver\\remote\\webdriver.py:437\u001b[0m, in \u001b[0;36mWebDriver.get\u001b[1;34m(self, url)\u001b[0m\n\u001b[0;32m    <a href='file:///c%3A/Users/thong/AppData/Local/Packages/PythonSoftwareFoundation.Python.3.9_qbz5n2kfra8p0/LocalCache/local-packages/Python39/site-packages/selenium/webdriver/remote/webdriver.py?line=432'>433</a>\u001b[0m \u001b[39mdef\u001b[39;00m \u001b[39mget\u001b[39m(\u001b[39mself\u001b[39m, url: \u001b[39mstr\u001b[39m) \u001b[39m-\u001b[39m\u001b[39m>\u001b[39m \u001b[39mNone\u001b[39;00m:\n\u001b[0;32m    <a href='file:///c%3A/Users/thong/AppData/Local/Packages/PythonSoftwareFoundation.Python.3.9_qbz5n2kfra8p0/LocalCache/local-packages/Python39/site-packages/selenium/webdriver/remote/webdriver.py?line=433'>434</a>\u001b[0m     \u001b[39m\"\"\"\u001b[39;00m\n\u001b[0;32m    <a href='file:///c%3A/Users/thong/AppData/Local/Packages/PythonSoftwareFoundation.Python.3.9_qbz5n2kfra8p0/LocalCache/local-packages/Python39/site-packages/selenium/webdriver/remote/webdriver.py?line=434'>435</a>\u001b[0m \u001b[39m    Loads a web page in the current browser session.\u001b[39;00m\n\u001b[0;32m    <a href='file:///c%3A/Users/thong/AppData/Local/Packages/PythonSoftwareFoundation.Python.3.9_qbz5n2kfra8p0/LocalCache/local-packages/Python39/site-packages/selenium/webdriver/remote/webdriver.py?line=435'>436</a>\u001b[0m \u001b[39m    \"\"\"\u001b[39;00m\n\u001b[1;32m--> <a href='file:///c%3A/Users/thong/AppData/Local/Packages/PythonSoftwareFoundation.Python.3.9_qbz5n2kfra8p0/LocalCache/local-packages/Python39/site-packages/selenium/webdriver/remote/webdriver.py?line=436'>437</a>\u001b[0m     \u001b[39mself\u001b[39;49m\u001b[39m.\u001b[39;49mexecute(Command\u001b[39m.\u001b[39;49mGET, {\u001b[39m'\u001b[39;49m\u001b[39murl\u001b[39;49m\u001b[39m'\u001b[39;49m: url})\n",
      "File \u001b[1;32m~\\AppData\\Local\\Packages\\PythonSoftwareFoundation.Python.3.9_qbz5n2kfra8p0\\LocalCache\\local-packages\\Python39\\site-packages\\selenium\\webdriver\\remote\\webdriver.py:425\u001b[0m, in \u001b[0;36mWebDriver.execute\u001b[1;34m(self, driver_command, params)\u001b[0m\n\u001b[0;32m    <a href='file:///c%3A/Users/thong/AppData/Local/Packages/PythonSoftwareFoundation.Python.3.9_qbz5n2kfra8p0/LocalCache/local-packages/Python39/site-packages/selenium/webdriver/remote/webdriver.py?line=422'>423</a>\u001b[0m response \u001b[39m=\u001b[39m \u001b[39mself\u001b[39m\u001b[39m.\u001b[39mcommand_executor\u001b[39m.\u001b[39mexecute(driver_command, params)\n\u001b[0;32m    <a href='file:///c%3A/Users/thong/AppData/Local/Packages/PythonSoftwareFoundation.Python.3.9_qbz5n2kfra8p0/LocalCache/local-packages/Python39/site-packages/selenium/webdriver/remote/webdriver.py?line=423'>424</a>\u001b[0m \u001b[39mif\u001b[39;00m response:\n\u001b[1;32m--> <a href='file:///c%3A/Users/thong/AppData/Local/Packages/PythonSoftwareFoundation.Python.3.9_qbz5n2kfra8p0/LocalCache/local-packages/Python39/site-packages/selenium/webdriver/remote/webdriver.py?line=424'>425</a>\u001b[0m     \u001b[39mself\u001b[39;49m\u001b[39m.\u001b[39;49merror_handler\u001b[39m.\u001b[39;49mcheck_response(response)\n\u001b[0;32m    <a href='file:///c%3A/Users/thong/AppData/Local/Packages/PythonSoftwareFoundation.Python.3.9_qbz5n2kfra8p0/LocalCache/local-packages/Python39/site-packages/selenium/webdriver/remote/webdriver.py?line=425'>426</a>\u001b[0m     response[\u001b[39m'\u001b[39m\u001b[39mvalue\u001b[39m\u001b[39m'\u001b[39m] \u001b[39m=\u001b[39m \u001b[39mself\u001b[39m\u001b[39m.\u001b[39m_unwrap_value(\n\u001b[0;32m    <a href='file:///c%3A/Users/thong/AppData/Local/Packages/PythonSoftwareFoundation.Python.3.9_qbz5n2kfra8p0/LocalCache/local-packages/Python39/site-packages/selenium/webdriver/remote/webdriver.py?line=426'>427</a>\u001b[0m         response\u001b[39m.\u001b[39mget(\u001b[39m'\u001b[39m\u001b[39mvalue\u001b[39m\u001b[39m'\u001b[39m, \u001b[39mNone\u001b[39;00m))\n\u001b[0;32m    <a href='file:///c%3A/Users/thong/AppData/Local/Packages/PythonSoftwareFoundation.Python.3.9_qbz5n2kfra8p0/LocalCache/local-packages/Python39/site-packages/selenium/webdriver/remote/webdriver.py?line=427'>428</a>\u001b[0m     \u001b[39mreturn\u001b[39;00m response\n",
      "File \u001b[1;32m~\\AppData\\Local\\Packages\\PythonSoftwareFoundation.Python.3.9_qbz5n2kfra8p0\\LocalCache\\local-packages\\Python39\\site-packages\\selenium\\webdriver\\remote\\errorhandler.py:247\u001b[0m, in \u001b[0;36mErrorHandler.check_response\u001b[1;34m(self, response)\u001b[0m\n\u001b[0;32m    <a href='file:///c%3A/Users/thong/AppData/Local/Packages/PythonSoftwareFoundation.Python.3.9_qbz5n2kfra8p0/LocalCache/local-packages/Python39/site-packages/selenium/webdriver/remote/errorhandler.py?line=244'>245</a>\u001b[0m         alert_text \u001b[39m=\u001b[39m value[\u001b[39m'\u001b[39m\u001b[39malert\u001b[39m\u001b[39m'\u001b[39m]\u001b[39m.\u001b[39mget(\u001b[39m'\u001b[39m\u001b[39mtext\u001b[39m\u001b[39m'\u001b[39m)\n\u001b[0;32m    <a href='file:///c%3A/Users/thong/AppData/Local/Packages/PythonSoftwareFoundation.Python.3.9_qbz5n2kfra8p0/LocalCache/local-packages/Python39/site-packages/selenium/webdriver/remote/errorhandler.py?line=245'>246</a>\u001b[0m     \u001b[39mraise\u001b[39;00m exception_class(message, screen, stacktrace, alert_text)  \u001b[39m# type: ignore[call-arg]  # mypy is not smart enough here\u001b[39;00m\n\u001b[1;32m--> <a href='file:///c%3A/Users/thong/AppData/Local/Packages/PythonSoftwareFoundation.Python.3.9_qbz5n2kfra8p0/LocalCache/local-packages/Python39/site-packages/selenium/webdriver/remote/errorhandler.py?line=246'>247</a>\u001b[0m \u001b[39mraise\u001b[39;00m exception_class(message, screen, stacktrace)\n",
      "\u001b[1;31mWebDriverException\u001b[0m: Message: unknown error: cannot determine loading status\nfrom unknown error: cannot determine loading status\nfrom target frame detached\n  (Session info: chrome=100.0.4896.127)\nStacktrace:\nBacktrace:\n\tOrdinal0 [0x00847413+2389011]\n\tOrdinal0 [0x007D9F61+1941345]\n\tOrdinal0 [0x006CC520+836896]\n\tOrdinal0 [0x006BD957+776535]\n\tOrdinal0 [0x006BC995+772501]\n\tOrdinal0 [0x006BCF98+774040]\n\tOrdinal0 [0x006BCF28+773928]\n\tOrdinal0 [0x006C2C56+797782]\n\tOrdinal0 [0x006C2E99+798361]\n\tOrdinal0 [0x006BE16D+778605]\n\tOrdinal0 [0x006BE685+779909]\n\tOrdinal0 [0x006BE46F+779375]\n\tOrdinal0 [0x006BDA86+776838]\n\tOrdinal0 [0x006BC995+772501]\n\tOrdinal0 [0x006BCF98+774040]\n\tOrdinal0 [0x006D499D+870813]\n\tOrdinal0 [0x006CEB6B+846699]\n\tOrdinal0 [0x006CE6E5+845541]\n\tOrdinal0 [0x006CEDC3+847299]\n\tOrdinal0 [0x006C8075+819317]\n\tOrdinal0 [0x006C7CFF+818431]\n\tOrdinal0 [0x006D243B+861243]\n\tOrdinal0 [0x006D4E10+871952]\n\tOrdinal0 [0x006BD266+774758]\n\tOrdinal0 [0x006D2077+860279]\n\tOrdinal0 [0x0072464D+1197645]\n\tOrdinal0 [0x00713F66+1130342]\n\tOrdinal0 [0x006EE546+976198]\n\tOrdinal0 [0x006EF456+980054]\n\tGetHandleVerifier [0x009F9632+1727522]\n\tGetHandleVerifier [0x00AABA4D+2457661]\n\tGetHandleVerifier [0x008DEB81+569713]\n\tGetHandleVerifier [0x008DDD76+566118]\n\tOrdinal0 [0x007E0B2B+1968939]\n\tOrdinal0 [0x007E5988+1989000]\n\tOrdinal0 [0x007E5A75+1989237]\n\tOrdinal0 [0x007EECB1+2026673]\n\tBaseThreadInitThunk [0x76D96739+25]\n\tRtlGetFullPathName_UEx [0x77B48E7F+1215]\n\tRtlGetFullPathName_UEx [0x77B48E4D+1165]\n"
     ]
    }
   ],
   "source": [
    "# driver.quit()\n",
    "\n",
    "powerbuy = \"https://www.powerbuy.co.th/th/catalogsearch/result/?orderBy=price__DESC__5&q=playstation%205\"\n",
    "sonystore = \"https://store.sony.co.th/collections/playstation-5?sort_by=price-descending\"\n",
    "pbdirect = \"https://www.powerbuy.co.th/th/promotion/pre-order/pre-order-playstation5-22-apr-22\"\n",
    "\n",
    "driver.maximize_window()\n",
    "driver.execute_script(\"location.reload(true);\")\n",
    "\n",
    "driver.get(sonystore)\n",
    "# driver.find_element(By.XPATH, \"//*[contains(text(),'16990']\")\n",
    "driver.switch_to.new_window(WindowTypes.TAB)\n",
    "driver.get(pbdirect)\n",
    "# driver.find_element(By.XPATH, \"//*[contains(text(),'16990']\")\n",
    "# //*[@id=\"shopify-section-collection-template\"]/div/div[3]/div[2]/div[1]/div/div[1]/div[3]/span[1]\n",
    "# //*[@id=\"shopify-section-collection-template\"]/div/div[3]/div[1]/div[1]/span/span[1]\n",
    "# //*[@id=\"shopify-section-collection-template\"]/div/div[3]/div[1]/div[1]/span/span[1]\n",
    "# driver.switch_to.new_window(WindowTypes.TAB)\n",
    "# driver.get(powerbuy)\n",
    "\n",
    "time.sleep(2)\n",
    "\n",
    "driver.quit()"
   ]
  },
  {
   "cell_type": "markdown",
   "metadata": {},
   "source": [
    "https://www.powerbuy.co.th/th/product/sony-game-console-ps5-ultra-hd-blu-ray-controller-dualsense-white-game-ps5-horizon-forbidded-west-590664"
   ]
  }
 ],
 "metadata": {
  "interpreter": {
   "hash": "89a8cfedefd405a11d6bfa4a37e16a840bca1c40d5ba9902a9fc9c9614fd8e61"
  },
  "kernelspec": {
   "display_name": "Python 3.9.12 64-bit (windows store)",
   "language": "python",
   "name": "python3"
  },
  "language_info": {
   "codemirror_mode": {
    "name": "ipython",
    "version": 3
   },
   "file_extension": ".py",
   "mimetype": "text/x-python",
   "name": "python",
   "nbconvert_exporter": "python",
   "pygments_lexer": "ipython3",
   "version": "3.9.12"
  },
  "orig_nbformat": 4
 },
 "nbformat": 4,
 "nbformat_minor": 2
}
