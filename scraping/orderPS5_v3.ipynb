{
 "cells": [
  {
   "cell_type": "code",
   "execution_count": null,
   "metadata": {},
   "outputs": [],
   "source": [
    "# import selenium\n",
    "from selenium import webdriver\n",
    "from selenium.webdriver.common.keys import Keys # for keyboard control\n",
    "from selenium.webdriver.common.by import By\n",
    "from selenium.webdriver.common.window import WindowTypes\n",
    "from selenium.webdriver.support.ui import WebDriverWait\n",
    "from selenium.webdriver.support import expected_conditions as EC\n",
    "import time\n",
    "\n",
    "# webdriver path\n",
    "path = \"C:\\chromedriver_win32\\chromedriver.exe\"\n",
    "driver = webdriver.Chrome(path)"
   ]
  },
  {
   "cell_type": "code",
   "execution_count": null,
   "metadata": {},
   "outputs": [],
   "source": [
    "sonystore = \"https://store.sony.co.th/collections/playstation-5?sort_by=price-descending\"\n",
    "def getsony():\n",
    "    driver.get(sonystore)\n",
    "\n",
    "driver.get(sonystore)\n",
    "print(driver.find_element(By.CLASS_NAME, 'show_page').text)\n",
    "while driver.find_element(By.CLASS_NAME, 'show_page').text >= \"16\":\n",
    "    driver.execute_script(\"location.reload(true);\")\n",
    "    driver.refresh()\n",
    "    #print(\"refresh\")\n",
    "    time.sleep(1)\n",
    "    getsony()\n"
   ]
  }
 ],
 "metadata": {
  "interpreter": {
   "hash": "bbab6c0887ce51b389d41ffcd3bd06682d87a4d15a61e6ac57e2aad37e9afad8"
  },
  "kernelspec": {
   "display_name": "Python 3.9.12 64-bit (windows store)",
   "language": "python",
   "name": "python3"
  },
  "language_info": {
   "codemirror_mode": {
    "name": "ipython",
    "version": 3
   },
   "file_extension": ".py",
   "mimetype": "text/x-python",
   "name": "python",
   "nbconvert_exporter": "python",
   "pygments_lexer": "ipython3",
   "version": "3.9.13"
  },
  "orig_nbformat": 4
 },
 "nbformat": 4,
 "nbformat_minor": 2
}
