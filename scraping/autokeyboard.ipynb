{
 "cells": [
  {
   "cell_type": "code",
   "execution_count": null,
   "metadata": {},
   "outputs": [],
   "source": [
    "# import selenium\n",
    "from selenium import webdriver\n",
    "from selenium.webdriver.common.keys import Keys # for keyboard control\n",
    "import time"
   ]
  },
  {
   "cell_type": "code",
   "execution_count": null,
   "metadata": {},
   "outputs": [],
   "source": [
    "# webdriver path\n",
    "#path = \"C:\\chromedriver_win32\\chromedriver.exe\"\n",
    "#driver = webdriver.Chrome(path)\n",
    "driver = webdriver.Chrome()"
   ]
  },
  {
   "cell_type": "code",
   "execution_count": null,
   "metadata": {},
   "outputs": [],
   "source": [
    "while True:\n",
    "    # press \"Ctrl+Shift+C\"\n",
    "    webdriver.ActionChains(driver).key_down(Keys.CONTROL).key_down(Keys.SHIFT).send_keys('c').perform()\n",
    "    # release the keys\n",
    "    webdriver.ActionChains(driver).key_up(Keys.CONTROL).key_up(Keys.SHIFT).perform()\n",
    "\n",
    "    # press \"Ctrl+Enter\"\n",
    "    webdriver.ActionChains(driver).key_down(Keys.CONTROL).send_keys(Keys.ENTER).perform()\n",
    "    # release the key\n",
    "    webdriver.ActionChains(driver).key_up(Keys.CONTROL).perform()\n",
    "\n",
    "    # wait for 2 seconds\n",
    "    time.sleep(2)"
   ]
  }
 ],
 "metadata": {
  "kernelspec": {
   "display_name": "Python 3.10.5 64-bit",
   "language": "python",
   "name": "python3"
  },
  "language_info": {
   "name": "python",
   "version": "3.10.5"
  },
  "orig_nbformat": 4,
  "vscode": {
   "interpreter": {
    "hash": "aee8b7b246df8f9039afb4144a1f6fd8d2ca17a180786b69acc140d282b71a49"
   }
  }
 },
 "nbformat": 4,
 "nbformat_minor": 2
}
