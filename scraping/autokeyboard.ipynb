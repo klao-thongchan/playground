{
 "cells": [
  {
   "cell_type": "code",
   "execution_count": 2,
   "metadata": {},
   "outputs": [],
   "source": [
    "# import selenium\n",
    "from selenium import webdriver\n",
    "from selenium.webdriver.common.keys import Keys # for keyboard control\n",
    "import time"
   ]
  },
  {
   "cell_type": "code",
   "execution_count": 3,
   "metadata": {},
   "outputs": [],
   "source": [
    "# webdriver path\n",
    "#path = \"C:\\chromedriver_win32\\chromedriver.exe\"\n",
    "#driver = webdriver.Chrome(path)\n",
    "driver = webdriver.Chrome()"
   ]
  },
  {
   "cell_type": "code",
   "execution_count": 4,
   "metadata": {},
   "outputs": [
    {
     "ename": "KeyboardInterrupt",
     "evalue": "",
     "output_type": "error",
     "traceback": [
      "\u001b[1;31m---------------------------------------------------------------------------\u001b[0m",
      "\u001b[1;31mKeyboardInterrupt\u001b[0m                         Traceback (most recent call last)",
      "\u001b[1;32mklaodevilz\\playground\\scraping\\autokeyboard.ipynb Cell 3\u001b[0m in \u001b[0;36m<cell line: 1>\u001b[1;34m()\u001b[0m\n\u001b[0;32m     <a href='vscode-notebook-cell://github/klaodevilz/playground/scraping/autokeyboard.ipynb#W2sdnNjb2RlLXZmcw%3D%3D?line=9'>10</a>\u001b[0m webdriver\u001b[39m.\u001b[39mActionChains(driver)\u001b[39m.\u001b[39mkey_up(Keys\u001b[39m.\u001b[39mCONTROL)\u001b[39m.\u001b[39mperform()\n\u001b[0;32m     <a href='vscode-notebook-cell://github/klaodevilz/playground/scraping/autokeyboard.ipynb#W2sdnNjb2RlLXZmcw%3D%3D?line=11'>12</a>\u001b[0m \u001b[39m# wait for 2 seconds\u001b[39;00m\n\u001b[1;32m---> <a href='vscode-notebook-cell://github/klaodevilz/playground/scraping/autokeyboard.ipynb#W2sdnNjb2RlLXZmcw%3D%3D?line=12'>13</a>\u001b[0m time\u001b[39m.\u001b[39;49msleep(\u001b[39m2\u001b[39;49m)\n",
      "\u001b[1;31mKeyboardInterrupt\u001b[0m: "
     ]
    }
   ],
   "source": [
    "while True:\n",
    "    # press \"Ctrl+Shift+C\"\n",
    "    webdriver.ActionChains(driver).key_down(Keys.CONTROL).key_down(Keys.SHIFT).send_keys('c').perform()\n",
    "    # release the keys\n",
    "    webdriver.ActionChains(driver).key_up(Keys.CONTROL).key_up(Keys.SHIFT).perform()\n",
    "\n",
    "    # press \"Ctrl+Enter\"\n",
    "    webdriver.ActionChains(driver).key_down(Keys.CONTROL).send_keys(Keys.ENTER).perform()\n",
    "    # release the key\n",
    "    webdriver.ActionChains(driver).key_up(Keys.CONTROL).perform()\n",
    "\n",
    "    # wait for 2 seconds\n",
    "    time.sleep(2)"
   ]
  }
 ],
 "metadata": {
  "kernelspec": {
   "display_name": "Python 3.10.5 64-bit",
   "language": "python",
   "name": "python3"
  },
  "language_info": {
   "codemirror_mode": {
    "name": "ipython",
    "version": 3
   },
   "file_extension": ".py",
   "mimetype": "text/x-python",
   "name": "python",
   "nbconvert_exporter": "python",
   "pygments_lexer": "ipython3",
   "version": "3.10.11"
  },
  "orig_nbformat": 4,
  "vscode": {
   "interpreter": {
    "hash": "aee8b7b246df8f9039afb4144a1f6fd8d2ca17a180786b69acc140d282b71a49"
   }
  }
 },
 "nbformat": 4,
 "nbformat_minor": 2
}
