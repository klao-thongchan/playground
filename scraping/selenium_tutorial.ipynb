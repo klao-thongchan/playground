{
 "cells": [
  {
   "cell_type": "code",
   "execution_count": 17,
   "metadata": {},
   "outputs": [
    {
     "name": "stderr",
     "output_type": "stream",
     "text": [
      "C:\\Users\\thong\\AppData\\Local\\Temp\\ipykernel_4648\\3206212872.py:7: DeprecationWarning: executable_path has been deprecated, please pass in a Service object\n",
      "  driver = webdriver.Chrome(path)\n"
     ]
    },
    {
     "name": "stdout",
     "output_type": "stream",
     "text": [
      "15\n"
     ]
    },
    {
     "ename": "NoSuchElementException",
     "evalue": "Message: no such element: Unable to locate element: {\"method\":\"partial link text\",\"selector\":\"Add to\"}\n  (Session info: chrome=103.0.5060.134)\nStacktrace:\nBacktrace:\n\tOrdinal0 [0x003E5FD3+2187219]\n\tOrdinal0 [0x0037E6D1+1763025]\n\tOrdinal0 [0x00293E78+802424]\n\tOrdinal0 [0x002C1C10+990224]\n\tOrdinal0 [0x002C1EAB+990891]\n\tOrdinal0 [0x002EEC92+1174674]\n\tOrdinal0 [0x002DCBD4+1100756]\n\tOrdinal0 [0x002ECFC2+1167298]\n\tOrdinal0 [0x002DC9A6+1100198]\n\tOrdinal0 [0x002B6F80+946048]\n\tOrdinal0 [0x002B7E76+949878]\n\tGetHandleVerifier [0x006890C2+2721218]\n\tGetHandleVerifier [0x0067AAF0+2662384]\n\tGetHandleVerifier [0x0047137A+526458]\n\tGetHandleVerifier [0x00470416+522518]\n\tOrdinal0 [0x00384EAB+1789611]\n\tOrdinal0 [0x003897A8+1808296]\n\tOrdinal0 [0x00389895+1808533]\n\tOrdinal0 [0x003926C1+1844929]\n\tBaseThreadInitThunk [0x76386739+25]\n\tRtlGetFullPathName_UEx [0x773A8FEF+1215]\n\tRtlGetFullPathName_UEx [0x773A8FBD+1165]\n",
     "output_type": "error",
     "traceback": [
      "\u001b[1;31m---------------------------------------------------------------------------\u001b[0m",
      "\u001b[1;31mNoSuchElementException\u001b[0m                    Traceback (most recent call last)",
      "\u001b[1;32mklaodevilz\\playground\\scraping\\selenium_tutorial.ipynb Cell 1\u001b[0m in \u001b[0;36m<cell line: 16>\u001b[1;34m()\u001b[0m\n\u001b[0;32m     <a href='vscode-notebook-cell://github/klaodevilz/playground/scraping/selenium_tutorial.ipynb#ch0000000vscode-vfs?line=13'>14</a>\u001b[0m driver\u001b[39m.\u001b[39mfind_element(By\u001b[39m.\u001b[39mPARTIAL_LINK_TEXT, \u001b[39m'\u001b[39m\u001b[39mPS5\u001b[39m\u001b[39m'\u001b[39m)\u001b[39m.\u001b[39mclick()\n\u001b[0;32m     <a href='vscode-notebook-cell://github/klaodevilz/playground/scraping/selenium_tutorial.ipynb#ch0000000vscode-vfs?line=14'>15</a>\u001b[0m time\u001b[39m.\u001b[39msleep(\u001b[39m5\u001b[39m)\n\u001b[1;32m---> <a href='vscode-notebook-cell://github/klaodevilz/playground/scraping/selenium_tutorial.ipynb#ch0000000vscode-vfs?line=15'>16</a>\u001b[0m driver\u001b[39m.\u001b[39;49mfind_element(By\u001b[39m.\u001b[39;49mPARTIAL_LINK_TEXT, \u001b[39m'\u001b[39;49m\u001b[39mAdd to\u001b[39;49m\u001b[39m'\u001b[39;49m)\u001b[39m.\u001b[39mclick()\n",
      "File \u001b[1;32m~\\AppData\\Local\\Packages\\PythonSoftwareFoundation.Python.3.9_qbz5n2kfra8p0\\LocalCache\\local-packages\\Python39\\site-packages\\selenium\\webdriver\\remote\\webdriver.py:1248\u001b[0m, in \u001b[0;36mWebDriver.find_element\u001b[1;34m(self, by, value)\u001b[0m\n\u001b[0;32m   1245\u001b[0m     by \u001b[39m=\u001b[39m By\u001b[39m.\u001b[39mCSS_SELECTOR\n\u001b[0;32m   1246\u001b[0m     value \u001b[39m=\u001b[39m \u001b[39m'\u001b[39m\u001b[39m[name=\u001b[39m\u001b[39m\"\u001b[39m\u001b[39m%s\u001b[39;00m\u001b[39m\"\u001b[39m\u001b[39m]\u001b[39m\u001b[39m'\u001b[39m \u001b[39m%\u001b[39m value\n\u001b[1;32m-> 1248\u001b[0m \u001b[39mreturn\u001b[39;00m \u001b[39mself\u001b[39;49m\u001b[39m.\u001b[39;49mexecute(Command\u001b[39m.\u001b[39;49mFIND_ELEMENT, {\n\u001b[0;32m   1249\u001b[0m     \u001b[39m'\u001b[39;49m\u001b[39musing\u001b[39;49m\u001b[39m'\u001b[39;49m: by,\n\u001b[0;32m   1250\u001b[0m     \u001b[39m'\u001b[39;49m\u001b[39mvalue\u001b[39;49m\u001b[39m'\u001b[39;49m: value})[\u001b[39m'\u001b[39m\u001b[39mvalue\u001b[39m\u001b[39m'\u001b[39m]\n",
      "File \u001b[1;32m~\\AppData\\Local\\Packages\\PythonSoftwareFoundation.Python.3.9_qbz5n2kfra8p0\\LocalCache\\local-packages\\Python39\\site-packages\\selenium\\webdriver\\remote\\webdriver.py:425\u001b[0m, in \u001b[0;36mWebDriver.execute\u001b[1;34m(self, driver_command, params)\u001b[0m\n\u001b[0;32m    423\u001b[0m response \u001b[39m=\u001b[39m \u001b[39mself\u001b[39m\u001b[39m.\u001b[39mcommand_executor\u001b[39m.\u001b[39mexecute(driver_command, params)\n\u001b[0;32m    424\u001b[0m \u001b[39mif\u001b[39;00m response:\n\u001b[1;32m--> 425\u001b[0m     \u001b[39mself\u001b[39;49m\u001b[39m.\u001b[39;49merror_handler\u001b[39m.\u001b[39;49mcheck_response(response)\n\u001b[0;32m    426\u001b[0m     response[\u001b[39m'\u001b[39m\u001b[39mvalue\u001b[39m\u001b[39m'\u001b[39m] \u001b[39m=\u001b[39m \u001b[39mself\u001b[39m\u001b[39m.\u001b[39m_unwrap_value(\n\u001b[0;32m    427\u001b[0m         response\u001b[39m.\u001b[39mget(\u001b[39m'\u001b[39m\u001b[39mvalue\u001b[39m\u001b[39m'\u001b[39m, \u001b[39mNone\u001b[39;00m))\n\u001b[0;32m    428\u001b[0m     \u001b[39mreturn\u001b[39;00m response\n",
      "File \u001b[1;32m~\\AppData\\Local\\Packages\\PythonSoftwareFoundation.Python.3.9_qbz5n2kfra8p0\\LocalCache\\local-packages\\Python39\\site-packages\\selenium\\webdriver\\remote\\errorhandler.py:247\u001b[0m, in \u001b[0;36mErrorHandler.check_response\u001b[1;34m(self, response)\u001b[0m\n\u001b[0;32m    245\u001b[0m         alert_text \u001b[39m=\u001b[39m value[\u001b[39m'\u001b[39m\u001b[39malert\u001b[39m\u001b[39m'\u001b[39m]\u001b[39m.\u001b[39mget(\u001b[39m'\u001b[39m\u001b[39mtext\u001b[39m\u001b[39m'\u001b[39m)\n\u001b[0;32m    246\u001b[0m     \u001b[39mraise\u001b[39;00m exception_class(message, screen, stacktrace, alert_text)  \u001b[39m# type: ignore[call-arg]  # mypy is not smart enough here\u001b[39;00m\n\u001b[1;32m--> 247\u001b[0m \u001b[39mraise\u001b[39;00m exception_class(message, screen, stacktrace)\n",
      "\u001b[1;31mNoSuchElementException\u001b[0m: Message: no such element: Unable to locate element: {\"method\":\"partial link text\",\"selector\":\"Add to\"}\n  (Session info: chrome=103.0.5060.134)\nStacktrace:\nBacktrace:\n\tOrdinal0 [0x003E5FD3+2187219]\n\tOrdinal0 [0x0037E6D1+1763025]\n\tOrdinal0 [0x00293E78+802424]\n\tOrdinal0 [0x002C1C10+990224]\n\tOrdinal0 [0x002C1EAB+990891]\n\tOrdinal0 [0x002EEC92+1174674]\n\tOrdinal0 [0x002DCBD4+1100756]\n\tOrdinal0 [0x002ECFC2+1167298]\n\tOrdinal0 [0x002DC9A6+1100198]\n\tOrdinal0 [0x002B6F80+946048]\n\tOrdinal0 [0x002B7E76+949878]\n\tGetHandleVerifier [0x006890C2+2721218]\n\tGetHandleVerifier [0x0067AAF0+2662384]\n\tGetHandleVerifier [0x0047137A+526458]\n\tGetHandleVerifier [0x00470416+522518]\n\tOrdinal0 [0x00384EAB+1789611]\n\tOrdinal0 [0x003897A8+1808296]\n\tOrdinal0 [0x00389895+1808533]\n\tOrdinal0 [0x003926C1+1844929]\n\tBaseThreadInitThunk [0x76386739+25]\n\tRtlGetFullPathName_UEx [0x773A8FEF+1215]\n\tRtlGetFullPathName_UEx [0x773A8FBD+1165]\n"
     ]
    }
   ],
   "source": [
    "from selenium import webdriver\n",
    "# check webdriver version here -> https://chromedriver.chromium.org/downloads\n",
    "from selenium.webdriver.common.by import By\n",
    "import time\n",
    "\n",
    "path = \"C:\\chromedriver_win32\\chromedriver.exe\"\n",
    "driver = webdriver.Chrome(path)\n",
    "\n",
    "sonystore = \"https://store.sony.co.th/collections/playstation-5?sort_by=price-descending\"\n",
    "\n",
    "driver.get(sonystore)\n",
    "print(driver.find_element(By.CLASS_NAME, 'show_page').text)\n",
    "# driver.find_element_by_partial_link_text('Playstation').click()\n",
    "driver.find_element(By.PARTIAL_LINK_TEXT, 'PS5').click()\n",
    "time.sleep(5)\n",
    "driver.find_element(By.PARTIAL_LINK_TEXT, 'Add to').click()\n",
    "# while driver.find_element(By.CLASS_NAME, 'show_page').text >= \"16\":\n",
    "#     driver.manage().delete_all_cookies()\n",
    "#     driver.execute_script(\"location.reload(true);\")\n",
    "#     driver.refresh()\n",
    "#     driver.find_elelement_by_partial_link_text('Playstation 5').click()\n",
    "#     #print(\"refresh\")\n",
    "#     time.sleep(1)\n",
    "#     getsony()\n",
    "\n",
    "# Xpath=//tagname[@Attribute='Value']\n",
    "\n",
    "# twitter = \"https://twitter.com\"\n",
    "# def gettwitter():\n",
    "#     driver.get(twitter)\n",
    "# gettwitter()\n",
    "# driver.find_element_by_link_text(\"Sign Up\").click()\n",
    "# driver.find_element_by_xpath(\"//input[@name='name']\").send_keys(\"test\")\n",
    "# driver.find_element_by_name(\"phone_number\").send_keys(\"0812345678\")\n",
    "# time.sleep(1)\n",
    "# driver.find_element_by_xpath(\"//span[contains(text(),'Next')]\").click()"
   ]
  }
 ],
 "metadata": {
  "kernelspec": {
   "display_name": "Python 3.9.13 64-bit (windows store)",
   "language": "python",
   "name": "python3"
  },
  "language_info": {
   "codemirror_mode": {
    "name": "ipython",
    "version": 3
   },
   "file_extension": ".py",
   "mimetype": "text/x-python",
   "name": "python",
   "nbconvert_exporter": "python",
   "pygments_lexer": "ipython3",
   "version": "3.9.13"
  },
  "orig_nbformat": 4,
  "vscode": {
   "interpreter": {
    "hash": "bbab6c0887ce51b389d41ffcd3bd06682d87a4d15a61e6ac57e2aad37e9afad8"
   }
  }
 },
 "nbformat": 4,
 "nbformat_minor": 2
}
