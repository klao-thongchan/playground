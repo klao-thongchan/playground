{
 "cells": [
  {
   "cell_type": "code",
   "execution_count": null,
   "metadata": {},
   "outputs": [],
   "source": [
    "from selenium import webdriver\n",
    "# check webdriver version here -> https://chromedriver.chromium.org/downloads\n",
    "from selenium.webdriver.common.by import By\n",
    "import time\n",
    "\n",
    "path = \"C:\\chromedriver_win32\\chromedriver.exe\"\n",
    "driver = webdriver.Chrome(path)\n",
    "\n",
    "sonystore = \"https://store.sony.co.th/collections/playstation-5?sort_by=price-descending\"\n",
    "\n",
    "driver.get(sonystore)\n",
    "print(driver.find_element(By.CLASS_NAME, 'show_page').text)\n",
    "# while driver.find_element(By.CLASS_NAME, 'show_page').text >= \"16\":\n",
    "#     driver.manage().delete_all_cookies()\n",
    "#     driver.execute_script(\"location.reload(true);\")\n",
    "#     driver.refresh()\n",
    "#     #print(\"refresh\")\n",
    "#     time.sleep(1)\n",
    "#     getsony()\n",
    "\n",
    "# twitter = \"https://twitter.com\"\n",
    "# def gettwitter():\n",
    "#     driver.get(twitter)\n",
    "# gettwitter()\n",
    "# driver.find_element_by_link_text(\"Sign Up\").click()\n",
    "# driver.find_element_by_xpath(\"//input[@name='name']\").send_keys(\"test\")\n",
    "# driver.find_element_by_name(\"phone_number\").send_keys(\"0812345678\")\n",
    "# time.sleep(1)\n",
    "# driver.find_element_by_xpath(\"//span[contains(text(),'Next')]\").click()"
   ]
  }
 ],
 "metadata": {
  "kernelspec": {
   "display_name": "Python 3.9.13 64-bit (windows store)",
   "language": "python",
   "name": "python3"
  },
  "language_info": {
   "codemirror_mode": {
    "name": "ipython",
    "version": 3
   },
   "file_extension": ".py",
   "mimetype": "text/x-python",
   "name": "python",
   "nbconvert_exporter": "python",
   "pygments_lexer": "ipython3",
   "version": "3.9.13"
  },
  "orig_nbformat": 4,
  "vscode": {
   "interpreter": {
    "hash": "bbab6c0887ce51b389d41ffcd3bd06682d87a4d15a61e6ac57e2aad37e9afad8"
   }
  }
 },
 "nbformat": 4,
 "nbformat_minor": 2
}
