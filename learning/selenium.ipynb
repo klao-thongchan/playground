{
 "cells": [
  {
   "cell_type": "markdown",
   "metadata": {},
   "source": [
    "Why Selenium?\n",
    "- Easy to automate testing across web application\n",
    "- Many languages support\n",
    "- Easy to implement test cases\n",
    "- Supoorts various OS\n",
    "- Easy to learn\n",
    "\n",
    "Features of Selenium\n",
    "- Cloud-based testing platform\n",
    "- Test scripts are written in Java, Python, C#, Ruby\n",
    "- Supports parallel execution\n",
    "- Requires fewer resources\n",
    "- No server installation\n",
    "\n",
    "Components of Selenium\n",
    "- Selenium IDE\n",
    "- Selenium RC (Remote Control)\n",
    "- Selenium WebDriver\n",
    "- Selenium Grid"
   ]
  },
  {
   "cell_type": "code",
   "execution_count": null,
   "metadata": {},
   "outputs": [],
   "source": [
    "import selenium"
   ]
  },
  {
   "cell_type": "markdown",
   "metadata": {},
   "source": [
    "Type of WebElements\n",
    "- Edit Box\n",
    "- Link\n",
    "- Button\n",
    "- Image, Image Link, Image Button\n",
    "- Text Area\n",
    "- Check Box\n",
    "- Radio Button\n",
    "- Drop down Box\n",
    "- List Box\n",
    "- Combo Box"
   ]
  }
 ],
 "metadata": {
  "kernelspec": {
   "display_name": "Python 3.10.5 64-bit",
   "language": "python",
   "name": "python3"
  },
  "language_info": {
   "name": "python",
   "version": "3.10.5"
  },
  "orig_nbformat": 4,
  "vscode": {
   "interpreter": {
    "hash": "aee8b7b246df8f9039afb4144a1f6fd8d2ca17a180786b69acc140d282b71a49"
   }
  }
 },
 "nbformat": 4,
 "nbformat_minor": 2
}
