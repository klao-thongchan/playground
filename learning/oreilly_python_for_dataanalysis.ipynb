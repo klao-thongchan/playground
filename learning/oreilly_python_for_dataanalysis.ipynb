{
 "cells": [
  {
   "cell_type": "code",
   "execution_count": 1,
   "metadata": {},
   "outputs": [],
   "source": [
    "import numpy as np\n",
    "import matplotlib.pyplot as plt\n",
    "import pandas as pd\n",
    "import seaborn as sns\n",
    "import statsmodels as sm\n",
    "import os"
   ]
  },
  {
   "cell_type": "code",
   "execution_count": 2,
   "metadata": {},
   "outputs": [
    {
     "data": {
      "text/plain": [
       "[-0.14155324480172327,\n",
       " 1.0542854180798078,\n",
       " 0.7311808875318083,\n",
       " -0.5763101841251366,\n",
       " 0.0005780109094221217,\n",
       " 0.6086105891221926,\n",
       " -0.17435014130628454]"
      ]
     },
     "execution_count": 2,
     "metadata": {},
     "output_type": "execute_result"
    }
   ],
   "source": [
    "data = [np.random.standard_normal() for i in range(7)]\n",
    "data"
   ]
  },
  {
   "cell_type": "code",
   "execution_count": 3,
   "metadata": {},
   "outputs": [
    {
     "name": "stdout",
     "output_type": "stream",
     "text": [
      "line =  3\n"
     ]
    }
   ],
   "source": [
    "c = \"\"\"\n",
    "This is a longer string that\n",
    "spans multiple lines\n",
    "\"\"\"\n",
    "print(\"line = \",c.count(\"\\n\"))"
   ]
  },
  {
   "cell_type": "code",
   "execution_count": 4,
   "metadata": {},
   "outputs": [
    {
     "data": {
      "text/plain": [
       "'88.46 Argentine Pesos are worth US$1'"
      ]
     },
     "execution_count": 4,
     "metadata": {},
     "output_type": "execute_result"
    }
   ],
   "source": [
    "template = \"{0:.2f} {1:s} are worth US${2:d}\"\n",
    "template.format(88.46, \"Argentine Pesos\", 1)"
   ]
  },
  {
   "cell_type": "markdown",
   "metadata": {},
   "source": [
    "{0:.2f} means to format the first argument as a floating-point number with two decimal places.\n",
    "\n",
    "{1:s} means to format the second argument as a string.\n",
    "\n",
    "{2:d} means to format the third argument as an exact integer."
   ]
  },
  {
   "cell_type": "code",
   "execution_count": 5,
   "metadata": {},
   "outputs": [
    {
     "name": "stdout",
     "output_type": "stream",
     "text": [
      "val_utf8 = b'espa\\xc3\\xb1ol' type = <class 'bytes'>\n",
      "decoded = español\n",
      "b'espa\\xf1ol'\n",
      "b'\\xff\\xfee\\x00s\\x00p\\x00a\\x00\\xf1\\x00o\\x00l\\x00'\n",
      "b'e\\x00s\\x00p\\x00a\\x00\\xf1\\x00o\\x00l\\x00'\n"
     ]
    }
   ],
   "source": [
    "val = \"español\"\n",
    "val_utf8 = val.encode(\"utf-8\")\n",
    "print(\"val_utf8 =\", val_utf8, \"type =\", type(val_utf8))\n",
    "print(\"decoded =\", val_utf8.decode(\"utf-8\"))\n",
    "\n",
    "print(val.encode(\"latin1\"))\n",
    "print(val.encode(\"utf-16\"))\n",
    "print(val.encode(\"utf-16le\"))"
   ]
  },
  {
   "cell_type": "code",
   "execution_count": 6,
   "metadata": {},
   "outputs": [],
   "source": [
    "sequence = [1, 2, None, 4, None, 5]\n",
    "total = 0\n",
    "for value in sequence:\n",
    "    if value is None:\n",
    "        continue\n",
    "    total += value"
   ]
  },
  {
   "cell_type": "markdown",
   "metadata": {},
   "source": [
    "You can advance a for loop to the next iteration, skipping the remainder of the block, using the continue keyword. Consider this code, which sums up integers in a list and skips None values:"
   ]
  },
  {
   "cell_type": "code",
   "execution_count": 7,
   "metadata": {},
   "outputs": [],
   "source": [
    "sequence = [1, 2, 0, 4, 6, 5, 2, 1]\n",
    "total_until_5 = 0\n",
    "for value in sequence:\n",
    "    if value == 5:\n",
    "        break\n",
    "    total_until_5 += value"
   ]
  },
  {
   "cell_type": "markdown",
   "metadata": {},
   "source": [
    "The break keyword only terminates the innermost for loop; any outer for loops will continue to run:"
   ]
  },
  {
   "cell_type": "code",
   "execution_count": 8,
   "metadata": {},
   "outputs": [
    {
     "name": "stdout",
     "output_type": "stream",
     "text": [
      "(0, 0)\n",
      "(1, 0)\n",
      "(1, 1)\n",
      "(2, 0)\n",
      "(2, 1)\n",
      "(2, 2)\n",
      "(3, 0)\n",
      "(3, 1)\n",
      "(3, 2)\n",
      "(3, 3)\n"
     ]
    }
   ],
   "source": [
    "for i in range(4):\n",
    "    for j in range(4):\n",
    "        if j > i:\n",
    "            break\n",
    "        print((i, j))"
   ]
  },
  {
   "cell_type": "code",
   "execution_count": 9,
   "metadata": {},
   "outputs": [
    {
     "name": "stdout",
     "output_type": "stream",
     "text": [
      "positive!\n"
     ]
    }
   ],
   "source": [
    "x = 1\n",
    "\n",
    "if x < 0:\n",
    "    print(\"negative!\")\n",
    "elif x == 0:\n",
    "    # TODO: put something smart here\n",
    "    pass\n",
    "else:\n",
    "    print(\"positive!\")"
   ]
  },
  {
   "cell_type": "markdown",
   "metadata": {},
   "source": [
    "pass is the “no-op” (or \"do nothing\") statement in Python. It can be used in blocks where no action is to be taken (or as a placeholder for code not yet implemented); it is only required because Python uses whitespace to delimit blocks:"
   ]
  },
  {
   "cell_type": "code",
   "execution_count": 10,
   "metadata": {},
   "outputs": [
    {
     "name": "stdout",
     "output_type": "stream",
     "text": [
      "[0, 2, 4, 6, 8, 10, 12, 14, 16, 18]\n",
      "[5, 4, 3, 2, 1]\n"
     ]
    }
   ],
   "source": [
    "print(list(range(0, 20, 2)))\n",
    "print(list(range(5, 0, -1)))"
   ]
  },
  {
   "cell_type": "code",
   "execution_count": 11,
   "metadata": {},
   "outputs": [],
   "source": [
    "import re\n",
    "\n",
    "def clean_strings(strings):\n",
    "    result = []\n",
    "    for value in strings:\n",
    "        value = value.strip()\n",
    "        value = re.sub(\"[!#?]\", \"\", value)\n",
    "        value = value.title()\n",
    "        result.append(value)\n",
    "    return result"
   ]
  },
  {
   "cell_type": "markdown",
   "metadata": {},
   "source": [
    "the re standard library module for regular expressions"
   ]
  },
  {
   "cell_type": "code",
   "execution_count": 12,
   "metadata": {},
   "outputs": [
    {
     "data": {
      "text/plain": [
       "'something'"
      ]
     },
     "execution_count": 12,
     "metadata": {},
     "output_type": "execute_result"
    }
   ],
   "source": [
    "def attempt_float(x):\n",
    "    try:\n",
    "        return float(x)\n",
    "    except (TypeError, ValueError):\n",
    "        return x\n",
    "\n",
    "attempt_float(\"1.2345\")\n",
    "attempt_float(\"something\")"
   ]
  },
  {
   "cell_type": "code",
   "execution_count": 13,
   "metadata": {},
   "outputs": [
    {
     "name": "stdout",
     "output_type": "stream",
     "text": [
      "Failed\n"
     ]
    }
   ],
   "source": [
    "path = os.path.abspath(r\"C:\\datasets\\all_games.csv\")\n",
    "file = os.path.abspath(r\"C:\\datasets\\temp.csv\")\n",
    "f = open(path, mode=\"w\")\n",
    "def write_to_file(file, df):\n",
    "    pd.df.to_csv(file)\n",
    "\n",
    "try:\n",
    "    write_to_file(f)\n",
    "except:\n",
    "    print(\"Failed\")\n",
    "else:\n",
    "    print(\"Succeeded\")\n",
    "finally:\n",
    "    f.close()"
   ]
  },
  {
   "cell_type": "markdown",
   "metadata": {},
   "source": [
    "- r\tRead-only mode\n",
    "- w\tWrite-only mode; creates a new file (erasing the data for any file with the same name)\n",
    "- x\tWrite-only mode; creates a new file, but fails if the file path already exists\n",
    "- a\tAppend to existing file (create the file if it does not already exist)\n",
    "- r+\tRead and write\n",
    "- b\tAdd to mode for binary files (i.e., \"rb\" or \"wb\")\n",
    "- t\tText mode for files (automatically decoding bytes to Unicode). This is the default if not specified."
   ]
  },
  {
   "cell_type": "code",
   "execution_count": 14,
   "metadata": {},
   "outputs": [
    {
     "name": "stdout",
     "output_type": "stream",
     "text": [
      "1.81 ms ± 141 µs per loop (mean ± std. dev. of 7 runs, 100 loops each)\n",
      "88.3 ms ± 8.22 ms per loop (mean ± std. dev. of 7 runs, 10 loops each)\n"
     ]
    }
   ],
   "source": [
    "my_arr = np.arange(1_000_000)\n",
    "my_list = list(range(1_000_000))\n",
    "\n",
    "%timeit my_arr2 = my_arr * 2\n",
    "%timeit my_list2 = [x * 2 for x in my_list]"
   ]
  },
  {
   "cell_type": "code",
   "execution_count": 15,
   "metadata": {},
   "outputs": [
    {
     "name": "stdout",
     "output_type": "stream",
     "text": [
      "[[ 28.  64.]\n",
      " [ 67. 181.]]\n",
      "[[ 28.  64.]\n",
      " [ 67. 181.]]\n"
     ]
    }
   ],
   "source": [
    "x = np.array([[1., 2., 3.], [4., 5., 6.]])\n",
    "y = np.array([[6., 23.], [-1, 7], [8, 9]])\n",
    "print(x.dot(y))\n",
    "print(np.dot(x, y))"
   ]
  },
  {
   "cell_type": "markdown",
   "metadata": {},
   "source": [
    "x.dot(y) is equivalent to np.dot(x, y)"
   ]
  },
  {
   "cell_type": "code",
   "execution_count": 16,
   "metadata": {},
   "outputs": [
    {
     "name": "stdout",
     "output_type": "stream",
     "text": [
      "Ohio      35000\n",
      "Texas     71000\n",
      "Oregon    16000\n",
      "Utah       5000\n",
      "dtype: int64\n",
      "Ohio      35000\n",
      "Texas     71000\n",
      "Oregon    16000\n",
      "Utah       5000\n",
      "dtype: int64\n"
     ]
    }
   ],
   "source": [
    "sdata = {\"Ohio\": 35000, \"Texas\": 71000, \"Oregon\": 16000, \"Utah\": 5000}\n",
    "obj3 = pd.Series(sdata)\n",
    "print(obj3)\n",
    "obj3.to_dict()\n",
    "print(obj3)"
   ]
  },
  {
   "cell_type": "code",
   "execution_count": 17,
   "metadata": {},
   "outputs": [
    {
     "name": "stdout",
     "output_type": "stream",
     "text": [
      "   year   state  pop debt\n",
      "0  2000    Ohio  1.5  NaN\n",
      "1  2001    Ohio  1.7  NaN\n",
      "2  2002    Ohio  3.6  NaN\n",
      "3  2001  Nevada  2.4  NaN\n",
      "4  2002  Nevada  2.9  NaN\n",
      "5  2003  Nevada  3.2  NaN\n"
     ]
    }
   ],
   "source": [
    "data = {\"state\": [\"Ohio\", \"Ohio\", \"Ohio\", \"Nevada\", \"Nevada\", \"Nevada\"],\n",
    "        \"year\": [2000, 2001, 2002, 2001, 2002, 2003],\n",
    "        \"pop\": [1.5, 1.7, 3.6, 2.4, 2.9, 3.2]}\n",
    "frame = pd.DataFrame(data)\n",
    "frame2 = pd.DataFrame(data, columns=[\"year\", \"state\", \"pop\", \"debt\"])\n",
    "frame2.to_numpy()\n",
    "print(frame2)"
   ]
  },
  {
   "cell_type": "code",
   "execution_count": 18,
   "metadata": {},
   "outputs": [
    {
     "name": "stdout",
     "output_type": "stream",
     "text": [
      "               b         d         e\n",
      "Utah    0.839399  1.161053 -1.312769\n",
      "Ohio    0.106660 -0.496888 -1.525433\n",
      "Texas  -1.933826  1.168681 -1.198087\n",
      "Oregon  1.642317  0.300384  0.757572\n",
      "b    3.576143\n",
      "d    1.665568\n",
      "e    2.283005\n",
      "dtype: float64\n",
      "Utah      2.473823\n",
      "Ohio      1.632092\n",
      "Texas     3.102507\n",
      "Oregon    1.341932\n",
      "dtype: float64\n",
      "            b      d      e\n",
      "Utah     0.84   1.16  -1.31\n",
      "Ohio     0.11  -0.50  -1.53\n",
      "Texas   -1.93   1.17  -1.20\n",
      "Oregon   1.64   0.30   0.76\n"
     ]
    }
   ],
   "source": [
    "frame = pd.DataFrame(np.random.standard_normal((4, 3)), \n",
    "                    columns=list(\"bde\"),\n",
    "                    index=[\"Utah\", \"Ohio\", \"Texas\", \"Oregon\"])\n",
    "print(frame)\n",
    "\n",
    "def f1(x):\n",
    "    return x.max() - x.min()\n",
    "\n",
    "print(frame.apply(f1))\n",
    "print(frame.apply(f1, axis=\"columns\"))\n",
    "\n",
    "def my_format(x):\n",
    "    return f\"{x:.2f}\"\n",
    "\n",
    "print(frame.applymap(my_format))"
   ]
  },
  {
   "cell_type": "code",
   "execution_count": 19,
   "metadata": {},
   "outputs": [
    {
     "name": "stdout",
     "output_type": "stream",
     "text": [
      "correlation: 0.49976361144151155\n",
      "covarience: 8.870655479703546e-05\n"
     ]
    }
   ],
   "source": [
    "# import os\n",
    "\n",
    "# file = os.path.abspath(r\"C:\\datasets\\Line assignment.xlsx\")\n",
    "# df = pd.read_excel(file, sheet_name='StageOverview')\n",
    "\n",
    "file_y_price = os.path.abspath(r\"C:\\datasets\\yahoo_price.pkl\")\n",
    "file_y_volume = os.path.abspath(r\"C:\\datasets\\yahoo_volume.pkl\")\n",
    "\n",
    "price = pd.read_pickle(file_y_price)\n",
    "volume = pd.read_pickle(file_y_volume)\n",
    "\n",
    "returns = price.pct_change()\n",
    "\n",
    "print(\"correlation:\", returns[\"MSFT\"].corr(returns[\"IBM\"]))\n",
    "print(\"covarience:\", returns[\"MSFT\"].cov(returns[\"IBM\"]))"
   ]
  },
  {
   "cell_type": "code",
   "execution_count": 20,
   "metadata": {},
   "outputs": [
    {
     "data": {
      "text/html": [
       "<div>\n",
       "<style scoped>\n",
       "    .dataframe tbody tr th:only-of-type {\n",
       "        vertical-align: middle;\n",
       "    }\n",
       "\n",
       "    .dataframe tbody tr th {\n",
       "        vertical-align: top;\n",
       "    }\n",
       "\n",
       "    .dataframe thead th {\n",
       "        text-align: right;\n",
       "    }\n",
       "</style>\n",
       "<table border=\"1\" class=\"dataframe\">\n",
       "  <thead>\n",
       "    <tr style=\"text-align: right;\">\n",
       "      <th></th>\n",
       "      <th>AAPL</th>\n",
       "      <th>GOOG</th>\n",
       "      <th>IBM</th>\n",
       "      <th>MSFT</th>\n",
       "    </tr>\n",
       "  </thead>\n",
       "  <tbody>\n",
       "    <tr>\n",
       "      <th>AAPL</th>\n",
       "      <td>1.000000</td>\n",
       "      <td>0.407919</td>\n",
       "      <td>0.386817</td>\n",
       "      <td>0.389695</td>\n",
       "    </tr>\n",
       "    <tr>\n",
       "      <th>GOOG</th>\n",
       "      <td>0.407919</td>\n",
       "      <td>1.000000</td>\n",
       "      <td>0.405099</td>\n",
       "      <td>0.465919</td>\n",
       "    </tr>\n",
       "    <tr>\n",
       "      <th>IBM</th>\n",
       "      <td>0.386817</td>\n",
       "      <td>0.405099</td>\n",
       "      <td>1.000000</td>\n",
       "      <td>0.499764</td>\n",
       "    </tr>\n",
       "    <tr>\n",
       "      <th>MSFT</th>\n",
       "      <td>0.389695</td>\n",
       "      <td>0.465919</td>\n",
       "      <td>0.499764</td>\n",
       "      <td>1.000000</td>\n",
       "    </tr>\n",
       "  </tbody>\n",
       "</table>\n",
       "</div>"
      ],
      "text/plain": [
       "          AAPL      GOOG       IBM      MSFT\n",
       "AAPL  1.000000  0.407919  0.386817  0.389695\n",
       "GOOG  0.407919  1.000000  0.405099  0.465919\n",
       "IBM   0.386817  0.405099  1.000000  0.499764\n",
       "MSFT  0.389695  0.465919  0.499764  1.000000"
      ]
     },
     "execution_count": 20,
     "metadata": {},
     "output_type": "execute_result"
    }
   ],
   "source": [
    "returns.corr()"
   ]
  },
  {
   "cell_type": "code",
   "execution_count": 21,
   "metadata": {},
   "outputs": [
    {
     "data": {
      "text/plain": [
       "AAPL    0.386817\n",
       "GOOG    0.405099\n",
       "IBM     1.000000\n",
       "MSFT    0.499764\n",
       "dtype: float64"
      ]
     },
     "execution_count": 21,
     "metadata": {},
     "output_type": "execute_result"
    }
   ],
   "source": [
    "returns.corrwith(returns[\"IBM\"])"
   ]
  },
  {
   "cell_type": "code",
   "execution_count": 22,
   "metadata": {},
   "outputs": [
    {
     "data": {
      "text/plain": [
       "AAPL   -0.075565\n",
       "GOOG   -0.007067\n",
       "IBM    -0.204849\n",
       "MSFT   -0.092950\n",
       "dtype: float64"
      ]
     },
     "execution_count": 22,
     "metadata": {},
     "output_type": "execute_result"
    }
   ],
   "source": [
    "returns.corrwith(volume)"
   ]
  },
  {
   "cell_type": "code",
   "execution_count": 23,
   "metadata": {},
   "outputs": [],
   "source": [
    "# frame = pd.read_csv(\"examples/ex1.csv\")\n",
    "# frame.to_pickle(\"examples/frame_pickle\")\n",
    "# pd.read_pickle(\"examples/frame_pickle\")"
   ]
  },
  {
   "cell_type": "markdown",
   "metadata": {},
   "source": [
    "pickle is only recommended as a short-term storage format. The problem is that it is hard to guarantee that the format will be stable over time; an object pickled today may not unpickle with a later version of a library. pandas has tried to maintain backward compatibility when possible, but at some point in the future it may be necessary to “break” the pickle format."
   ]
  },
  {
   "cell_type": "code",
   "execution_count": 24,
   "metadata": {},
   "outputs": [
    {
     "data": {
      "text/plain": [
       "['TrafficChannelFixed',\n",
       " 'PivotTraffic',\n",
       " 'Regression',\n",
       " 'StageOverview',\n",
       " 'ChTrafficPage',\n",
       " 'Str1Fig',\n",
       " 'PivotPage',\n",
       " 'ChVisitorStage',\n",
       " 'ChCusomerStage',\n",
       " 'ConversionRate',\n",
       " 'TrafficChannel']"
      ]
     },
     "execution_count": 24,
     "metadata": {},
     "output_type": "execute_result"
    }
   ],
   "source": [
    "File = os.path.abspath(r\"C:\\datasets\\Line assignment.xlsx\")\n",
    "xlsx = pd.ExcelFile(File)\n",
    "xlsx.sheet_names"
   ]
  },
  {
   "cell_type": "code",
   "execution_count": 25,
   "metadata": {},
   "outputs": [
    {
     "data": {
      "text/html": [
       "<div>\n",
       "<style scoped>\n",
       "    .dataframe tbody tr th:only-of-type {\n",
       "        vertical-align: middle;\n",
       "    }\n",
       "\n",
       "    .dataframe tbody tr th {\n",
       "        vertical-align: top;\n",
       "    }\n",
       "\n",
       "    .dataframe thead th {\n",
       "        text-align: right;\n",
       "    }\n",
       "</style>\n",
       "<table border=\"1\" class=\"dataframe\">\n",
       "  <thead>\n",
       "    <tr style=\"text-align: right;\">\n",
       "      <th></th>\n",
       "      <th>channel</th>\n",
       "      <th>Non unique Traffic</th>\n",
       "      <th>Unique traffic</th>\n",
       "      <th>Repeated Visit Traffic Rate</th>\n",
       "      <th>Non unique visit product</th>\n",
       "      <th>Unique visit product</th>\n",
       "      <th>Unique Drop-off</th>\n",
       "      <th>Repeated Visit Product Rate</th>\n",
       "      <th>Visit Rate</th>\n",
       "      <th>Add carts</th>\n",
       "      <th>...</th>\n",
       "      <th>Value per Cart</th>\n",
       "      <th>Value per Order</th>\n",
       "      <th>Value per Place order</th>\n",
       "      <th>Customer</th>\n",
       "      <th>Cart per Customer</th>\n",
       "      <th>Order per Customer</th>\n",
       "      <th>Conversion rate (Traffic/Customer)</th>\n",
       "      <th>New customer</th>\n",
       "      <th>Existing customer</th>\n",
       "      <th>Resurrect customer</th>\n",
       "    </tr>\n",
       "    <tr>\n",
       "      <th>Month</th>\n",
       "      <th></th>\n",
       "      <th></th>\n",
       "      <th></th>\n",
       "      <th></th>\n",
       "      <th></th>\n",
       "      <th></th>\n",
       "      <th></th>\n",
       "      <th></th>\n",
       "      <th></th>\n",
       "      <th></th>\n",
       "      <th></th>\n",
       "      <th></th>\n",
       "      <th></th>\n",
       "      <th></th>\n",
       "      <th></th>\n",
       "      <th></th>\n",
       "      <th></th>\n",
       "      <th></th>\n",
       "      <th></th>\n",
       "      <th></th>\n",
       "      <th></th>\n",
       "    </tr>\n",
       "  </thead>\n",
       "  <tbody>\n",
       "    <tr>\n",
       "      <th>2021-10-01</th>\n",
       "      <td>Direct/Seller Push</td>\n",
       "      <td>15328548.3</td>\n",
       "      <td>7993160.5</td>\n",
       "      <td>1.917708</td>\n",
       "      <td>6831857.5</td>\n",
       "      <td>3598925.2</td>\n",
       "      <td>-4394235.3</td>\n",
       "      <td>1.898305</td>\n",
       "      <td>0.450251</td>\n",
       "      <td>926718.0</td>\n",
       "      <td>...</td>\n",
       "      <td>849.463207</td>\n",
       "      <td>1712.586554</td>\n",
       "      <td>1098.263308</td>\n",
       "      <td>488527.0</td>\n",
       "      <td>1.896964</td>\n",
       "      <td>1.467226</td>\n",
       "      <td>0.061118</td>\n",
       "      <td>204882.6</td>\n",
       "      <td>133188.9</td>\n",
       "      <td>149773.0</td>\n",
       "    </tr>\n",
       "    <tr>\n",
       "      <th>2021-10-01</th>\n",
       "      <td>Service Icon</td>\n",
       "      <td>1356824.3</td>\n",
       "      <td>695981.0</td>\n",
       "      <td>1.949513</td>\n",
       "      <td>336819.6</td>\n",
       "      <td>148694.0</td>\n",
       "      <td>-547287.0</td>\n",
       "      <td>2.265186</td>\n",
       "      <td>0.213647</td>\n",
       "      <td>62088.0</td>\n",
       "      <td>...</td>\n",
       "      <td>1381.457014</td>\n",
       "      <td>2305.243947</td>\n",
       "      <td>1360.126719</td>\n",
       "      <td>40653.6</td>\n",
       "      <td>1.527245</td>\n",
       "      <td>1.551196</td>\n",
       "      <td>0.058412</td>\n",
       "      <td>9101.3</td>\n",
       "      <td>17491.5</td>\n",
       "      <td>13997.1</td>\n",
       "    </tr>\n",
       "    <tr>\n",
       "      <th>2021-10-01</th>\n",
       "      <td>Feature Seller</td>\n",
       "      <td>304528.9</td>\n",
       "      <td>189560.8</td>\n",
       "      <td>1.606497</td>\n",
       "      <td>172854.5</td>\n",
       "      <td>111677.8</td>\n",
       "      <td>-77883.0</td>\n",
       "      <td>1.547796</td>\n",
       "      <td>0.589140</td>\n",
       "      <td>44129.8</td>\n",
       "      <td>...</td>\n",
       "      <td>1285.326165</td>\n",
       "      <td>2471.909920</td>\n",
       "      <td>1612.047661</td>\n",
       "      <td>27952.6</td>\n",
       "      <td>1.578737</td>\n",
       "      <td>1.258767</td>\n",
       "      <td>0.147460</td>\n",
       "      <td>11048.7</td>\n",
       "      <td>9161.1</td>\n",
       "      <td>7715.5</td>\n",
       "    </tr>\n",
       "    <tr>\n",
       "      <th>2021-10-01</th>\n",
       "      <td>Power Seller Push</td>\n",
       "      <td>375918.4</td>\n",
       "      <td>250411.2</td>\n",
       "      <td>1.501204</td>\n",
       "      <td>166723.7</td>\n",
       "      <td>100555.0</td>\n",
       "      <td>-149856.2</td>\n",
       "      <td>1.658035</td>\n",
       "      <td>0.401560</td>\n",
       "      <td>35448.4</td>\n",
       "      <td>...</td>\n",
       "      <td>1200.189306</td>\n",
       "      <td>3424.017786</td>\n",
       "      <td>1305.415317</td>\n",
       "      <td>24217.7</td>\n",
       "      <td>1.463739</td>\n",
       "      <td>1.345751</td>\n",
       "      <td>0.096712</td>\n",
       "      <td>4525.3</td>\n",
       "      <td>11082.5</td>\n",
       "      <td>8607.3</td>\n",
       "    </tr>\n",
       "    <tr>\n",
       "      <th>2021-10-01</th>\n",
       "      <td>Unpaid Media</td>\n",
       "      <td>1517633.0</td>\n",
       "      <td>1178791.9</td>\n",
       "      <td>1.287448</td>\n",
       "      <td>346746.4</td>\n",
       "      <td>253386.9</td>\n",
       "      <td>-925405.0</td>\n",
       "      <td>1.368446</td>\n",
       "      <td>0.214955</td>\n",
       "      <td>33628.4</td>\n",
       "      <td>...</td>\n",
       "      <td>557.991457</td>\n",
       "      <td>3814.514535</td>\n",
       "      <td>1513.010797</td>\n",
       "      <td>9200.1</td>\n",
       "      <td>3.655221</td>\n",
       "      <td>1.348029</td>\n",
       "      <td>0.007805</td>\n",
       "      <td>2525.9</td>\n",
       "      <td>3647.8</td>\n",
       "      <td>3018.6</td>\n",
       "    </tr>\n",
       "  </tbody>\n",
       "</table>\n",
       "<p>5 rows × 27 columns</p>\n",
       "</div>"
      ],
      "text/plain": [
       "                       channel  Non unique Traffic  Unique traffic  \\\n",
       "Month                                                                \n",
       "2021-10-01  Direct/Seller Push          15328548.3       7993160.5   \n",
       "2021-10-01        Service Icon           1356824.3        695981.0   \n",
       "2021-10-01      Feature Seller            304528.9        189560.8   \n",
       "2021-10-01   Power Seller Push            375918.4        250411.2   \n",
       "2021-10-01        Unpaid Media           1517633.0       1178791.9   \n",
       "\n",
       "            Repeated Visit Traffic Rate  Non unique visit product  \\\n",
       "Month                                                               \n",
       "2021-10-01                     1.917708                 6831857.5   \n",
       "2021-10-01                     1.949513                  336819.6   \n",
       "2021-10-01                     1.606497                  172854.5   \n",
       "2021-10-01                     1.501204                  166723.7   \n",
       "2021-10-01                     1.287448                  346746.4   \n",
       "\n",
       "            Unique visit product  Unique Drop-off  \\\n",
       "Month                                               \n",
       "2021-10-01             3598925.2       -4394235.3   \n",
       "2021-10-01              148694.0        -547287.0   \n",
       "2021-10-01              111677.8         -77883.0   \n",
       "2021-10-01              100555.0        -149856.2   \n",
       "2021-10-01              253386.9        -925405.0   \n",
       "\n",
       "            Repeated Visit Product Rate  Visit Rate  Add carts  ...  \\\n",
       "Month                                                           ...   \n",
       "2021-10-01                     1.898305    0.450251   926718.0  ...   \n",
       "2021-10-01                     2.265186    0.213647    62088.0  ...   \n",
       "2021-10-01                     1.547796    0.589140    44129.8  ...   \n",
       "2021-10-01                     1.658035    0.401560    35448.4  ...   \n",
       "2021-10-01                     1.368446    0.214955    33628.4  ...   \n",
       "\n",
       "            Value per Cart  Value per Order  Value per Place order  Customer  \\\n",
       "Month                                                                          \n",
       "2021-10-01      849.463207      1712.586554            1098.263308  488527.0   \n",
       "2021-10-01     1381.457014      2305.243947            1360.126719   40653.6   \n",
       "2021-10-01     1285.326165      2471.909920            1612.047661   27952.6   \n",
       "2021-10-01     1200.189306      3424.017786            1305.415317   24217.7   \n",
       "2021-10-01      557.991457      3814.514535            1513.010797    9200.1   \n",
       "\n",
       "            Cart per Customer  Order per Customer  \\\n",
       "Month                                               \n",
       "2021-10-01           1.896964            1.467226   \n",
       "2021-10-01           1.527245            1.551196   \n",
       "2021-10-01           1.578737            1.258767   \n",
       "2021-10-01           1.463739            1.345751   \n",
       "2021-10-01           3.655221            1.348029   \n",
       "\n",
       "            Conversion rate (Traffic/Customer)  New customer  \\\n",
       "Month                                                          \n",
       "2021-10-01                            0.061118      204882.6   \n",
       "2021-10-01                            0.058412        9101.3   \n",
       "2021-10-01                            0.147460       11048.7   \n",
       "2021-10-01                            0.096712        4525.3   \n",
       "2021-10-01                            0.007805        2525.9   \n",
       "\n",
       "            Existing customer  Resurrect customer  \n",
       "Month                                              \n",
       "2021-10-01           133188.9            149773.0  \n",
       "2021-10-01            17491.5             13997.1  \n",
       "2021-10-01             9161.1              7715.5  \n",
       "2021-10-01            11082.5              8607.3  \n",
       "2021-10-01             3647.8              3018.6  \n",
       "\n",
       "[5 rows x 27 columns]"
      ]
     },
     "execution_count": 25,
     "metadata": {},
     "output_type": "execute_result"
    }
   ],
   "source": [
    "xlsx = xlsx.parse(sheet_name=\"TrafficChannelFixed\", index_col=0)\n",
    "df = pd.DataFrame(xlsx)\n",
    "df.head()"
   ]
  },
  {
   "cell_type": "code",
   "execution_count": 26,
   "metadata": {},
   "outputs": [
    {
     "data": {
      "text/plain": [
       "<Response [200]>"
      ]
     },
     "execution_count": 26,
     "metadata": {},
     "output_type": "execute_result"
    }
   ],
   "source": [
    "import requests\n",
    "\n",
    "url = \"https://api.github.com/repos/pandas-dev/pandas/issues\"\n",
    "\n",
    "resp = requests.get(url)\n",
    "resp.raise_for_status()\n",
    "resp"
   ]
  },
  {
   "cell_type": "code",
   "execution_count": 27,
   "metadata": {},
   "outputs": [
    {
     "data": {
      "text/plain": [
       "0    1.0\n",
       "1    NaN\n",
       "2    3.5\n",
       "4    7.0\n",
       "dtype: float64"
      ]
     },
     "execution_count": 27,
     "metadata": {},
     "output_type": "execute_result"
    }
   ],
   "source": [
    "data = pd.Series([1., np.nan, 3.5, np.nan, 7])\n",
    "\n",
    "data.fillna(data.mean())\n",
    "data.duplicated()\n",
    "data.drop_duplicates()"
   ]
  },
  {
   "cell_type": "code",
   "execution_count": 28,
   "metadata": {},
   "outputs": [
    {
     "data": {
      "text/plain": [
       "['foo', 'bar', 'baz', 'qux']"
      ]
     },
     "execution_count": 28,
     "metadata": {},
     "output_type": "execute_result"
    }
   ],
   "source": [
    "import re\n",
    "\n",
    "text = \"foo    bar\\t baz  \\tqux\"\n",
    "\n",
    "re.split(r\"\\s+\", text)"
   ]
  },
  {
   "cell_type": "code",
   "execution_count": 29,
   "metadata": {},
   "outputs": [
    {
     "name": "stdout",
     "output_type": "stream",
     "text": [
      "['dave@google.com', 'steve@gmail.com', 'rob@gmail.com', 'ryan@yahoo.com']\n"
     ]
    }
   ],
   "source": [
    "text = \"\"\"Dave dave@google.com\n",
    "Steve steve@gmail.com\n",
    "Rob rob@gmail.com\n",
    "Ryan ryan@yahoo.com\"\"\"\n",
    "pattern = r\"[A-Z0-9._%+-]+@[A-Z0-9.-]+\\.[A-Z]{2,4}\"\n",
    "regex = re.compile(pattern, flags=re.IGNORECASE)\n",
    "print(regex.findall(text))"
   ]
  },
  {
   "cell_type": "code",
   "execution_count": 30,
   "metadata": {},
   "outputs": [
    {
     "data": {
      "text/html": [
       "<div>\n",
       "<style scoped>\n",
       "    .dataframe tbody tr th:only-of-type {\n",
       "        vertical-align: middle;\n",
       "    }\n",
       "\n",
       "    .dataframe tbody tr th {\n",
       "        vertical-align: top;\n",
       "    }\n",
       "\n",
       "    .dataframe thead th {\n",
       "        text-align: right;\n",
       "    }\n",
       "</style>\n",
       "<table border=\"1\" class=\"dataframe\">\n",
       "  <thead>\n",
       "    <tr style=\"text-align: right;\">\n",
       "      <th></th>\n",
       "      <th>key</th>\n",
       "      <th>data1</th>\n",
       "      <th>data2</th>\n",
       "    </tr>\n",
       "  </thead>\n",
       "  <tbody>\n",
       "    <tr>\n",
       "      <th>0</th>\n",
       "      <td>b</td>\n",
       "      <td>0</td>\n",
       "      <td>1</td>\n",
       "    </tr>\n",
       "    <tr>\n",
       "      <th>1</th>\n",
       "      <td>b</td>\n",
       "      <td>0</td>\n",
       "      <td>3</td>\n",
       "    </tr>\n",
       "    <tr>\n",
       "      <th>2</th>\n",
       "      <td>b</td>\n",
       "      <td>1</td>\n",
       "      <td>1</td>\n",
       "    </tr>\n",
       "    <tr>\n",
       "      <th>3</th>\n",
       "      <td>b</td>\n",
       "      <td>1</td>\n",
       "      <td>3</td>\n",
       "    </tr>\n",
       "    <tr>\n",
       "      <th>4</th>\n",
       "      <td>a</td>\n",
       "      <td>2</td>\n",
       "      <td>0</td>\n",
       "    </tr>\n",
       "    <tr>\n",
       "      <th>5</th>\n",
       "      <td>a</td>\n",
       "      <td>2</td>\n",
       "      <td>2</td>\n",
       "    </tr>\n",
       "    <tr>\n",
       "      <th>6</th>\n",
       "      <td>c</td>\n",
       "      <td>3</td>\n",
       "      <td>&lt;NA&gt;</td>\n",
       "    </tr>\n",
       "    <tr>\n",
       "      <th>7</th>\n",
       "      <td>a</td>\n",
       "      <td>4</td>\n",
       "      <td>0</td>\n",
       "    </tr>\n",
       "    <tr>\n",
       "      <th>8</th>\n",
       "      <td>a</td>\n",
       "      <td>4</td>\n",
       "      <td>2</td>\n",
       "    </tr>\n",
       "    <tr>\n",
       "      <th>9</th>\n",
       "      <td>b</td>\n",
       "      <td>5</td>\n",
       "      <td>1</td>\n",
       "    </tr>\n",
       "    <tr>\n",
       "      <th>10</th>\n",
       "      <td>b</td>\n",
       "      <td>5</td>\n",
       "      <td>3</td>\n",
       "    </tr>\n",
       "  </tbody>\n",
       "</table>\n",
       "</div>"
      ],
      "text/plain": [
       "   key  data1  data2\n",
       "0    b      0      1\n",
       "1    b      0      3\n",
       "2    b      1      1\n",
       "3    b      1      3\n",
       "4    a      2      0\n",
       "5    a      2      2\n",
       "6    c      3   <NA>\n",
       "7    a      4      0\n",
       "8    a      4      2\n",
       "9    b      5      1\n",
       "10   b      5      3"
      ]
     },
     "execution_count": 30,
     "metadata": {},
     "output_type": "execute_result"
    }
   ],
   "source": [
    "df1 = pd.DataFrame({\"key\": [\"b\", \"b\", \"a\", \"c\", \"a\", \"b\"], \"data1\": pd.Series(range(6), dtype=\"Int64\")})\n",
    "df2 = pd.DataFrame({\"key\": [\"a\", \"b\", \"a\", \"b\", \"d\"], \"data2\": pd.Series(range(5), dtype=\"Int64\")})\n",
    "\n",
    "pd.merge(df1, df2, on=\"key\", how=\"left\")"
   ]
  },
  {
   "cell_type": "code",
   "execution_count": 31,
   "metadata": {},
   "outputs": [
    {
     "data": {
      "text/plain": [
       "Text(0.5, 1.0, 'Important dates in the 2008-2009 financial crisis')"
      ]
     },
     "execution_count": 31,
     "metadata": {},
     "output_type": "execute_result"
    },
    {
     "data": {
      "image/png": "[encoded data removed]",
      "text/plain": [
       "<Figure size 432x288 with 1 Axes>"
      ]
     },
     "metadata": {
      "needs_background": "light"
     },
     "output_type": "display_data"
    }
   ],
   "source": [
    "from datetime import datetime\n",
    "\n",
    "fig, ax = plt.subplots()\n",
    "\n",
    "csvfile = os.path.abspath(r\"C:\\datasets\\spx.csv\")\n",
    "\n",
    "data = pd.read_csv(csvfile, index_col=0, parse_dates=True)\n",
    "spx = data[\"SPX\"]\n",
    "\n",
    "spx.plot(ax=ax, color=\"black\")\n",
    "\n",
    "crisis_data = [\n",
    "    (datetime(2007, 10, 11), \"Peak of bull market\"),\n",
    "    (datetime(2008, 3, 12), \"Bear Stearns Fails\"),\n",
    "    (datetime(2008, 9, 15), \"Lehman Bankruptcy\")\n",
    "]\n",
    "\n",
    "for date, label in crisis_data:\n",
    "    ax.annotate(label, xy=(date, spx.asof(date) + 75),\n",
    "                xytext=(date, spx.asof(date) + 225),\n",
    "                arrowprops=dict(facecolor=\"black\", headwidth=4, width=2,\n",
    "                                headlength=4),\n",
    "                horizontalalignment=\"left\", verticalalignment=\"top\")\n",
    "\n",
    "# Zoom in on 2007-2010\n",
    "ax.set_xlim([\"1/1/2007\", \"1/1/2011\"])\n",
    "ax.set_ylim([600, 1800])\n",
    "\n",
    "ax.set_title(\"Important dates in the 2008-2009 financial crisis\")"
   ]
  }
 ],
 "metadata": {
  "interpreter": {
   "hash": "a7903cbe0028acc9a01758d2d62c49409959836c9fa4053db80aaad13d9c51a0"
  },
  "kernelspec": {
   "display_name": "Python 3.9.12 ('base')",
   "language": "python",
   "name": "python3"
  },
  "language_info": {
   "codemirror_mode": {
    "name": "ipython",
    "version": 3
   },
   "file_extension": ".py",
   "mimetype": "text/x-python",
   "name": "python",
   "nbconvert_exporter": "python",
   "pygments_lexer": "ipython3",
   "version": "3.9.12"
  },
  "orig_nbformat": 4
 },
 "nbformat": 4,
 "nbformat_minor": 2
}
