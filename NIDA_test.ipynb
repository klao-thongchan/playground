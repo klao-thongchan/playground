{
 "cells": [
  {
   "cell_type": "code",
   "execution_count": 13,
   "metadata": {},
   "outputs": [
    {
     "name": "stdout",
     "output_type": "stream",
     "text": [
      "GPU 0: NVIDIA GeForce MX250 (UUID: GPU-c6d90507-8df7-bc92-8f19-ab0bf090df92)\n"
     ]
    }
   ],
   "source": [
    "!nvidia-smi -L"
   ]
  },
  {
   "cell_type": "code",
   "execution_count": 5,
   "metadata": {},
   "outputs": [],
   "source": [
    "import tensorflow as tf\n",
    "import numpy as np\n",
    "import matplotlib.pyplot as plt"
   ]
  },
  {
   "cell_type": "code",
   "execution_count": 6,
   "metadata": {},
   "outputs": [
    {
     "name": "stdout",
     "output_type": "stream",
     "text": [
      "Downloading data from https://storage.googleapis.com/tensorflow/tf-keras-datasets/mnist.npz\n",
      "11493376/11490434 [==============================] - 2s 0us/step\n",
      "11501568/11490434 [==============================] - 2s 0us/step\n"
     ]
    }
   ],
   "source": [
    "(x_train,y_train), (x_test,y_test) = tf.keras.datasets.mnist.load_data()\n",
    "#เรียกโหลด dataset สำเร็จรูปที่ชื่อว่า mnist\n",
    "#ข้อมูลส่วนนึง เราจะเอามา train model และก็ต้องแบ่งไว้อีกส่วนหนึ่งสำหรับ test model\n",
    "#เพื่อให้แน่ใจว่า model ใช้งานได้ ก็ต้องกั๊กข้อมูลไว้ test บ้าง"
   ]
  },
  {
   "cell_type": "code",
   "execution_count": 7,
   "metadata": {},
   "outputs": [
    {
     "name": "stdout",
     "output_type": "stream",
     "text": [
      "x คือ input ที่ใช้ train model\n",
      "x_train : (60000, 28, 28) uint8 0 255\n",
      "x_test : (10000, 28, 28) uint8 0 255\n",
      "y คือ ผลลัพท์ กรณีนี้มนุษย์เตรียมให้ สำหรับเรียนรู้ ถ้าทำเองก็ไม่ต้องมี y ให้ x predict y แล้วค่อยมาตรวจสอบอีกที\n",
      "y_train : (60000,) uint8 0 9\n",
      "y_test : (10000,) uint8 0 9\n"
     ]
    }
   ],
   "source": [
    "print(\"x คือ input ที่ใช้ train model\")\n",
    "print(\"x_train :\", x_train.shape, x_train.dtype, np.min(x_train), np.max(x_train))\n",
    "print(\"x_test :\", x_test.shape, x_test.dtype, np.min(x_test), np.max(x_test))\n",
    "\n",
    "print(\"y คือ ผลลัพท์ กรณีนี้มนุษย์เตรียมให้ สำหรับเรียนรู้ ถ้าทำเองก็ไม่ต้องมี y ให้ x predict y แล้วค่อยมาตรวจสอบอีกที\")\n",
    "print(\"y_train :\", y_train.shape, y_train.dtype, np.min(y_train), np.max(y_train))\n",
    "print(\"y_test :\",y_test.shape, y_test.dtype, np.min(y_test), np.max(y_test))"
   ]
  },
  {
   "cell_type": "code",
   "execution_count": 8,
   "metadata": {},
   "outputs": [
    {
     "data": {
      "image/png": "[encoded data removed]",
      "text/plain": [
       "<Figure size 432x288 with 1 Axes>"
      ]
     },
     "metadata": {
      "needs_background": "light"
     },
     "output_type": "display_data"
    },
    {
     "name": "stdout",
     "output_type": "stream",
     "text": [
      "5\n"
     ]
    }
   ],
   "source": [
    "plt.imshow(x_train[0]) #ดูรูปแรกที่โหลดมาของ x_train\n",
    "plt.show()\n",
    "print(y_train[0]) #ดูเฉลย"
   ]
  },
  {
   "cell_type": "code",
   "execution_count": 9,
   "metadata": {},
   "outputs": [
    {
     "name": "stdout",
     "output_type": "stream",
     "text": [
      "x_train_np : (60000, 784) float32 0.0 1.0\n",
      "x_test_np : (10000, 784) float32 0.0 1.0\n"
     ]
    }
   ],
   "source": [
    "#เตรียม data ให้พร้อมทำ deep learning\n",
    "\n",
    "x_train_np = x_train/255\n",
    "x_test_np = x_test/255\n",
    "#เป็นการ scaling\n",
    "# deeplearning จะชอบแบบนี้ (ค่าทศนิยม)\n",
    "\n",
    "x_train_np = np.reshape(x_train_np, (-1,28*28)) #เปลี่ยนภาพ 28*28 ให้เป็นภาพแนวเส้นตรง\n",
    "x_test_np = np.reshape(x_test_np, (-1,28*28))\n",
    "\n",
    "x_train_np = x_train_np.astype(np.float32) #เปลี่ยน type ให้เป็น float32, deep learning จะเข้าใจมากกว่า\n",
    "x_test_np = x_test_np.astype(np.float32)\n",
    "\n",
    "print(\"x_train_np :\", x_train_np.shape, x_train_np.dtype, np.min(x_train_np), np.max(x_train_np))\n",
    "print(\"x_test_np :\", x_test_np.shape, x_test_np.dtype, np.min(x_test_np), np.max(x_test_np))"
   ]
  },
  {
   "cell_type": "code",
   "execution_count": 10,
   "metadata": {},
   "outputs": [
    {
     "name": "stdout",
     "output_type": "stream",
     "text": [
      "Model: \"sequential\"\n",
      "_________________________________________________________________\n",
      " Layer (type)                Output Shape              Param #   \n",
      "=================================================================\n",
      " dense (Dense)               (None, 64)                50240     \n",
      "                                                                 \n",
      " dense_1 (Dense)             (None, 128)               8320      \n",
      "                                                                 \n",
      " dense_2 (Dense)             (None, 64)                8256      \n",
      "                                                                 \n",
      " dense_3 (Dense)             (None, 10)                650       \n",
      "                                                                 \n",
      "=================================================================\n",
      "Total params: 67,466\n",
      "Trainable params: 67,466\n",
      "Non-trainable params: 0\n",
      "_________________________________________________________________\n"
     ]
    }
   ],
   "source": [
    "#สร้าง model\n",
    "\n",
    "model = tf.keras.Sequential()\n",
    "\n",
    "#layer แรก\n",
    "model.add(tf.keras.layers.Input((28*28,)))\n",
    "#ยังไม่ได้ดูว่าทำไมต้องมี , หลัง 28*28\n",
    "\n",
    "#hidden layer\n",
    "model.add(tf.keras.layers.Dense(64, activation='relu')) #ยังไม่รู้ว่าทำไมต้องมี relu\n",
    "model.add(tf.keras.layers.Dense(128, activation='relu'))\n",
    "model.add(tf.keras.layers.Dense(64, activation='relu'))\n",
    "#layer2 จะมี 64 node, layer3 จะมี 128 node\n",
    "#ไม่มีกฏตายตัวว่า hidden layer ต้องมีกี่ node เราสามารถเปลี่ยนได้ตามใจ\n",
    "\n",
    "#output layer (ต้องการ output 10)\n",
    "model.add(tf.keras.layers.Dense(10, activation='softmax')) #ไม่รู้ว่าทำเป็น softmax\n",
    "\n",
    "#train model\n",
    "model.summary()"
   ]
  },
  {
   "cell_type": "code",
   "execution_count": 11,
   "metadata": {},
   "outputs": [
    {
     "name": "stdout",
     "output_type": "stream",
     "text": [
      "Epoch 1/10\n",
      "469/469 [==============================] - 1s 2ms/step - loss: 0.3581 - acc: 0.8970 - val_loss: 0.1629 - val_acc: 0.9527\n",
      "Epoch 2/10\n",
      "469/469 [==============================] - 1s 2ms/step - loss: 0.1409 - acc: 0.9589 - val_loss: 0.1297 - val_acc: 0.9623\n",
      "Epoch 3/10\n",
      "469/469 [==============================] - 1s 2ms/step - loss: 0.1004 - acc: 0.9699 - val_loss: 0.1208 - val_acc: 0.9637\n",
      "Epoch 4/10\n",
      "469/469 [==============================] - 1s 2ms/step - loss: 0.0785 - acc: 0.9753 - val_loss: 0.0951 - val_acc: 0.9685\n",
      "Epoch 5/10\n",
      "469/469 [==============================] - 1s 2ms/step - loss: 0.0633 - acc: 0.9804 - val_loss: 0.0911 - val_acc: 0.9729\n",
      "Epoch 6/10\n",
      "469/469 [==============================] - 1s 2ms/step - loss: 0.0509 - acc: 0.9841 - val_loss: 0.0827 - val_acc: 0.9747\n",
      "Epoch 7/10\n",
      "469/469 [==============================] - 1s 2ms/step - loss: 0.0437 - acc: 0.9860 - val_loss: 0.0903 - val_acc: 0.9754\n",
      "Epoch 8/10\n",
      "469/469 [==============================] - 1s 2ms/step - loss: 0.0359 - acc: 0.9888 - val_loss: 0.0879 - val_acc: 0.9740\n",
      "Epoch 9/10\n",
      "469/469 [==============================] - 1s 2ms/step - loss: 0.0302 - acc: 0.9898 - val_loss: 0.0890 - val_acc: 0.9732\n",
      "Epoch 10/10\n",
      "469/469 [==============================] - 1s 2ms/step - loss: 0.0281 - acc: 0.9907 - val_loss: 0.0936 - val_acc: 0.9752\n"
     ]
    },
    {
     "data": {
      "text/plain": [
       "<keras.callbacks.History at 0x15bb7035f10>"
      ]
     },
     "execution_count": 11,
     "metadata": {},
     "output_type": "execute_result"
    }
   ],
   "source": [
    "model.compile(loss='sparse_categorical_crossentropy', optimizer='adam', metrics=['acc'])\n",
    "\n",
    "#train model\n",
    "model.fit(x_train_np, y_train, epochs=10, batch_size=128, validation_data=(x_test_np, y_test))\n",
    "#epochs = เทรนกี่รอบ\n",
    "#validation_data = โยนข้อมูลไปทดสอบด้วย"
   ]
  },
  {
   "cell_type": "code",
   "execution_count": 12,
   "metadata": {},
   "outputs": [
    {
     "name": "stdout",
     "output_type": "stream",
     "text": [
      "[[9.5431560e-08 1.6904304e-09 1.8883020e-07 3.5645858e-06 7.3629736e-10\n",
      "  1.0387276e-10 4.4684976e-12 9.9999189e-01 1.2476993e-08 4.2500315e-06]]\n"
     ]
    }
   ],
   "source": [
    "y_pred = model.predict(np.reshape(x_test_np[0],(1,28*28)))\n",
    "print(y_pred)\n",
    "\n",
    "#output ค่าไหนเยอะสุด ค่านั้นคือคำตอบ (จะเห็นว่าเป็นค่าที่สาม จากหลังสุด = 9.9999738e-01)"
   ]
  }
 ],
 "metadata": {
  "interpreter": {
   "hash": "89a8cfedefd405a11d6bfa4a37e16a840bca1c40d5ba9902a9fc9c9614fd8e61"
  },
  "kernelspec": {
   "display_name": "Python 3.9.11 64-bit (windows store)",
   "language": "python",
   "name": "python3"
  },
  "language_info": {
   "codemirror_mode": {
    "name": "ipython",
    "version": 3
   },
   "file_extension": ".py",
   "mimetype": "text/x-python",
   "name": "python",
   "nbconvert_exporter": "python",
   "pygments_lexer": "ipython3",
   "version": "3.9.11"
  },
  "orig_nbformat": 4
 },
 "nbformat": 4,
 "nbformat_minor": 2
}
